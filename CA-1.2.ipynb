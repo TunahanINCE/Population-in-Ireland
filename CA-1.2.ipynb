{
 "cells": [
  {
   "cell_type": "markdown",
   "id": "47ad3e95",
   "metadata": {},
   "source": [
    "# Population in Ireland"
   ]
  },
  {
   "cell_type": "markdown",
   "id": "b4aadd64",
   "metadata": {},
   "source": [
    "## 1 Data Reading and Cleaning"
   ]
  },
  {
   "cell_type": "markdown",
   "id": "8a42f254",
   "metadata": {},
   "source": [
    "### 1.1 Reading Data"
   ]
  },
  {
   "cell_type": "markdown",
   "id": "2890bf6d",
   "metadata": {},
   "source": [
    "We use some useful libraries for our project.\n",
    "These are:\n",
    "- Pandas: A versatile data manipulation and analysis library. It provides easy-to-use data structures and functions for working with structured data, making it an essential tool for data processing and analysis.\n",
    "- Numpy: A fundamental library for numerical operations in Python. It offers support for arrays, matrices, and various mathematical functions, making it an essential tool for scientific computing and data analysis.\n",
    "- Seaborn: A data visualization library based on Matplotlib. Seaborn provides an interface for creating informative and attractive statistical graphics, which is particularly useful for exploring and understanding complex datasets.\n",
    "- Matplotlib.pyplot: A widely used plotting library for creating static, animated, or interactive visualizations in Python. It is a fundamental tool for data visualization and report generation in a wide range of domains.\n",
    "- %matplotlib inline: This magic command in Jupyter Notebook allows the generated plots or visualizations to be displayed directly within the notebook. It's particularly useful when using libraries like Matplotlib for data visualization."
   ]
  },
  {
   "cell_type": "code",
   "execution_count": 1,
   "id": "0e035e2c",
   "metadata": {},
   "outputs": [],
   "source": [
    "import pandas as pd               # Used for data analysis and processing.\n",
    "import numpy as np                # Used for multi-dimensional arrays and mathematical operations.\n",
    "import seaborn as sns             # Provides a high-level interface for data visualization.\n",
    "import matplotlib.pyplot as plt   # Used for creating plots and graphs.\n",
    "%matplotlib inline\n",
    "sns.set(color_codes=True)"
   ]
  },
  {
   "cell_type": "code",
   "execution_count": 2,
   "id": "c0cfc809",
   "metadata": {},
   "outputs": [],
   "source": [
    "df=pd.read_csv(\"PEA01.20231007T221014.csv\") # we read dataset"
   ]
  },
  {
   "cell_type": "code",
   "execution_count": 3,
   "id": "98effea1",
   "metadata": {
    "scrolled": false
   },
   "outputs": [
    {
     "data": {
      "text/html": [
       "<div>\n",
       "<style scoped>\n",
       "    .dataframe tbody tr th:only-of-type {\n",
       "        vertical-align: middle;\n",
       "    }\n",
       "\n",
       "    .dataframe tbody tr th {\n",
       "        vertical-align: top;\n",
       "    }\n",
       "\n",
       "    .dataframe thead th {\n",
       "        text-align: right;\n",
       "    }\n",
       "</style>\n",
       "<table border=\"1\" class=\"dataframe\">\n",
       "  <thead>\n",
       "    <tr style=\"text-align: right;\">\n",
       "      <th></th>\n",
       "      <th>STATISTIC Label</th>\n",
       "      <th>Year</th>\n",
       "      <th>Age Group</th>\n",
       "      <th>Sex</th>\n",
       "      <th>UNIT</th>\n",
       "      <th>VALUE</th>\n",
       "    </tr>\n",
       "  </thead>\n",
       "  <tbody>\n",
       "    <tr>\n",
       "      <th>0</th>\n",
       "      <td>Population Estimates (Persons in April)</td>\n",
       "      <td>1950</td>\n",
       "      <td>Under 1 year</td>\n",
       "      <td>Both sexes</td>\n",
       "      <td>Thousand</td>\n",
       "      <td>61.1</td>\n",
       "    </tr>\n",
       "    <tr>\n",
       "      <th>1</th>\n",
       "      <td>Population Estimates (Persons in April)</td>\n",
       "      <td>1950</td>\n",
       "      <td>Under 1 year</td>\n",
       "      <td>Male</td>\n",
       "      <td>Thousand</td>\n",
       "      <td>31.4</td>\n",
       "    </tr>\n",
       "    <tr>\n",
       "      <th>2</th>\n",
       "      <td>Population Estimates (Persons in April)</td>\n",
       "      <td>1950</td>\n",
       "      <td>Under 1 year</td>\n",
       "      <td>Female</td>\n",
       "      <td>Thousand</td>\n",
       "      <td>29.7</td>\n",
       "    </tr>\n",
       "    <tr>\n",
       "      <th>3</th>\n",
       "      <td>Population Estimates (Persons in April)</td>\n",
       "      <td>1950</td>\n",
       "      <td>0 - 4 years</td>\n",
       "      <td>Both sexes</td>\n",
       "      <td>Thousand</td>\n",
       "      <td>NaN</td>\n",
       "    </tr>\n",
       "    <tr>\n",
       "      <th>4</th>\n",
       "      <td>Population Estimates (Persons in April)</td>\n",
       "      <td>1950</td>\n",
       "      <td>0 - 4 years</td>\n",
       "      <td>Male</td>\n",
       "      <td>Thousand</td>\n",
       "      <td>NaN</td>\n",
       "    </tr>\n",
       "  </tbody>\n",
       "</table>\n",
       "</div>"
      ],
      "text/plain": [
       "                           STATISTIC Label  Year     Age Group         Sex  \\\n",
       "0  Population Estimates (Persons in April)  1950  Under 1 year  Both sexes   \n",
       "1  Population Estimates (Persons in April)  1950  Under 1 year        Male   \n",
       "2  Population Estimates (Persons in April)  1950  Under 1 year      Female   \n",
       "3  Population Estimates (Persons in April)  1950   0 - 4 years  Both sexes   \n",
       "4  Population Estimates (Persons in April)  1950   0 - 4 years        Male   \n",
       "\n",
       "       UNIT  VALUE  \n",
       "0  Thousand   61.1  \n",
       "1  Thousand   31.4  \n",
       "2  Thousand   29.7  \n",
       "3  Thousand    NaN  \n",
       "4  Thousand    NaN  "
      ]
     },
     "execution_count": 3,
     "metadata": {},
     "output_type": "execute_result"
    }
   ],
   "source": [
    "df.head(5) # We dispplay first 5 rows"
   ]
  },
  {
   "cell_type": "code",
   "execution_count": 4,
   "id": "fc2fdd39",
   "metadata": {},
   "outputs": [
    {
     "data": {
      "text/html": [
       "<div>\n",
       "<style scoped>\n",
       "    .dataframe tbody tr th:only-of-type {\n",
       "        vertical-align: middle;\n",
       "    }\n",
       "\n",
       "    .dataframe tbody tr th {\n",
       "        vertical-align: top;\n",
       "    }\n",
       "\n",
       "    .dataframe thead th {\n",
       "        text-align: right;\n",
       "    }\n",
       "</style>\n",
       "<table border=\"1\" class=\"dataframe\">\n",
       "  <thead>\n",
       "    <tr style=\"text-align: right;\">\n",
       "      <th></th>\n",
       "      <th>STATISTIC Label</th>\n",
       "      <th>Year</th>\n",
       "      <th>Age Group</th>\n",
       "      <th>Sex</th>\n",
       "      <th>UNIT</th>\n",
       "      <th>VALUE</th>\n",
       "    </tr>\n",
       "  </thead>\n",
       "  <tbody>\n",
       "    <tr>\n",
       "      <th>5989</th>\n",
       "      <td>Population Estimates (Persons in April)</td>\n",
       "      <td>2023</td>\n",
       "      <td>85 years and over</td>\n",
       "      <td>Male</td>\n",
       "      <td>Thousand</td>\n",
       "      <td>33.1</td>\n",
       "    </tr>\n",
       "    <tr>\n",
       "      <th>5990</th>\n",
       "      <td>Population Estimates (Persons in April)</td>\n",
       "      <td>2023</td>\n",
       "      <td>85 years and over</td>\n",
       "      <td>Female</td>\n",
       "      <td>Thousand</td>\n",
       "      <td>53.9</td>\n",
       "    </tr>\n",
       "    <tr>\n",
       "      <th>5991</th>\n",
       "      <td>Population Estimates (Persons in April)</td>\n",
       "      <td>2023</td>\n",
       "      <td>All ages</td>\n",
       "      <td>Both sexes</td>\n",
       "      <td>Thousand</td>\n",
       "      <td>5281.6</td>\n",
       "    </tr>\n",
       "    <tr>\n",
       "      <th>5992</th>\n",
       "      <td>Population Estimates (Persons in April)</td>\n",
       "      <td>2023</td>\n",
       "      <td>All ages</td>\n",
       "      <td>Male</td>\n",
       "      <td>Thousand</td>\n",
       "      <td>2606.2</td>\n",
       "    </tr>\n",
       "    <tr>\n",
       "      <th>5993</th>\n",
       "      <td>Population Estimates (Persons in April)</td>\n",
       "      <td>2023</td>\n",
       "      <td>All ages</td>\n",
       "      <td>Female</td>\n",
       "      <td>Thousand</td>\n",
       "      <td>2675.4</td>\n",
       "    </tr>\n",
       "  </tbody>\n",
       "</table>\n",
       "</div>"
      ],
      "text/plain": [
       "                              STATISTIC Label  Year          Age Group  \\\n",
       "5989  Population Estimates (Persons in April)  2023  85 years and over   \n",
       "5990  Population Estimates (Persons in April)  2023  85 years and over   \n",
       "5991  Population Estimates (Persons in April)  2023           All ages   \n",
       "5992  Population Estimates (Persons in April)  2023           All ages   \n",
       "5993  Population Estimates (Persons in April)  2023           All ages   \n",
       "\n",
       "             Sex      UNIT   VALUE  \n",
       "5989        Male  Thousand    33.1  \n",
       "5990      Female  Thousand    53.9  \n",
       "5991  Both sexes  Thousand  5281.6  \n",
       "5992        Male  Thousand  2606.2  \n",
       "5993      Female  Thousand  2675.4  "
      ]
     },
     "execution_count": 4,
     "metadata": {},
     "output_type": "execute_result"
    }
   ],
   "source": [
    "df.tail(5) # We display last 5 rows"
   ]
  },
  {
   "cell_type": "code",
   "execution_count": 16,
   "id": "217d2ec3",
   "metadata": {},
   "outputs": [
    {
     "name": "stdout",
     "output_type": "stream",
     "text": [
      "Total Rows= 5994\n",
      "Total Columns= 6\n"
     ]
    }
   ],
   "source": [
    "total_rows=df.shape[0]\n",
    "total_columns=df.shape[1]\n",
    "print(f\"Total Rows= {total_rows}\")\n",
    "print(f\"Total Columns= {total_columns}\")"
   ]
  },
  {
   "cell_type": "code",
   "execution_count": 6,
   "id": "885996ae",
   "metadata": {
    "scrolled": true
   },
   "outputs": [
    {
     "data": {
      "text/html": [
       "<div>\n",
       "<style scoped>\n",
       "    .dataframe tbody tr th:only-of-type {\n",
       "        vertical-align: middle;\n",
       "    }\n",
       "\n",
       "    .dataframe tbody tr th {\n",
       "        vertical-align: top;\n",
       "    }\n",
       "\n",
       "    .dataframe thead th {\n",
       "        text-align: right;\n",
       "    }\n",
       "</style>\n",
       "<table border=\"1\" class=\"dataframe\">\n",
       "  <thead>\n",
       "    <tr style=\"text-align: right;\">\n",
       "      <th></th>\n",
       "      <th>Year</th>\n",
       "      <th>VALUE</th>\n",
       "    </tr>\n",
       "  </thead>\n",
       "  <tbody>\n",
       "    <tr>\n",
       "      <th>count</th>\n",
       "      <td>5994.000000</td>\n",
       "      <td>5880.000000</td>\n",
       "    </tr>\n",
       "    <tr>\n",
       "      <th>mean</th>\n",
       "      <td>1986.500000</td>\n",
       "      <td>347.001088</td>\n",
       "    </tr>\n",
       "    <tr>\n",
       "      <th>std</th>\n",
       "      <td>21.361791</td>\n",
       "      <td>601.822682</td>\n",
       "    </tr>\n",
       "    <tr>\n",
       "      <th>min</th>\n",
       "      <td>1950.000000</td>\n",
       "      <td>5.500000</td>\n",
       "    </tr>\n",
       "    <tr>\n",
       "      <th>25%</th>\n",
       "      <td>1968.000000</td>\n",
       "      <td>79.475000</td>\n",
       "    </tr>\n",
       "    <tr>\n",
       "      <th>50%</th>\n",
       "      <td>1986.500000</td>\n",
       "      <td>151.700000</td>\n",
       "    </tr>\n",
       "    <tr>\n",
       "      <th>75%</th>\n",
       "      <td>2005.000000</td>\n",
       "      <td>307.725000</td>\n",
       "    </tr>\n",
       "    <tr>\n",
       "      <th>max</th>\n",
       "      <td>2023.000000</td>\n",
       "      <td>5281.600000</td>\n",
       "    </tr>\n",
       "  </tbody>\n",
       "</table>\n",
       "</div>"
      ],
      "text/plain": [
       "              Year        VALUE\n",
       "count  5994.000000  5880.000000\n",
       "mean   1986.500000   347.001088\n",
       "std      21.361791   601.822682\n",
       "min    1950.000000     5.500000\n",
       "25%    1968.000000    79.475000\n",
       "50%    1986.500000   151.700000\n",
       "75%    2005.000000   307.725000\n",
       "max    2023.000000  5281.600000"
      ]
     },
     "execution_count": 6,
     "metadata": {},
     "output_type": "execute_result"
    }
   ],
   "source": [
    "df.describe()"
   ]
  },
  {
   "cell_type": "code",
   "execution_count": 7,
   "id": "6e9ec1e3",
   "metadata": {},
   "outputs": [
    {
     "data": {
      "text/html": [
       "<div>\n",
       "<style scoped>\n",
       "    .dataframe tbody tr th:only-of-type {\n",
       "        vertical-align: middle;\n",
       "    }\n",
       "\n",
       "    .dataframe tbody tr th {\n",
       "        vertical-align: top;\n",
       "    }\n",
       "\n",
       "    .dataframe thead th {\n",
       "        text-align: right;\n",
       "    }\n",
       "</style>\n",
       "<table border=\"1\" class=\"dataframe\">\n",
       "  <thead>\n",
       "    <tr style=\"text-align: right;\">\n",
       "      <th></th>\n",
       "      <th>STATISTIC Label</th>\n",
       "      <th>Age Group</th>\n",
       "      <th>Sex</th>\n",
       "      <th>UNIT</th>\n",
       "    </tr>\n",
       "  </thead>\n",
       "  <tbody>\n",
       "    <tr>\n",
       "      <th>count</th>\n",
       "      <td>5994</td>\n",
       "      <td>5994</td>\n",
       "      <td>5994</td>\n",
       "      <td>5994</td>\n",
       "    </tr>\n",
       "    <tr>\n",
       "      <th>unique</th>\n",
       "      <td>1</td>\n",
       "      <td>27</td>\n",
       "      <td>3</td>\n",
       "      <td>1</td>\n",
       "    </tr>\n",
       "    <tr>\n",
       "      <th>top</th>\n",
       "      <td>Population Estimates (Persons in April)</td>\n",
       "      <td>Under 1 year</td>\n",
       "      <td>Both sexes</td>\n",
       "      <td>Thousand</td>\n",
       "    </tr>\n",
       "    <tr>\n",
       "      <th>freq</th>\n",
       "      <td>5994</td>\n",
       "      <td>222</td>\n",
       "      <td>1998</td>\n",
       "      <td>5994</td>\n",
       "    </tr>\n",
       "  </tbody>\n",
       "</table>\n",
       "</div>"
      ],
      "text/plain": [
       "                                STATISTIC Label     Age Group         Sex  \\\n",
       "count                                      5994          5994        5994   \n",
       "unique                                        1            27           3   \n",
       "top     Population Estimates (Persons in April)  Under 1 year  Both sexes   \n",
       "freq                                       5994           222        1998   \n",
       "\n",
       "            UNIT  \n",
       "count       5994  \n",
       "unique         1  \n",
       "top     Thousand  \n",
       "freq        5994  "
      ]
     },
     "execution_count": 7,
     "metadata": {},
     "output_type": "execute_result"
    }
   ],
   "source": [
    "df.describe(include=\"object\")"
   ]
  },
  {
   "cell_type": "code",
   "execution_count": 8,
   "id": "14872f68",
   "metadata": {},
   "outputs": [
    {
     "data": {
      "text/plain": [
       "STATISTIC Label     object\n",
       "Year                 int64\n",
       "Age Group           object\n",
       "Sex                 object\n",
       "UNIT                object\n",
       "VALUE              float64\n",
       "dtype: object"
      ]
     },
     "execution_count": 8,
     "metadata": {},
     "output_type": "execute_result"
    }
   ],
   "source": [
    "df.dtypes"
   ]
  },
  {
   "cell_type": "code",
   "execution_count": 9,
   "id": "73a2fd2e",
   "metadata": {},
   "outputs": [
    {
     "name": "stdout",
     "output_type": "stream",
     "text": [
      "<class 'pandas.core.frame.DataFrame'>\n",
      "RangeIndex: 5994 entries, 0 to 5993\n",
      "Data columns (total 6 columns):\n",
      " #   Column           Non-Null Count  Dtype  \n",
      "---  ------           --------------  -----  \n",
      " 0   STATISTIC Label  5994 non-null   object \n",
      " 1   Year             5994 non-null   int64  \n",
      " 2   Age Group        5994 non-null   object \n",
      " 3   Sex              5994 non-null   object \n",
      " 4   UNIT             5994 non-null   object \n",
      " 5   VALUE            5880 non-null   float64\n",
      "dtypes: float64(1), int64(1), object(4)\n",
      "memory usage: 281.1+ KB\n"
     ]
    }
   ],
   "source": [
    "df.info()"
   ]
  },
  {
   "cell_type": "code",
   "execution_count": null,
   "id": "47582c95",
   "metadata": {},
   "outputs": [],
   "source": [
    "df.nunique()"
   ]
  },
  {
   "cell_type": "code",
   "execution_count": null,
   "id": "75009e0a",
   "metadata": {
    "scrolled": true
   },
   "outputs": [],
   "source": [
    "df.count()"
   ]
  },
  {
   "cell_type": "code",
   "execution_count": null,
   "id": "b0023396",
   "metadata": {},
   "outputs": [],
   "source": [
    "df.isnull().sum()"
   ]
  },
  {
   "cell_type": "code",
   "execution_count": null,
   "id": "90f4c9dd",
   "metadata": {},
   "outputs": [],
   "source": [
    "df.duplicated().sum()"
   ]
  },
  {
   "cell_type": "code",
   "execution_count": null,
   "id": "389ece95",
   "metadata": {},
   "outputs": [],
   "source": [
    "to_drop=[\"STATISTIC Label\",\"UNIT\"] \n",
    "df.drop(columns=to_drop,inplace=True)"
   ]
  },
  {
   "cell_type": "code",
   "execution_count": null,
   "id": "d1f372f0",
   "metadata": {},
   "outputs": [],
   "source": [
    "df=df.rename(columns={\"VALUE\":\"Value\"})"
   ]
  },
  {
   "cell_type": "code",
   "execution_count": null,
   "id": "67314b72",
   "metadata": {},
   "outputs": [],
   "source": []
  },
  {
   "cell_type": "code",
   "execution_count": null,
   "id": "2b71cccc",
   "metadata": {},
   "outputs": [],
   "source": [
    "missing_df=df[df.isna().any(axis=1)] #missing data rows\n",
    "missing_df"
   ]
  },
  {
   "cell_type": "code",
   "execution_count": null,
   "id": "789146ba",
   "metadata": {
    "scrolled": false
   },
   "outputs": [],
   "source": [
    "all_0_4=df[(df[\"Age Group\"]==\"0 - 4 years\")]\n",
    "all_0_4"
   ]
  },
  {
   "cell_type": "code",
   "execution_count": null,
   "id": "07d47cc4",
   "metadata": {},
   "outputs": [],
   "source": [
    "# We fill the missing data in the \"0 - 4 years\" age group with the sum of \"Under 1 year\" and \"1 - 4 years\" age groups.\n",
    "\n",
    "for year in df['Year'].unique():\n",
    "    for sex in df['Sex'].unique():\n",
    "        total_value = df[(df['Year'] == year) & (df['Sex'] == sex) & \n",
    "                         (df['Age Group'].isin(['Under 1 year', '1 - 4 years']))]['Value'].sum()\n",
    "        missing_value = (df['Year'] == year) & (df['Sex'] == sex) & (df['Age Group'] == '0 - 4 years')\n",
    "        df.loc[missing_value, 'Value'] = total_value\n",
    "\n",
    "# After filling in the missing data, we view the first and last 5 values of the data frame.\n",
    "print(df.head(5))\n",
    "print(df.tail(5))"
   ]
  },
  {
   "cell_type": "code",
   "execution_count": null,
   "id": "7bffe71a",
   "metadata": {},
   "outputs": [],
   "source": [
    "all_0_4=df[(df[\"Age Group\"]==\"0 - 4 years\")]\n",
    "all_0_4[:]"
   ]
  },
  {
   "cell_type": "code",
   "execution_count": null,
   "id": "0896eff3",
   "metadata": {},
   "outputs": [],
   "source": [
    "year = 1965\n",
    "age_range = \"0 - 4 years\"\n",
    "sex = \"Both sexes\"\n",
    "\n",
    "# We print the result for a specific year, age range, and gender.\n",
    "result = df[(df['Year'] == year) & (df['Age Group'] == age_range) & (df['Sex'] == cinsiyet)]['Value'].values[0]\n",
    "print(f\"In {year}, the result for the age group {age_range}, and the gender {sex} is: {result}\")"
   ]
  },
  {
   "cell_type": "code",
   "execution_count": null,
   "id": "02f9058a",
   "metadata": {},
   "outputs": [],
   "source": [
    "year = 1965\n",
    "age_range = \"1 - 4 years\"\n",
    "sex = \"Both sexes\"\n",
    "\n",
    "# We print the result for a specific year, age range, and gender.\n",
    "result = df[(df['Year'] == year) & (df['Age Group'] == age_range) & (df['Sex'] == cinsiyet)]['Value'].values[0]\n",
    "print(f\"In {year}, the result for the age group {age_range}, and the gender {sex} is: {result}\")"
   ]
  },
  {
   "cell_type": "code",
   "execution_count": null,
   "id": "c059bb97",
   "metadata": {},
   "outputs": [],
   "source": [
    "year = 1965\n",
    "age_range = \"Under 1 year\"\n",
    "sex = \"Both sexes\"\n",
    "\n",
    "# We print the result for a specific year, age range, and gender.\n",
    "result = df[(df['Year'] == year) & (df['Age Group'] == age_range) & (df['Sex'] == cinsiyet)]['Value'].values[0]\n",
    "print(f\"In {year}, the result for the age group {age_range}, and the gender {sex} is: {result}\")"
   ]
  },
  {
   "cell_type": "code",
   "execution_count": null,
   "id": "331103d3",
   "metadata": {},
   "outputs": [],
   "source": [
    "toplam_yas = df[(df['Year'] == 1965) & (df['Sex'] == \"Both sexes\") & (df['Age Group'].isin(['Under 1 year', '1 - 4']))]['Value'].sum()\n",
    "toplam_yas"
   ]
  },
  {
   "cell_type": "code",
   "execution_count": null,
   "id": "dfab9a68",
   "metadata": {},
   "outputs": [],
   "source": [
    "df[(df['Year'] == 1950) & (df['Age Group'] == '1 - 4 years')]"
   ]
  },
  {
   "cell_type": "code",
   "execution_count": null,
   "id": "01a1ee03",
   "metadata": {},
   "outputs": [],
   "source": [
    "df[(df['Year'] == 1965) & (df['Age Group'] == 'Under 1 year')]"
   ]
  },
  {
   "cell_type": "code",
   "execution_count": null,
   "id": "0f27102e",
   "metadata": {},
   "outputs": [],
   "source": []
  },
  {
   "cell_type": "code",
   "execution_count": null,
   "id": "061220fa",
   "metadata": {
    "scrolled": false
   },
   "outputs": [],
   "source": []
  },
  {
   "cell_type": "code",
   "execution_count": null,
   "id": "586b322e",
   "metadata": {
    "scrolled": true
   },
   "outputs": [],
   "source": [
    "df['Year'].unique()"
   ]
  },
  {
   "cell_type": "code",
   "execution_count": null,
   "id": "89072e8c",
   "metadata": {},
   "outputs": [],
   "source": [
    "df['Sex'].unique()"
   ]
  },
  {
   "cell_type": "code",
   "execution_count": null,
   "id": "df89606c",
   "metadata": {},
   "outputs": [],
   "source": [
    "df['Age Group'].unique()"
   ]
  },
  {
   "cell_type": "code",
   "execution_count": null,
   "id": "5cb3e100",
   "metadata": {
    "scrolled": false
   },
   "outputs": [],
   "source": [
    "df.head(10)"
   ]
  },
  {
   "cell_type": "code",
   "execution_count": null,
   "id": "62e7cb5f",
   "metadata": {},
   "outputs": [],
   "source": []
  },
  {
   "cell_type": "code",
   "execution_count": null,
   "id": "6abf375b",
   "metadata": {},
   "outputs": [],
   "source": [
    "Under_1_year=df[(df[\"Age Group\"]==\"Under 1 year\")  & (df[\"Sex\"]==\"Both sexes\" )]"
   ]
  },
  {
   "cell_type": "code",
   "execution_count": null,
   "id": "59ba1ee0",
   "metadata": {},
   "outputs": [],
   "source": [
    "Under_1_year.head(5)"
   ]
  },
  {
   "cell_type": "code",
   "execution_count": null,
   "id": "088d90c3",
   "metadata": {},
   "outputs": [],
   "source": [
    "Under_1_year.shape"
   ]
  },
  {
   "cell_type": "code",
   "execution_count": null,
   "id": "ff92b790",
   "metadata": {},
   "outputs": [],
   "source": [
    "both_1_4=df[(df[\"Age Group\"]==\"1 - 4 years\")  & (df[\"Sex\"]==\"Both sexes\" )]"
   ]
  },
  {
   "cell_type": "code",
   "execution_count": null,
   "id": "1be3c136",
   "metadata": {},
   "outputs": [],
   "source": [
    "both_1_4.head(5)"
   ]
  },
  {
   "cell_type": "code",
   "execution_count": null,
   "id": "49dd24fb",
   "metadata": {},
   "outputs": [],
   "source": [
    "both_1_4.shape"
   ]
  },
  {
   "cell_type": "code",
   "execution_count": null,
   "id": "08ec2862",
   "metadata": {},
   "outputs": [],
   "source": [
    "all_0_4=df[(df[\"Age Group\"]==\"0 - 4 years\")]\n",
    "all_0_4.head(5)"
   ]
  },
  {
   "cell_type": "code",
   "execution_count": null,
   "id": "af7c7b39",
   "metadata": {},
   "outputs": [],
   "source": [
    "all_0_4.shape"
   ]
  },
  {
   "cell_type": "code",
   "execution_count": null,
   "id": "cf63d60f",
   "metadata": {
    "scrolled": true
   },
   "outputs": [],
   "source": [
    "all_0_4.isnull().sum()"
   ]
  },
  {
   "cell_type": "code",
   "execution_count": null,
   "id": "65535b6c",
   "metadata": {},
   "outputs": [],
   "source": [
    "male_0_4=df[(df[\"Age Group\"]==\"0 - 4 years\") & (df[\"Sex\"]==\"Male\")]"
   ]
  },
  {
   "cell_type": "code",
   "execution_count": null,
   "id": "07d4f1d0",
   "metadata": {},
   "outputs": [],
   "source": [
    "male_0_4.head(5)"
   ]
  },
  {
   "cell_type": "code",
   "execution_count": null,
   "id": "f3163208",
   "metadata": {},
   "outputs": [],
   "source": [
    "male_0_4.shape"
   ]
  },
  {
   "cell_type": "code",
   "execution_count": null,
   "id": "3d04082f",
   "metadata": {},
   "outputs": [],
   "source": [
    "male_0_4.isnull().sum()"
   ]
  },
  {
   "cell_type": "code",
   "execution_count": null,
   "id": "65c29d64",
   "metadata": {},
   "outputs": [],
   "source": [
    "year_1950=df[(df[\"Year\"]==2022) & (df[\"Sex\"]==\"Both sexes\")]"
   ]
  },
  {
   "cell_type": "code",
   "execution_count": null,
   "id": "730aa907",
   "metadata": {
    "scrolled": false
   },
   "outputs": [],
   "source": [
    "print(\"Shape= \",year_1950.shape,\"\\n\")\n",
    "print(year_1950.head(5))"
   ]
  },
  {
   "cell_type": "code",
   "execution_count": null,
   "id": "5d95c581",
   "metadata": {
    "scrolled": false
   },
   "outputs": [],
   "source": [
    "year_1950.head(27)"
   ]
  },
  {
   "cell_type": "code",
   "execution_count": null,
   "id": "bfc21690",
   "metadata": {},
   "outputs": [],
   "source": [
    "total_value = year_1950['VALUE'].sum()\n",
    "print(\"Toplam Değer:\", total_value)"
   ]
  },
  {
   "cell_type": "code",
   "execution_count": null,
   "id": "ba9965e4",
   "metadata": {},
   "outputs": [],
   "source": []
  },
  {
   "cell_type": "code",
   "execution_count": null,
   "id": "bc9ef1aa",
   "metadata": {
    "scrolled": false
   },
   "outputs": [],
   "source": []
  },
  {
   "cell_type": "code",
   "execution_count": null,
   "id": "55ca9630",
   "metadata": {
    "scrolled": true
   },
   "outputs": [],
   "source": []
  },
  {
   "cell_type": "code",
   "execution_count": null,
   "id": "58c9958b",
   "metadata": {
    "scrolled": false
   },
   "outputs": [],
   "source": []
  },
  {
   "cell_type": "code",
   "execution_count": null,
   "id": "50d85d46",
   "metadata": {},
   "outputs": [],
   "source": []
  },
  {
   "cell_type": "code",
   "execution_count": null,
   "id": "e592a5e1",
   "metadata": {},
   "outputs": [],
   "source": []
  },
  {
   "cell_type": "code",
   "execution_count": null,
   "id": "b03dbf25",
   "metadata": {
    "scrolled": true
   },
   "outputs": [],
   "source": []
  },
  {
   "cell_type": "code",
   "execution_count": null,
   "id": "3b4516bb",
   "metadata": {},
   "outputs": [],
   "source": []
  },
  {
   "cell_type": "code",
   "execution_count": null,
   "id": "98d67907",
   "metadata": {
    "scrolled": true
   },
   "outputs": [],
   "source": []
  },
  {
   "cell_type": "code",
   "execution_count": null,
   "id": "ffb3fccb",
   "metadata": {
    "scrolled": true
   },
   "outputs": [],
   "source": []
  },
  {
   "cell_type": "code",
   "execution_count": null,
   "id": "62e5a05c",
   "metadata": {},
   "outputs": [],
   "source": []
  },
  {
   "cell_type": "code",
   "execution_count": null,
   "id": "2c2702ac",
   "metadata": {},
   "outputs": [],
   "source": []
  },
  {
   "cell_type": "code",
   "execution_count": null,
   "id": "96d34801",
   "metadata": {},
   "outputs": [],
   "source": [
    "#to_drop=[\"STATISTIC Label\",\"UNIT\"] "
   ]
  },
  {
   "cell_type": "code",
   "execution_count": null,
   "id": "4695cf65",
   "metadata": {},
   "outputs": [],
   "source": [
    "#df.drop(columns=to_drop,inplace=True)"
   ]
  },
  {
   "cell_type": "code",
   "execution_count": null,
   "id": "ef058b9b",
   "metadata": {},
   "outputs": [],
   "source": [
    "#df=df.rename(columns={\"VALUE\":\"Value\"})"
   ]
  },
  {
   "cell_type": "code",
   "execution_count": null,
   "id": "d128722c",
   "metadata": {},
   "outputs": [],
   "source": [
    "#df[\"Value\"]=df[\"Value\"]*1000\n",
    "#df[\"Value\"]=df[\"Value\"]/100"
   ]
  },
  {
   "cell_type": "code",
   "execution_count": null,
   "id": "32c4a835",
   "metadata": {
    "scrolled": false
   },
   "outputs": [],
   "source": [
    "df"
   ]
  },
  {
   "cell_type": "code",
   "execution_count": null,
   "id": "c57eb55a",
   "metadata": {},
   "outputs": [],
   "source": []
  },
  {
   "cell_type": "code",
   "execution_count": null,
   "id": "dccafa78",
   "metadata": {
    "scrolled": false
   },
   "outputs": [],
   "source": []
  },
  {
   "cell_type": "code",
   "execution_count": null,
   "id": "a65e82c6",
   "metadata": {},
   "outputs": [],
   "source": []
  },
  {
   "cell_type": "code",
   "execution_count": null,
   "id": "599f2f70",
   "metadata": {},
   "outputs": [],
   "source": []
  },
  {
   "cell_type": "code",
   "execution_count": null,
   "id": "e839934c",
   "metadata": {
    "scrolled": true
   },
   "outputs": [],
   "source": [
    "df.count()"
   ]
  },
  {
   "cell_type": "code",
   "execution_count": null,
   "id": "420bc72f",
   "metadata": {},
   "outputs": [],
   "source": [
    "sns.boxplot(x=df[\"Value\"])"
   ]
  },
  {
   "cell_type": "code",
   "execution_count": null,
   "id": "09169632",
   "metadata": {},
   "outputs": [],
   "source": [
    "Q1=df.quantile(0.25)\n",
    "Q3=df.quantile(0.75)\n",
    "IQR=Q3-Q1\n",
    "print(IQR)"
   ]
  },
  {
   "cell_type": "code",
   "execution_count": null,
   "id": "9456855c",
   "metadata": {},
   "outputs": [],
   "source": [
    "lower_bound = Q1 - 1.5 * IQR\n",
    "upper_bound = Q3 + 1.5 * IQR"
   ]
  },
  {
   "cell_type": "code",
   "execution_count": null,
   "id": "b59d4860",
   "metadata": {},
   "outputs": [],
   "source": [
    "outliers = (df < lower_bound) | (df > upper_bound)"
   ]
  },
  {
   "cell_type": "code",
   "execution_count": null,
   "id": "bfdd12cc",
   "metadata": {},
   "outputs": [],
   "source": [
    "outliers_df = df[outliers.any(axis=1)]"
   ]
  },
  {
   "cell_type": "code",
   "execution_count": null,
   "id": "602220bf",
   "metadata": {
    "scrolled": false
   },
   "outputs": [],
   "source": [
    "outliers_df"
   ]
  },
  {
   "cell_type": "code",
   "execution_count": null,
   "id": "8b976858",
   "metadata": {},
   "outputs": [],
   "source": [
    "df"
   ]
  },
  {
   "cell_type": "code",
   "execution_count": null,
   "id": "c55a9b11",
   "metadata": {},
   "outputs": [],
   "source": [
    "df.hist(column=\"Value\",bins=20)"
   ]
  },
  {
   "cell_type": "code",
   "execution_count": null,
   "id": "62babd5f",
   "metadata": {},
   "outputs": [],
   "source": [
    "df[\"Age Group\"].unique()"
   ]
  },
  {
   "cell_type": "code",
   "execution_count": null,
   "id": "0c2f0540",
   "metadata": {},
   "outputs": [],
   "source": [
    "Age_Group_Value_Counts=pd.crosstab(index=df[\"Age Group\"],columns=\"Value\")"
   ]
  },
  {
   "cell_type": "code",
   "execution_count": null,
   "id": "a24a1bee",
   "metadata": {},
   "outputs": [],
   "source": [
    "Age_Group_Value_Counts"
   ]
  },
  {
   "cell_type": "code",
   "execution_count": null,
   "id": "244955ff",
   "metadata": {},
   "outputs": [],
   "source": [
    "from numpy import median, mean"
   ]
  },
  {
   "cell_type": "code",
   "execution_count": null,
   "id": "7c802cdc",
   "metadata": {},
   "outputs": [],
   "source": [
    "sns.set(style=\"whitegrid\")"
   ]
  },
  {
   "cell_type": "code",
   "execution_count": null,
   "id": "ff52690e",
   "metadata": {},
   "outputs": [],
   "source": [
    "plt.figure(figsize=(12,6))\n",
    "ax = sns.barplot(x=\"Age Group\", y=\"Value\", hue=\"Age Group\", data=df)\n",
    "plt.xticks(rotation=90)\n",
    "plt.legend(loc=\"upper right\",bbox_to_anchor=(1.2,1))"
   ]
  },
  {
   "cell_type": "code",
   "execution_count": null,
   "id": "0bb21858",
   "metadata": {},
   "outputs": [],
   "source": [
    "plt.figure(figsize=(12,6))\n",
    "sns.scatterplot(data=df,x=\"Age Group\",y=\"Value\",hue=\"Sex\");\n",
    "plt.xticks(rotation=90);\n",
    "plt.legend(loc=\"upper right\",bbox_to_anchor=(1.2,1))"
   ]
  },
  {
   "cell_type": "code",
   "execution_count": null,
   "id": "a5f42f94",
   "metadata": {},
   "outputs": [],
   "source": [
    "plt.figure(figsize=(12,6))\n",
    "sns.scatterplot(data=df,x=\"Year\",y=\"Value\",hue=\"Age Group\");\n",
    "plt.ylabel(\"Value (Thousand)\")\n",
    "plt.xticks(rotation=90);\n",
    "plt.legend(loc=\"upper right\",bbox_to_anchor=(1.2,1));"
   ]
  },
  {
   "cell_type": "code",
   "execution_count": null,
   "id": "b41e6215",
   "metadata": {
    "scrolled": false
   },
   "outputs": [],
   "source": [
    "import math\n",
    "subset_0_14_years=df[(df[\"Age Group\"]==\"0 - 14 years\")]\n",
    "print(subset_0_14_years,\"\\n\\n\")\n",
    "print(\"Minimum value:\\n\",subset_0_14_years.min(),\"\\n\")\n",
    "print(\"Maximum value:\\n\",subset_0_14_years.max(),\"\\n\")"
   ]
  },
  {
   "cell_type": "code",
   "execution_count": null,
   "id": "49d2e093",
   "metadata": {},
   "outputs": [],
   "source": [
    "#min_value=(subset_0_14_years[\"Value\"].apply(math.ceil).min())-1\n",
    "#max_value=subset_0_14_years[\"Value\"].max()\n",
    "min_value=subset_0_14_years[\"Value\"].apply(lambda x: (math.ceil(x/100)*100)-100).min()\n",
    "max_value=subset_0_14_years[\"Value\"].apply(lambda x: math.ceil(x/100)*100).max()\n",
    "plt.figure(figsize=(12,6))\n",
    "sns.scatterplot(data=subset_0_14_years,x=\"Year\",y=\"Value\",hue=\"Sex\");\n",
    "plt.xticks(rotation=90);\n",
    "plt.ylabel(\"Value (Thousand)\")\n",
    "plt.yticks(np.arange(min_value, max_value, step=30))\n",
    "plt.legend(loc=\"upper right\",bbox_to_anchor=(1.16,1.02));"
   ]
  },
  {
   "cell_type": "code",
   "execution_count": null,
   "id": "9a5bd08c",
   "metadata": {},
   "outputs": [],
   "source": [
    "#min_value=(subset_0_14_years[\"Value\"].apply(math.ceil).min())-1\n",
    "max_value=subset_0_14_years[\"Value\"].max()\n",
    "min_value=subset_0_14_years[\"Value\"].apply(lambda x: (math.ceil(x/100)*100)-100).min()\n",
    "plt.figure(figsize=(12,6))\n",
    "sns.scatterplot(data=subset_0_14_years,x=\"Year\",y=\"Value\",hue=\"Sex\");\n",
    "plt.xticks(rotation=90);\n",
    "plt.ylabel(\"Value (Thousand)\")\n",
    "\n",
    "plt.yticks(np.arange(min_value, max_value, step=30))\n",
    "plt.legend(loc=\"upper right\",bbox_to_anchor=(1.16,1.02));"
   ]
  },
  {
   "cell_type": "code",
   "execution_count": null,
   "id": "5fa70076",
   "metadata": {
    "scrolled": false
   },
   "outputs": [],
   "source": [
    "plt.figure(figsize=(12,6))\n",
    "sns.scatterplot(data=subset_0_14_years,x=\"Year\",y=\"Value\",hue=\"Sex\");\n",
    "plt.xticks(rotation=90);\n",
    "plt.ylabel(\"Value (Thousand)\")\n",
    "plt.legend(loc=\"upper right\",bbox_to_anchor=(1.16,1.02));"
   ]
  },
  {
   "cell_type": "code",
   "execution_count": null,
   "id": "b074ae07",
   "metadata": {
    "scrolled": false
   },
   "outputs": [],
   "source": [
    "fig, ax = plt.subplots(figsize=(12,6))\n",
    "ax.scatter(subset_0_14_years[\"Year\"], subset_0_14_years[\"Value\"])\n",
    "ax.set_title(\"Value By Years\")\n",
    "ax.set_xlabel(\"Year\")\n",
    "ax.set_ylabel(\"Value\")\n",
    "plt.show()"
   ]
  },
  {
   "cell_type": "code",
   "execution_count": null,
   "id": "fc24ca7b",
   "metadata": {},
   "outputs": [],
   "source": [
    "subset_0_4_years=df[(df[\"Age Group\"]==\"0 - 4 years\") & (df[\"Sex\"]==\"Male\")]\n",
    "print(subset_0_4_years.head(),\"\\n\\n\")\n",
    "print(\"Minimum value:\\n\",subset_0_4_years.min(),\"\\n\")\n",
    "print(\"Maximum value:\\n\",subset_0_4_years.max(),\"\\n\")"
   ]
  },
  {
   "cell_type": "code",
   "execution_count": null,
   "id": "cac1ff4f",
   "metadata": {},
   "outputs": [],
   "source": [
    "fig, ax = plt.subplots(figsize=(10,6))\n",
    "ax.scatter(df[\"Age Group\"], df[\"Value\"])\n",
    "ax.set_xlabel(\"Age Group\")\n",
    "plt.xticks(rotation=90)\n",
    "ax.set_ylabel(\"Value\")\n",
    "plt.title(\"Value By Age Group\")\n",
    "plt.show()"
   ]
  },
  {
   "cell_type": "code",
   "execution_count": null,
   "id": "36d5e780",
   "metadata": {},
   "outputs": [],
   "source": [
    "fig, ax = plt.subplots(figsize=(10,6))\n",
    "ax.scatter(df[\"Age Group\"]==\"0 - 14 years\", df[\"Value\"])\n",
    "ax.set_xlabel(\"Age Group\")\n",
    "ax.set_ylabel(\"Value\")\n",
    "plt.show()"
   ]
  },
  {
   "cell_type": "code",
   "execution_count": null,
   "id": "a06b2e9a",
   "metadata": {},
   "outputs": [],
   "source": [
    "\n",
    "# # Kategorik verileri sayısal olarak kodlayalım\n",
    "# df['Age Group Code'] = pd.Categorical(df['Age Group']).codes\n",
    "\n",
    "# # Sütunları x, y ve renk olarak kullanarak scatter plot oluşturun\n",
    "# fig, ax = plt.subplots(figsize=(12, 10))\n",
    "# scatter = ax.scatter(df[\"Year\"], df[\"Value\"], c=df[\"Age Group Code\"], cmap='viridis', marker='o')\n",
    "\n",
    "# # Renk skalasını oluşturun ve eksen etiketlerini ayarlayın\n",
    "# cbar = plt.colorbar(scatter)\n",
    "# cbar.set_label(\"Age Group\")\n",
    "# ax.set_xlabel(\"Year\")\n",
    "# ax.set_ylabel(\"Value\")\n",
    "# plt.show()\n",
    "\n",
    "\n"
   ]
  },
  {
   "cell_type": "code",
   "execution_count": null,
   "id": "7ed41bb6",
   "metadata": {},
   "outputs": [],
   "source": [
    "# df[\"Age Group\"].unique()"
   ]
  },
  {
   "cell_type": "code",
   "execution_count": null,
   "id": "4745c703",
   "metadata": {},
   "outputs": [],
   "source": [
    "# # Belirlediğiniz renk listesi\n",
    "# colors = ['red', 'green', 'blue', 'orange', 'purple']\n",
    "\n",
    "# # Her bir \"Age Group\" kategorisi için \"VALUE\" sütununun ortalamasını hesaplayalım\n",
    "# grouped_data = df.groupby('Age Group')['Value'].mean()\n",
    "\n",
    "# # Çubuk grafik oluşturalım ve belirlediğiniz renkleri kullanalım\n",
    "# fig, ax = plt.subplots(figsize=(10, 6))\n",
    "# grouped_data.plot(kind='bar', ax=ax, color=colors)\n",
    "# ax.set_xlabel(\"Age Group\")\n",
    "# ax.set_ylabel(\"Average Value\")\n",
    "# plt.show()"
   ]
  },
  {
   "cell_type": "code",
   "execution_count": null,
   "id": "a2a5a0c8",
   "metadata": {},
   "outputs": [],
   "source": [
    "# # Kategorik verileri sayısal olarak kodlayalım\n",
    "# age_group_order = [\n",
    "#     'Under 1 year', '0 - 4 years', '0 - 14 years', '1 - 4 years', '5 - 9 years', '10 - 14 years',\n",
    "#     '15 - 19 years', '15 - 24 years', '15 years and over', '20 - 24 years',\n",
    "#     '25 - 29 years', '25 - 44 years', '30 - 34 years', '35 - 39 years', '40 - 44 years',\n",
    "#     '45 - 49 years', '45 - 64 years', '50 - 54 years', '55 - 59 years',\n",
    "#     '60 - 64 years', '65 - 69 years', '65 years and over', '70 - 74 years',\n",
    "#     '75 - 79 years', '80 - 84 years', '85 years and over', 'All ages'\n",
    "# ]\n",
    "\n",
    "# df['Age Group'] = pd.Categorical(df['Age Group'], categories=age_group_order, ordered=True)\n",
    "# df['Age Group Code'] = df['Age Group'].cat.codes\n",
    "\n",
    "# # Sütunları x, y ve renk olarak kullanarak scatter plot oluşturun\n",
    "# fig, ax = plt.subplots(figsize=(12, 10))\n",
    "# scatter = ax.scatter(df[\"Year\"], df[\"Value\"], c=df[\"Age Group Code\"], cmap='viridis', marker='o')\n",
    "\n",
    "# # Renk skalasını oluşturun ve eksen etiketlerini ayarlayın\n",
    "# cbar = plt.colorbar(scatter)\n",
    "# cbar.set_label(\"Age Group\")\n",
    "# ax.set_xlabel(\"Year\")\n",
    "# ax.set_ylabel(\"Value\")\n",
    "# plt.show()"
   ]
  },
  {
   "cell_type": "code",
   "execution_count": null,
   "id": "9a63185b",
   "metadata": {},
   "outputs": [],
   "source": []
  },
  {
   "cell_type": "code",
   "execution_count": null,
   "id": "56d35149",
   "metadata": {},
   "outputs": [],
   "source": []
  },
  {
   "cell_type": "code",
   "execution_count": null,
   "id": "73125c27",
   "metadata": {},
   "outputs": [],
   "source": []
  },
  {
   "cell_type": "code",
   "execution_count": null,
   "id": "6d825b57",
   "metadata": {},
   "outputs": [],
   "source": []
  },
  {
   "cell_type": "code",
   "execution_count": null,
   "id": "53cfcce6",
   "metadata": {},
   "outputs": [],
   "source": []
  },
  {
   "cell_type": "code",
   "execution_count": null,
   "id": "1c806394",
   "metadata": {},
   "outputs": [],
   "source": []
  },
  {
   "cell_type": "code",
   "execution_count": null,
   "id": "07662b99",
   "metadata": {},
   "outputs": [],
   "source": []
  }
 ],
 "metadata": {
  "kernelspec": {
   "display_name": "Python 3 (ipykernel)",
   "language": "python",
   "name": "python3"
  },
  "language_info": {
   "codemirror_mode": {
    "name": "ipython",
    "version": 3
   },
   "file_extension": ".py",
   "mimetype": "text/x-python",
   "name": "python",
   "nbconvert_exporter": "python",
   "pygments_lexer": "ipython3",
   "version": "3.11.4"
  }
 },
 "nbformat": 4,
 "nbformat_minor": 5
}
