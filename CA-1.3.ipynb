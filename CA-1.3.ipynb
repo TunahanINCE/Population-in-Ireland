{
 "cells": [
  {
   "cell_type": "markdown",
   "id": "ea8de9b0",
   "metadata": {},
   "source": [
    "# Population in Ireland"
   ]
  },
  {
   "cell_type": "markdown",
   "id": "d9763d7d",
   "metadata": {},
   "source": [
    "## 1 Data Reading and Cleaning"
   ]
  },
  {
   "cell_type": "markdown",
   "id": "b235c084",
   "metadata": {},
   "source": [
    "### 1.1 Reading Data"
   ]
  },
  {
   "cell_type": "markdown",
   "id": "8a7c0588",
   "metadata": {},
   "source": [
    "\n",
    "We use some useful libraries for our project.\n",
    "These are:\n",
    "- Pandas: A versatile data manipulation and analysis library. It provides easy-to-use data structures and functions for working with structured data, making it an essential tool for data processing and analysis.\n",
    "- Numpy: A fundamental library for numerical operations in Python. It offers support for arrays, matrices, and various mathematical functions, making it an essential tool for scientific computing and data analysis.\n",
    "- Seaborn: A data visualization library based on Matplotlib. Seaborn provides an interface for creating informative and attractive statistical graphics, which is particularly useful for exploring and understanding complex datasets.\n",
    "- Matplotlib.pyplot: A widely used plotting library for creating static, animated, or interactive visualizations in Python. It is a fundamental tool for data visualization and report generation in a wide range of domains.\n",
    "- %matplotlib inline: This magic command in Jupyter Notebook allows the generated plots or visualizations to be displayed directly within the notebook. It's particularly useful when using libraries like Matplotlib for data visualization."
   ]
  },
  {
   "cell_type": "code",
   "execution_count": 1,
   "id": "0e035e2c",
   "metadata": {},
   "outputs": [],
   "source": [
    "import pandas as pd               # Used for data analysis and processing.\n",
    "import numpy as np                # Used for multi-dimensional arrays and mathematical operations.\n",
    "import seaborn as sns             # Provides a high-level interface for data visualization.\n",
    "import matplotlib.pyplot as plt   # Used for creating plots and graphs.\n",
    "%matplotlib inline\n",
    "sns.set(color_codes=True)"
   ]
  },
  {
   "cell_type": "code",
   "execution_count": 2,
   "id": "e9cf79e5",
   "metadata": {},
   "outputs": [],
   "source": [
    "import warnings\n",
    "warnings.filterwarnings('ignore') # We can suppress the warnings"
   ]
  },
  {
   "cell_type": "code",
   "execution_count": 3,
   "id": "c0cfc809",
   "metadata": {},
   "outputs": [],
   "source": [
    "df=pd.read_csv(\"PEA01.20231007T221014.csv\") # we read dataset"
   ]
  },
  {
   "cell_type": "code",
   "execution_count": 4,
   "id": "22c985f3",
   "metadata": {
    "scrolled": false
   },
   "outputs": [
    {
     "data": {
      "text/html": [
       "<div>\n",
       "<style scoped>\n",
       "    .dataframe tbody tr th:only-of-type {\n",
       "        vertical-align: middle;\n",
       "    }\n",
       "\n",
       "    .dataframe tbody tr th {\n",
       "        vertical-align: top;\n",
       "    }\n",
       "\n",
       "    .dataframe thead th {\n",
       "        text-align: right;\n",
       "    }\n",
       "</style>\n",
       "<table border=\"1\" class=\"dataframe\">\n",
       "  <thead>\n",
       "    <tr style=\"text-align: right;\">\n",
       "      <th></th>\n",
       "      <th>STATISTIC Label</th>\n",
       "      <th>Year</th>\n",
       "      <th>Age Group</th>\n",
       "      <th>Sex</th>\n",
       "      <th>UNIT</th>\n",
       "      <th>VALUE</th>\n",
       "    </tr>\n",
       "  </thead>\n",
       "  <tbody>\n",
       "    <tr>\n",
       "      <th>0</th>\n",
       "      <td>Population Estimates (Persons in April)</td>\n",
       "      <td>1950</td>\n",
       "      <td>Under 1 year</td>\n",
       "      <td>Both sexes</td>\n",
       "      <td>Thousand</td>\n",
       "      <td>61.1</td>\n",
       "    </tr>\n",
       "    <tr>\n",
       "      <th>1</th>\n",
       "      <td>Population Estimates (Persons in April)</td>\n",
       "      <td>1950</td>\n",
       "      <td>Under 1 year</td>\n",
       "      <td>Male</td>\n",
       "      <td>Thousand</td>\n",
       "      <td>31.4</td>\n",
       "    </tr>\n",
       "    <tr>\n",
       "      <th>2</th>\n",
       "      <td>Population Estimates (Persons in April)</td>\n",
       "      <td>1950</td>\n",
       "      <td>Under 1 year</td>\n",
       "      <td>Female</td>\n",
       "      <td>Thousand</td>\n",
       "      <td>29.7</td>\n",
       "    </tr>\n",
       "    <tr>\n",
       "      <th>3</th>\n",
       "      <td>Population Estimates (Persons in April)</td>\n",
       "      <td>1950</td>\n",
       "      <td>0 - 4 years</td>\n",
       "      <td>Both sexes</td>\n",
       "      <td>Thousand</td>\n",
       "      <td>NaN</td>\n",
       "    </tr>\n",
       "    <tr>\n",
       "      <th>4</th>\n",
       "      <td>Population Estimates (Persons in April)</td>\n",
       "      <td>1950</td>\n",
       "      <td>0 - 4 years</td>\n",
       "      <td>Male</td>\n",
       "      <td>Thousand</td>\n",
       "      <td>NaN</td>\n",
       "    </tr>\n",
       "  </tbody>\n",
       "</table>\n",
       "</div>"
      ],
      "text/plain": [
       "                           STATISTIC Label  Year     Age Group         Sex  \\\n",
       "0  Population Estimates (Persons in April)  1950  Under 1 year  Both sexes   \n",
       "1  Population Estimates (Persons in April)  1950  Under 1 year        Male   \n",
       "2  Population Estimates (Persons in April)  1950  Under 1 year      Female   \n",
       "3  Population Estimates (Persons in April)  1950   0 - 4 years  Both sexes   \n",
       "4  Population Estimates (Persons in April)  1950   0 - 4 years        Male   \n",
       "\n",
       "       UNIT  VALUE  \n",
       "0  Thousand   61.1  \n",
       "1  Thousand   31.4  \n",
       "2  Thousand   29.7  \n",
       "3  Thousand    NaN  \n",
       "4  Thousand    NaN  "
      ]
     },
     "execution_count": 4,
     "metadata": {},
     "output_type": "execute_result"
    }
   ],
   "source": [
    "df.head(5) # We dispplay first 5 rows"
   ]
  },
  {
   "cell_type": "code",
   "execution_count": 5,
   "id": "a41c0332",
   "metadata": {},
   "outputs": [
    {
     "data": {
      "text/html": [
       "<div>\n",
       "<style scoped>\n",
       "    .dataframe tbody tr th:only-of-type {\n",
       "        vertical-align: middle;\n",
       "    }\n",
       "\n",
       "    .dataframe tbody tr th {\n",
       "        vertical-align: top;\n",
       "    }\n",
       "\n",
       "    .dataframe thead th {\n",
       "        text-align: right;\n",
       "    }\n",
       "</style>\n",
       "<table border=\"1\" class=\"dataframe\">\n",
       "  <thead>\n",
       "    <tr style=\"text-align: right;\">\n",
       "      <th></th>\n",
       "      <th>STATISTIC Label</th>\n",
       "      <th>Year</th>\n",
       "      <th>Age Group</th>\n",
       "      <th>Sex</th>\n",
       "      <th>UNIT</th>\n",
       "      <th>VALUE</th>\n",
       "    </tr>\n",
       "  </thead>\n",
       "  <tbody>\n",
       "    <tr>\n",
       "      <th>5989</th>\n",
       "      <td>Population Estimates (Persons in April)</td>\n",
       "      <td>2023</td>\n",
       "      <td>85 years and over</td>\n",
       "      <td>Male</td>\n",
       "      <td>Thousand</td>\n",
       "      <td>33.1</td>\n",
       "    </tr>\n",
       "    <tr>\n",
       "      <th>5990</th>\n",
       "      <td>Population Estimates (Persons in April)</td>\n",
       "      <td>2023</td>\n",
       "      <td>85 years and over</td>\n",
       "      <td>Female</td>\n",
       "      <td>Thousand</td>\n",
       "      <td>53.9</td>\n",
       "    </tr>\n",
       "    <tr>\n",
       "      <th>5991</th>\n",
       "      <td>Population Estimates (Persons in April)</td>\n",
       "      <td>2023</td>\n",
       "      <td>All ages</td>\n",
       "      <td>Both sexes</td>\n",
       "      <td>Thousand</td>\n",
       "      <td>5281.6</td>\n",
       "    </tr>\n",
       "    <tr>\n",
       "      <th>5992</th>\n",
       "      <td>Population Estimates (Persons in April)</td>\n",
       "      <td>2023</td>\n",
       "      <td>All ages</td>\n",
       "      <td>Male</td>\n",
       "      <td>Thousand</td>\n",
       "      <td>2606.2</td>\n",
       "    </tr>\n",
       "    <tr>\n",
       "      <th>5993</th>\n",
       "      <td>Population Estimates (Persons in April)</td>\n",
       "      <td>2023</td>\n",
       "      <td>All ages</td>\n",
       "      <td>Female</td>\n",
       "      <td>Thousand</td>\n",
       "      <td>2675.4</td>\n",
       "    </tr>\n",
       "  </tbody>\n",
       "</table>\n",
       "</div>"
      ],
      "text/plain": [
       "                              STATISTIC Label  Year          Age Group  \\\n",
       "5989  Population Estimates (Persons in April)  2023  85 years and over   \n",
       "5990  Population Estimates (Persons in April)  2023  85 years and over   \n",
       "5991  Population Estimates (Persons in April)  2023           All ages   \n",
       "5992  Population Estimates (Persons in April)  2023           All ages   \n",
       "5993  Population Estimates (Persons in April)  2023           All ages   \n",
       "\n",
       "             Sex      UNIT   VALUE  \n",
       "5989        Male  Thousand    33.1  \n",
       "5990      Female  Thousand    53.9  \n",
       "5991  Both sexes  Thousand  5281.6  \n",
       "5992        Male  Thousand  2606.2  \n",
       "5993      Female  Thousand  2675.4  "
      ]
     },
     "execution_count": 5,
     "metadata": {},
     "output_type": "execute_result"
    }
   ],
   "source": [
    "df.tail(5) # We display last 5 rows"
   ]
  },
  {
   "cell_type": "code",
   "execution_count": 6,
   "id": "17ed3d3f",
   "metadata": {},
   "outputs": [
    {
     "name": "stdout",
     "output_type": "stream",
     "text": [
      "Total Rows= 5994\n",
      "Total Columns= 6\n"
     ]
    }
   ],
   "source": [
    "# We calculate how many we have rows and columns with shape method\n",
    "total_rows=df.shape[0]\n",
    "total_columns=df.shape[1]\n",
    "print(f\"Total Rows= {total_rows}\")\n",
    "print(f\"Total Columns= {total_columns}\")"
   ]
  },
  {
   "cell_type": "markdown",
   "id": "789a322a",
   "metadata": {},
   "source": [
    "#### df.describe()\n",
    "- The df.describe() command is used to display a basic statistical summary (count, mean, std, min, max, etc.) of a Pandas DataFrame.\n",
    "- This command provides a quick overview of the data distribution for columns containing numerical values within the DataFrame.\n",
    "- By default, a statistical summary is generated only for numeric columns.\n",
    "\n"
   ]
  },
  {
   "cell_type": "code",
   "execution_count": 7,
   "id": "54aa8dbd",
   "metadata": {},
   "outputs": [
    {
     "data": {
      "text/html": [
       "<div>\n",
       "<style scoped>\n",
       "    .dataframe tbody tr th:only-of-type {\n",
       "        vertical-align: middle;\n",
       "    }\n",
       "\n",
       "    .dataframe tbody tr th {\n",
       "        vertical-align: top;\n",
       "    }\n",
       "\n",
       "    .dataframe thead th {\n",
       "        text-align: right;\n",
       "    }\n",
       "</style>\n",
       "<table border=\"1\" class=\"dataframe\">\n",
       "  <thead>\n",
       "    <tr style=\"text-align: right;\">\n",
       "      <th></th>\n",
       "      <th>Year</th>\n",
       "      <th>VALUE</th>\n",
       "    </tr>\n",
       "  </thead>\n",
       "  <tbody>\n",
       "    <tr>\n",
       "      <th>count</th>\n",
       "      <td>5994.000000</td>\n",
       "      <td>5880.000000</td>\n",
       "    </tr>\n",
       "    <tr>\n",
       "      <th>mean</th>\n",
       "      <td>1986.500000</td>\n",
       "      <td>347.001088</td>\n",
       "    </tr>\n",
       "    <tr>\n",
       "      <th>std</th>\n",
       "      <td>21.361791</td>\n",
       "      <td>601.822682</td>\n",
       "    </tr>\n",
       "    <tr>\n",
       "      <th>min</th>\n",
       "      <td>1950.000000</td>\n",
       "      <td>5.500000</td>\n",
       "    </tr>\n",
       "    <tr>\n",
       "      <th>25%</th>\n",
       "      <td>1968.000000</td>\n",
       "      <td>79.475000</td>\n",
       "    </tr>\n",
       "    <tr>\n",
       "      <th>50%</th>\n",
       "      <td>1986.500000</td>\n",
       "      <td>151.700000</td>\n",
       "    </tr>\n",
       "    <tr>\n",
       "      <th>75%</th>\n",
       "      <td>2005.000000</td>\n",
       "      <td>307.725000</td>\n",
       "    </tr>\n",
       "    <tr>\n",
       "      <th>max</th>\n",
       "      <td>2023.000000</td>\n",
       "      <td>5281.600000</td>\n",
       "    </tr>\n",
       "  </tbody>\n",
       "</table>\n",
       "</div>"
      ],
      "text/plain": [
       "              Year        VALUE\n",
       "count  5994.000000  5880.000000\n",
       "mean   1986.500000   347.001088\n",
       "std      21.361791   601.822682\n",
       "min    1950.000000     5.500000\n",
       "25%    1968.000000    79.475000\n",
       "50%    1986.500000   151.700000\n",
       "75%    2005.000000   307.725000\n",
       "max    2023.000000  5281.600000"
      ]
     },
     "execution_count": 7,
     "metadata": {},
     "output_type": "execute_result"
    }
   ],
   "source": [
    "df.describe() # We use this method to see summary of columns numerical (numeric) data"
   ]
  },
  {
   "cell_type": "markdown",
   "id": "2e506ab5",
   "metadata": {},
   "source": [
    "#### df.describe(include=\"object\")\n",
    "- The df.describe(include=\"object\") command displays a statistical summary of columns containing categorical (object) data within a Pandas DataFrame.\n",
    "- This command provides information such as the number of categorical data, the number of unique values, the most frequent value, and the frequency of the most common value.\n",
    "- It is useful for understanding the characteristics and distribution of categorical data."
   ]
  },
  {
   "cell_type": "code",
   "execution_count": 8,
   "id": "2b89a2d2",
   "metadata": {
    "scrolled": false
   },
   "outputs": [
    {
     "data": {
      "text/html": [
       "<div>\n",
       "<style scoped>\n",
       "    .dataframe tbody tr th:only-of-type {\n",
       "        vertical-align: middle;\n",
       "    }\n",
       "\n",
       "    .dataframe tbody tr th {\n",
       "        vertical-align: top;\n",
       "    }\n",
       "\n",
       "    .dataframe thead th {\n",
       "        text-align: right;\n",
       "    }\n",
       "</style>\n",
       "<table border=\"1\" class=\"dataframe\">\n",
       "  <thead>\n",
       "    <tr style=\"text-align: right;\">\n",
       "      <th></th>\n",
       "      <th>STATISTIC Label</th>\n",
       "      <th>Age Group</th>\n",
       "      <th>Sex</th>\n",
       "      <th>UNIT</th>\n",
       "    </tr>\n",
       "  </thead>\n",
       "  <tbody>\n",
       "    <tr>\n",
       "      <th>count</th>\n",
       "      <td>5994</td>\n",
       "      <td>5994</td>\n",
       "      <td>5994</td>\n",
       "      <td>5994</td>\n",
       "    </tr>\n",
       "    <tr>\n",
       "      <th>unique</th>\n",
       "      <td>1</td>\n",
       "      <td>27</td>\n",
       "      <td>3</td>\n",
       "      <td>1</td>\n",
       "    </tr>\n",
       "    <tr>\n",
       "      <th>top</th>\n",
       "      <td>Population Estimates (Persons in April)</td>\n",
       "      <td>Under 1 year</td>\n",
       "      <td>Both sexes</td>\n",
       "      <td>Thousand</td>\n",
       "    </tr>\n",
       "    <tr>\n",
       "      <th>freq</th>\n",
       "      <td>5994</td>\n",
       "      <td>222</td>\n",
       "      <td>1998</td>\n",
       "      <td>5994</td>\n",
       "    </tr>\n",
       "  </tbody>\n",
       "</table>\n",
       "</div>"
      ],
      "text/plain": [
       "                                STATISTIC Label     Age Group         Sex  \\\n",
       "count                                      5994          5994        5994   \n",
       "unique                                        1            27           3   \n",
       "top     Population Estimates (Persons in April)  Under 1 year  Both sexes   \n",
       "freq                                       5994           222        1998   \n",
       "\n",
       "            UNIT  \n",
       "count       5994  \n",
       "unique         1  \n",
       "top     Thousand  \n",
       "freq        5994  "
      ]
     },
     "execution_count": 8,
     "metadata": {},
     "output_type": "execute_result"
    }
   ],
   "source": [
    "df.describe(include=\"object\") # We use this method to see summary of columns containing categorical (object) data"
   ]
  },
  {
   "cell_type": "markdown",
   "id": "de0bede7",
   "metadata": {},
   "source": [
    "#### df.dtypes\n",
    "- The df.dtypes is an attribute in pandas that displays the data types of each column in a DataFrame or Series.\n",
    "- This allows you to inspect the data type of each column in the DataFrame, such as integers, floats, object, etc."
   ]
  },
  {
   "cell_type": "code",
   "execution_count": 9,
   "id": "8f5fd378",
   "metadata": {
    "scrolled": true
   },
   "outputs": [
    {
     "data": {
      "text/plain": [
       "STATISTIC Label     object\n",
       "Year                 int64\n",
       "Age Group           object\n",
       "Sex                 object\n",
       "UNIT                object\n",
       "VALUE              float64\n",
       "dtype: object"
      ]
     },
     "execution_count": 9,
     "metadata": {},
     "output_type": "execute_result"
    }
   ],
   "source": [
    "df.dtypes # We use this method to see the data types of each columns"
   ]
  },
  {
   "cell_type": "markdown",
   "id": "b363aca6",
   "metadata": {},
   "source": [
    "#### df.nunique()\n",
    "- The df.nunique() is a method in Pandas that returns the number of unique (distinct) values in each column of a DataFrame. - we can use this method to find the count of different values in each column."
   ]
  },
  {
   "cell_type": "code",
   "execution_count": 10,
   "id": "ce53abac",
   "metadata": {},
   "outputs": [
    {
     "data": {
      "text/plain": [
       "STATISTIC Label       1\n",
       "Year                 74\n",
       "Age Group            27\n",
       "Sex                   3\n",
       "UNIT                  1\n",
       "VALUE              3387\n",
       "dtype: int64"
      ]
     },
     "execution_count": 10,
     "metadata": {},
     "output_type": "execute_result"
    }
   ],
   "source": [
    "df.nunique() # We use this method to find the count of different values in each column."
   ]
  },
  {
   "cell_type": "markdown",
   "id": "796b8e99",
   "metadata": {},
   "source": [
    "#### df.count()\n",
    "- The df.count() is a method in Pandas that returns the total number of non-null (non-NaN) values in each column of a DataFrame.\n",
    "- It can be used to calculate the count of missing data (NaN) in each column."
   ]
  },
  {
   "cell_type": "code",
   "execution_count": 11,
   "id": "ecb79b6e",
   "metadata": {
    "scrolled": true
   },
   "outputs": [
    {
     "data": {
      "text/plain": [
       "STATISTIC Label    5994\n",
       "Year               5994\n",
       "Age Group          5994\n",
       "Sex                5994\n",
       "UNIT               5994\n",
       "VALUE              5880\n",
       "dtype: int64"
      ]
     },
     "execution_count": 11,
     "metadata": {},
     "output_type": "execute_result"
    }
   ],
   "source": [
    "df.count() # We use this method to calculate the number of non-null (non-NaN) values in each column."
   ]
  },
  {
   "cell_type": "code",
   "execution_count": 12,
   "id": "61c448ea",
   "metadata": {},
   "outputs": [
    {
     "data": {
      "text/plain": [
       "STATISTIC Label      0\n",
       "Year                 0\n",
       "Age Group            0\n",
       "Sex                  0\n",
       "UNIT                 0\n",
       "VALUE              114\n",
       "dtype: int64"
      ]
     },
     "execution_count": 12,
     "metadata": {},
     "output_type": "execute_result"
    }
   ],
   "source": [
    "df.isnull().sum() # We use this method to calculate the number of null (NaN) values in each column."
   ]
  },
  {
   "cell_type": "code",
   "execution_count": 13,
   "id": "d67d5ddf",
   "metadata": {},
   "outputs": [
    {
     "data": {
      "text/plain": [
       "0"
      ]
     },
     "execution_count": 13,
     "metadata": {},
     "output_type": "execute_result"
    }
   ],
   "source": [
    "df.duplicated().sum() # We use this method to calculate the number of duplicated rows"
   ]
  },
  {
   "cell_type": "code",
   "execution_count": 14,
   "id": "a0e58f0a",
   "metadata": {},
   "outputs": [],
   "source": [
    "# We drop some columns which we do not use because these columns include just one unique value\n",
    "to_drop=[\"STATISTIC Label\",\"UNIT\"] \n",
    "df.drop(columns=to_drop,inplace=True)"
   ]
  },
  {
   "cell_type": "code",
   "execution_count": 15,
   "id": "5fdb5045",
   "metadata": {},
   "outputs": [],
   "source": [
    "# We rename the 'VALUE' column to maintain consistent column title style.\n",
    "df=df.rename(columns={\"VALUE\":\"Value\"})"
   ]
  },
  {
   "cell_type": "code",
   "execution_count": 16,
   "id": "b06f0be3",
   "metadata": {},
   "outputs": [
    {
     "data": {
      "text/plain": [
       "0         61.1\n",
       "1         31.4\n",
       "2         29.7\n",
       "3          NaN\n",
       "4          NaN\n",
       "         ...  \n",
       "5989      33.1\n",
       "5990      53.9\n",
       "5991    5281.6\n",
       "5992    2606.2\n",
       "5993    2675.4\n",
       "Name: Value, Length: 5994, dtype: float64"
      ]
     },
     "execution_count": 16,
     "metadata": {},
     "output_type": "execute_result"
    }
   ],
   "source": [
    "df[\"Value\"]"
   ]
  },
  {
   "cell_type": "code",
   "execution_count": 17,
   "id": "ebe10ef3",
   "metadata": {},
   "outputs": [],
   "source": [
    "#df[\"Value\"]=(df[\"Value\"]*1000) # we changed the value because we drop UNIT column where it is writing exact value label"
   ]
  },
  {
   "cell_type": "code",
   "execution_count": 18,
   "id": "9c002e87",
   "metadata": {},
   "outputs": [
    {
     "data": {
      "text/html": [
       "<div>\n",
       "<style scoped>\n",
       "    .dataframe tbody tr th:only-of-type {\n",
       "        vertical-align: middle;\n",
       "    }\n",
       "\n",
       "    .dataframe tbody tr th {\n",
       "        vertical-align: top;\n",
       "    }\n",
       "\n",
       "    .dataframe thead th {\n",
       "        text-align: right;\n",
       "    }\n",
       "</style>\n",
       "<table border=\"1\" class=\"dataframe\">\n",
       "  <thead>\n",
       "    <tr style=\"text-align: right;\">\n",
       "      <th></th>\n",
       "      <th>Year</th>\n",
       "      <th>Age Group</th>\n",
       "      <th>Sex</th>\n",
       "      <th>Value</th>\n",
       "    </tr>\n",
       "  </thead>\n",
       "  <tbody>\n",
       "    <tr>\n",
       "      <th>3</th>\n",
       "      <td>1950</td>\n",
       "      <td>0 - 4 years</td>\n",
       "      <td>Both sexes</td>\n",
       "      <td>NaN</td>\n",
       "    </tr>\n",
       "    <tr>\n",
       "      <th>4</th>\n",
       "      <td>1950</td>\n",
       "      <td>0 - 4 years</td>\n",
       "      <td>Male</td>\n",
       "      <td>NaN</td>\n",
       "    </tr>\n",
       "    <tr>\n",
       "      <th>5</th>\n",
       "      <td>1950</td>\n",
       "      <td>0 - 4 years</td>\n",
       "      <td>Female</td>\n",
       "      <td>NaN</td>\n",
       "    </tr>\n",
       "    <tr>\n",
       "      <th>165</th>\n",
       "      <td>1952</td>\n",
       "      <td>0 - 4 years</td>\n",
       "      <td>Both sexes</td>\n",
       "      <td>NaN</td>\n",
       "    </tr>\n",
       "    <tr>\n",
       "      <th>166</th>\n",
       "      <td>1952</td>\n",
       "      <td>0 - 4 years</td>\n",
       "      <td>Male</td>\n",
       "      <td>NaN</td>\n",
       "    </tr>\n",
       "    <tr>\n",
       "      <th>...</th>\n",
       "      <td>...</td>\n",
       "      <td>...</td>\n",
       "      <td>...</td>\n",
       "      <td>...</td>\n",
       "    </tr>\n",
       "    <tr>\n",
       "      <th>3568</th>\n",
       "      <td>1994</td>\n",
       "      <td>0 - 4 years</td>\n",
       "      <td>Male</td>\n",
       "      <td>NaN</td>\n",
       "    </tr>\n",
       "    <tr>\n",
       "      <th>3569</th>\n",
       "      <td>1994</td>\n",
       "      <td>0 - 4 years</td>\n",
       "      <td>Female</td>\n",
       "      <td>NaN</td>\n",
       "    </tr>\n",
       "    <tr>\n",
       "      <th>3648</th>\n",
       "      <td>1995</td>\n",
       "      <td>0 - 4 years</td>\n",
       "      <td>Both sexes</td>\n",
       "      <td>NaN</td>\n",
       "    </tr>\n",
       "    <tr>\n",
       "      <th>3649</th>\n",
       "      <td>1995</td>\n",
       "      <td>0 - 4 years</td>\n",
       "      <td>Male</td>\n",
       "      <td>NaN</td>\n",
       "    </tr>\n",
       "    <tr>\n",
       "      <th>3650</th>\n",
       "      <td>1995</td>\n",
       "      <td>0 - 4 years</td>\n",
       "      <td>Female</td>\n",
       "      <td>NaN</td>\n",
       "    </tr>\n",
       "  </tbody>\n",
       "</table>\n",
       "<p>114 rows × 4 columns</p>\n",
       "</div>"
      ],
      "text/plain": [
       "      Year    Age Group         Sex  Value\n",
       "3     1950  0 - 4 years  Both sexes    NaN\n",
       "4     1950  0 - 4 years        Male    NaN\n",
       "5     1950  0 - 4 years      Female    NaN\n",
       "165   1952  0 - 4 years  Both sexes    NaN\n",
       "166   1952  0 - 4 years        Male    NaN\n",
       "...    ...          ...         ...    ...\n",
       "3568  1994  0 - 4 years        Male    NaN\n",
       "3569  1994  0 - 4 years      Female    NaN\n",
       "3648  1995  0 - 4 years  Both sexes    NaN\n",
       "3649  1995  0 - 4 years        Male    NaN\n",
       "3650  1995  0 - 4 years      Female    NaN\n",
       "\n",
       "[114 rows x 4 columns]"
      ]
     },
     "execution_count": 18,
     "metadata": {},
     "output_type": "execute_result"
    }
   ],
   "source": [
    "missing_df=df[df.isna().any(axis=1)] #missing data rows\n",
    "missing_df"
   ]
  },
  {
   "cell_type": "code",
   "execution_count": 19,
   "id": "97cb919e",
   "metadata": {
    "scrolled": false
   },
   "outputs": [
    {
     "data": {
      "text/html": [
       "<div>\n",
       "<style scoped>\n",
       "    .dataframe tbody tr th:only-of-type {\n",
       "        vertical-align: middle;\n",
       "    }\n",
       "\n",
       "    .dataframe tbody tr th {\n",
       "        vertical-align: top;\n",
       "    }\n",
       "\n",
       "    .dataframe thead th {\n",
       "        text-align: right;\n",
       "    }\n",
       "</style>\n",
       "<table border=\"1\" class=\"dataframe\">\n",
       "  <thead>\n",
       "    <tr style=\"text-align: right;\">\n",
       "      <th></th>\n",
       "      <th>Year</th>\n",
       "      <th>Age Group</th>\n",
       "      <th>Sex</th>\n",
       "      <th>Value</th>\n",
       "    </tr>\n",
       "  </thead>\n",
       "  <tbody>\n",
       "    <tr>\n",
       "      <th>3</th>\n",
       "      <td>1950</td>\n",
       "      <td>0 - 4 years</td>\n",
       "      <td>Both sexes</td>\n",
       "      <td>NaN</td>\n",
       "    </tr>\n",
       "    <tr>\n",
       "      <th>4</th>\n",
       "      <td>1950</td>\n",
       "      <td>0 - 4 years</td>\n",
       "      <td>Male</td>\n",
       "      <td>NaN</td>\n",
       "    </tr>\n",
       "    <tr>\n",
       "      <th>5</th>\n",
       "      <td>1950</td>\n",
       "      <td>0 - 4 years</td>\n",
       "      <td>Female</td>\n",
       "      <td>NaN</td>\n",
       "    </tr>\n",
       "    <tr>\n",
       "      <th>84</th>\n",
       "      <td>1951</td>\n",
       "      <td>0 - 4 years</td>\n",
       "      <td>Both sexes</td>\n",
       "      <td>312.9</td>\n",
       "    </tr>\n",
       "    <tr>\n",
       "      <th>85</th>\n",
       "      <td>1951</td>\n",
       "      <td>0 - 4 years</td>\n",
       "      <td>Male</td>\n",
       "      <td>160.0</td>\n",
       "    </tr>\n",
       "    <tr>\n",
       "      <th>...</th>\n",
       "      <td>...</td>\n",
       "      <td>...</td>\n",
       "      <td>...</td>\n",
       "      <td>...</td>\n",
       "    </tr>\n",
       "    <tr>\n",
       "      <th>5836</th>\n",
       "      <td>2022</td>\n",
       "      <td>0 - 4 years</td>\n",
       "      <td>Male</td>\n",
       "      <td>151.6</td>\n",
       "    </tr>\n",
       "    <tr>\n",
       "      <th>5837</th>\n",
       "      <td>2022</td>\n",
       "      <td>0 - 4 years</td>\n",
       "      <td>Female</td>\n",
       "      <td>144.2</td>\n",
       "    </tr>\n",
       "    <tr>\n",
       "      <th>5916</th>\n",
       "      <td>2023</td>\n",
       "      <td>0 - 4 years</td>\n",
       "      <td>Both sexes</td>\n",
       "      <td>293.8</td>\n",
       "    </tr>\n",
       "    <tr>\n",
       "      <th>5917</th>\n",
       "      <td>2023</td>\n",
       "      <td>0 - 4 years</td>\n",
       "      <td>Male</td>\n",
       "      <td>149.2</td>\n",
       "    </tr>\n",
       "    <tr>\n",
       "      <th>5918</th>\n",
       "      <td>2023</td>\n",
       "      <td>0 - 4 years</td>\n",
       "      <td>Female</td>\n",
       "      <td>144.6</td>\n",
       "    </tr>\n",
       "  </tbody>\n",
       "</table>\n",
       "<p>222 rows × 4 columns</p>\n",
       "</div>"
      ],
      "text/plain": [
       "      Year    Age Group         Sex  Value\n",
       "3     1950  0 - 4 years  Both sexes    NaN\n",
       "4     1950  0 - 4 years        Male    NaN\n",
       "5     1950  0 - 4 years      Female    NaN\n",
       "84    1951  0 - 4 years  Both sexes  312.9\n",
       "85    1951  0 - 4 years        Male  160.0\n",
       "...    ...          ...         ...    ...\n",
       "5836  2022  0 - 4 years        Male  151.6\n",
       "5837  2022  0 - 4 years      Female  144.2\n",
       "5916  2023  0 - 4 years  Both sexes  293.8\n",
       "5917  2023  0 - 4 years        Male  149.2\n",
       "5918  2023  0 - 4 years      Female  144.6\n",
       "\n",
       "[222 rows x 4 columns]"
      ]
     },
     "execution_count": 19,
     "metadata": {},
     "output_type": "execute_result"
    }
   ],
   "source": [
    "all_0_4=df[(df[\"Age Group\"]==\"0 - 4 years\")]\n",
    "all_0_4"
   ]
  },
  {
   "cell_type": "code",
   "execution_count": 20,
   "id": "6d586e97",
   "metadata": {},
   "outputs": [
    {
     "name": "stdout",
     "output_type": "stream",
     "text": [
      "   Year     Age Group         Sex  Value\n",
      "0  1950  Under 1 year  Both sexes   61.1\n",
      "1  1950  Under 1 year        Male   31.4\n",
      "2  1950  Under 1 year      Female   29.7\n",
      "3  1950   0 - 4 years  Both sexes  310.2\n",
      "4  1950   0 - 4 years        Male  158.9\n",
      "      Year          Age Group         Sex   Value\n",
      "5989  2023  85 years and over        Male    33.1\n",
      "5990  2023  85 years and over      Female    53.9\n",
      "5991  2023           All ages  Both sexes  5281.6\n",
      "5992  2023           All ages        Male  2606.2\n",
      "5993  2023           All ages      Female  2675.4\n"
     ]
    }
   ],
   "source": [
    "# We fill the missing data in the \"0 - 4 years\" age group with the sum of \"Under 1 year\" and \"1 - 4 years\" age groups.\n",
    "\n",
    "for year in df['Year'].unique():\n",
    "    for sex in df['Sex'].unique():\n",
    "        total_value = df[(df['Year'] == year) & (df['Sex'] == sex) & \n",
    "                         (df['Age Group'].isin(['Under 1 year', '1 - 4 years']))]['Value'].sum()\n",
    "        missing_value = (df['Year'] == year) & (df['Sex'] == sex) & (df['Age Group'] == '0 - 4 years')\n",
    "        df.loc[missing_value, 'Value'] = total_value\n",
    "\n",
    "# After filling in the missing data, we view the first and last 5 values of the data frame.\n",
    "print(df.head(5))\n",
    "print(df.tail(5))"
   ]
  },
  {
   "cell_type": "code",
   "execution_count": 21,
   "id": "f862fffe",
   "metadata": {},
   "outputs": [
    {
     "data": {
      "text/html": [
       "<div>\n",
       "<style scoped>\n",
       "    .dataframe tbody tr th:only-of-type {\n",
       "        vertical-align: middle;\n",
       "    }\n",
       "\n",
       "    .dataframe tbody tr th {\n",
       "        vertical-align: top;\n",
       "    }\n",
       "\n",
       "    .dataframe thead th {\n",
       "        text-align: right;\n",
       "    }\n",
       "</style>\n",
       "<table border=\"1\" class=\"dataframe\">\n",
       "  <thead>\n",
       "    <tr style=\"text-align: right;\">\n",
       "      <th></th>\n",
       "      <th>Year</th>\n",
       "      <th>Age Group</th>\n",
       "      <th>Sex</th>\n",
       "      <th>Value</th>\n",
       "    </tr>\n",
       "  </thead>\n",
       "  <tbody>\n",
       "    <tr>\n",
       "      <th>3</th>\n",
       "      <td>1950</td>\n",
       "      <td>0 - 4 years</td>\n",
       "      <td>Both sexes</td>\n",
       "      <td>310.2</td>\n",
       "    </tr>\n",
       "    <tr>\n",
       "      <th>4</th>\n",
       "      <td>1950</td>\n",
       "      <td>0 - 4 years</td>\n",
       "      <td>Male</td>\n",
       "      <td>158.9</td>\n",
       "    </tr>\n",
       "    <tr>\n",
       "      <th>5</th>\n",
       "      <td>1950</td>\n",
       "      <td>0 - 4 years</td>\n",
       "      <td>Female</td>\n",
       "      <td>151.3</td>\n",
       "    </tr>\n",
       "    <tr>\n",
       "      <th>84</th>\n",
       "      <td>1951</td>\n",
       "      <td>0 - 4 years</td>\n",
       "      <td>Both sexes</td>\n",
       "      <td>312.9</td>\n",
       "    </tr>\n",
       "    <tr>\n",
       "      <th>85</th>\n",
       "      <td>1951</td>\n",
       "      <td>0 - 4 years</td>\n",
       "      <td>Male</td>\n",
       "      <td>160.2</td>\n",
       "    </tr>\n",
       "    <tr>\n",
       "      <th>...</th>\n",
       "      <td>...</td>\n",
       "      <td>...</td>\n",
       "      <td>...</td>\n",
       "      <td>...</td>\n",
       "    </tr>\n",
       "    <tr>\n",
       "      <th>5836</th>\n",
       "      <td>2022</td>\n",
       "      <td>0 - 4 years</td>\n",
       "      <td>Male</td>\n",
       "      <td>151.5</td>\n",
       "    </tr>\n",
       "    <tr>\n",
       "      <th>5837</th>\n",
       "      <td>2022</td>\n",
       "      <td>0 - 4 years</td>\n",
       "      <td>Female</td>\n",
       "      <td>144.2</td>\n",
       "    </tr>\n",
       "    <tr>\n",
       "      <th>5916</th>\n",
       "      <td>2023</td>\n",
       "      <td>0 - 4 years</td>\n",
       "      <td>Both sexes</td>\n",
       "      <td>293.8</td>\n",
       "    </tr>\n",
       "    <tr>\n",
       "      <th>5917</th>\n",
       "      <td>2023</td>\n",
       "      <td>0 - 4 years</td>\n",
       "      <td>Male</td>\n",
       "      <td>149.2</td>\n",
       "    </tr>\n",
       "    <tr>\n",
       "      <th>5918</th>\n",
       "      <td>2023</td>\n",
       "      <td>0 - 4 years</td>\n",
       "      <td>Female</td>\n",
       "      <td>144.6</td>\n",
       "    </tr>\n",
       "  </tbody>\n",
       "</table>\n",
       "<p>222 rows × 4 columns</p>\n",
       "</div>"
      ],
      "text/plain": [
       "      Year    Age Group         Sex  Value\n",
       "3     1950  0 - 4 years  Both sexes  310.2\n",
       "4     1950  0 - 4 years        Male  158.9\n",
       "5     1950  0 - 4 years      Female  151.3\n",
       "84    1951  0 - 4 years  Both sexes  312.9\n",
       "85    1951  0 - 4 years        Male  160.2\n",
       "...    ...          ...         ...    ...\n",
       "5836  2022  0 - 4 years        Male  151.5\n",
       "5837  2022  0 - 4 years      Female  144.2\n",
       "5916  2023  0 - 4 years  Both sexes  293.8\n",
       "5917  2023  0 - 4 years        Male  149.2\n",
       "5918  2023  0 - 4 years      Female  144.6\n",
       "\n",
       "[222 rows x 4 columns]"
      ]
     },
     "execution_count": 21,
     "metadata": {},
     "output_type": "execute_result"
    }
   ],
   "source": [
    "all_0_4=df[(df[\"Age Group\"]==\"0 - 4 years\")]\n",
    "all_0_4"
   ]
  },
  {
   "cell_type": "code",
   "execution_count": 28,
   "id": "bfc5649f",
   "metadata": {},
   "outputs": [],
   "source": [
    "#df['Age Group'].unique()"
   ]
  },
  {
   "cell_type": "code",
   "execution_count": 29,
   "id": "af998f0f",
   "metadata": {},
   "outputs": [],
   "source": [
    "#df['Year'].unique()"
   ]
  },
  {
   "cell_type": "code",
   "execution_count": 30,
   "id": "02f71ade",
   "metadata": {},
   "outputs": [],
   "source": [
    "#df['Sex'].unique()"
   ]
  },
  {
   "cell_type": "code",
   "execution_count": 25,
   "id": "73b9da9b",
   "metadata": {},
   "outputs": [
    {
     "name": "stdout",
     "output_type": "stream",
     "text": [
      "Please select a option!\n"
     ]
    },
    {
     "data": {
      "application/vnd.jupyter.widget-view+json": {
       "model_id": "6c11f978f11e431a84905f2cea838a73",
       "version_major": 2,
       "version_minor": 0
      },
      "text/plain": [
       "Dropdown(description='Year:', options=(1950, 1951, 1952, 1953, 1954, 1955, 1956, 1957, 1958, 1959, 1960, 1961,…"
      ]
     },
     "metadata": {},
     "output_type": "display_data"
    },
    {
     "data": {
      "application/vnd.jupyter.widget-view+json": {
       "model_id": "9f0cd907e0874649a2a77b2d4d68d099",
       "version_major": 2,
       "version_minor": 0
      },
      "text/plain": [
       "Dropdown(description='Age Group:', options=('Under 1 year', '0 - 4 years', '0 - 14 years', '1 - 4 years', '5 -…"
      ]
     },
     "metadata": {},
     "output_type": "display_data"
    },
    {
     "data": {
      "application/vnd.jupyter.widget-view+json": {
       "model_id": "96c3c4c6b6624675b48a4cf1a457d916",
       "version_major": 2,
       "version_minor": 0
      },
      "text/plain": [
       "Dropdown(description='Sex:', options=('Both sexes', 'Male', 'Female'), value='Both sexes')"
      ]
     },
     "metadata": {},
     "output_type": "display_data"
    }
   ],
   "source": [
    "import ipywidgets as widgets\n",
    "from IPython.display import display\n",
    "\n",
    "# Identify options\n",
    "year_option = df['Year'].unique()\n",
    "age_group_option = df['Age Group'].unique()\n",
    "sex_option = df['Sex'].unique()\n",
    "\n",
    "# Create dropdown widget\n",
    "dropdown_year = widgets.Dropdown(options=year_option,description=\"Year:\")\n",
    "dropdown_age_group = widgets.Dropdown(options=age_group_option,description=\"Age Group:\")\n",
    "dropdown_sex = widgets.Dropdown(options=sex_option,description=\"Sex:\")\n",
    "\n",
    "# Show Widget\n",
    "print(\"Please select a option!\")\n",
    "display(dropdown_year)\n",
    "display(dropdown_age_group)\n",
    "display(dropdown_sex)"
   ]
  },
  {
   "cell_type": "code",
   "execution_count": 49,
   "id": "94184a2c",
   "metadata": {},
   "outputs": [
    {
     "name": "stdout",
     "output_type": "stream",
     "text": [
      "In '1965', the result for the age group '0 - 4 years', and the sex 'Both sexes' is: 313.4\n"
     ]
    }
   ],
   "source": [
    "year = dropdown_year.value\n",
    "age_group = dropdown_age_group.value\n",
    "sex= dropdown_sex.value\n",
    "\n",
    "result = df[(df['Year'] == year) & (df['Age Group'] == age_group) & (df['Sex'] == sex)]['Value'].values[0]\n",
    "print(f\"In '{year}', the result for the age group '{age_group}', and the sex '{sex}' is: {result}\")"
   ]
  },
  {
   "cell_type": "code",
   "execution_count": 50,
   "id": "61ef3105",
   "metadata": {},
   "outputs": [
    {
     "data": {
      "text/html": [
       "<div>\n",
       "<style scoped>\n",
       "    .dataframe tbody tr th:only-of-type {\n",
       "        vertical-align: middle;\n",
       "    }\n",
       "\n",
       "    .dataframe tbody tr th {\n",
       "        vertical-align: top;\n",
       "    }\n",
       "\n",
       "    .dataframe thead th {\n",
       "        text-align: right;\n",
       "    }\n",
       "</style>\n",
       "<table border=\"1\" class=\"dataframe\">\n",
       "  <thead>\n",
       "    <tr style=\"text-align: right;\">\n",
       "      <th></th>\n",
       "      <th>Year</th>\n",
       "      <th>Age Group</th>\n",
       "      <th>Sex</th>\n",
       "      <th>Value</th>\n",
       "    </tr>\n",
       "  </thead>\n",
       "  <tbody>\n",
       "    <tr>\n",
       "      <th>1218</th>\n",
       "      <td>1965</td>\n",
       "      <td>0 - 4 years</td>\n",
       "      <td>Both sexes</td>\n",
       "      <td>313.4</td>\n",
       "    </tr>\n",
       "    <tr>\n",
       "      <th>1219</th>\n",
       "      <td>1965</td>\n",
       "      <td>0 - 4 years</td>\n",
       "      <td>Male</td>\n",
       "      <td>160.1</td>\n",
       "    </tr>\n",
       "    <tr>\n",
       "      <th>1220</th>\n",
       "      <td>1965</td>\n",
       "      <td>0 - 4 years</td>\n",
       "      <td>Female</td>\n",
       "      <td>153.3</td>\n",
       "    </tr>\n",
       "  </tbody>\n",
       "</table>\n",
       "</div>"
      ],
      "text/plain": [
       "      Year    Age Group         Sex  Value\n",
       "1218  1965  0 - 4 years  Both sexes  313.4\n",
       "1219  1965  0 - 4 years        Male  160.1\n",
       "1220  1965  0 - 4 years      Female  153.3"
      ]
     },
     "execution_count": 50,
     "metadata": {},
     "output_type": "execute_result"
    }
   ],
   "source": [
    "table_year_age_group = df[(df['Year'] == year) & (df['Age Group'] == age_group)]\n",
    "table_year_age_group"
   ]
  },
  {
   "cell_type": "code",
   "execution_count": 51,
   "id": "fd951848",
   "metadata": {},
   "outputs": [
    {
     "data": {
      "text/html": [
       "<div>\n",
       "<style scoped>\n",
       "    .dataframe tbody tr th:only-of-type {\n",
       "        vertical-align: middle;\n",
       "    }\n",
       "\n",
       "    .dataframe tbody tr th {\n",
       "        vertical-align: top;\n",
       "    }\n",
       "\n",
       "    .dataframe thead th {\n",
       "        text-align: right;\n",
       "    }\n",
       "</style>\n",
       "<table border=\"1\" class=\"dataframe\">\n",
       "  <thead>\n",
       "    <tr style=\"text-align: right;\">\n",
       "      <th></th>\n",
       "      <th>Year</th>\n",
       "      <th>Age Group</th>\n",
       "      <th>Sex</th>\n",
       "      <th>Value</th>\n",
       "    </tr>\n",
       "  </thead>\n",
       "  <tbody>\n",
       "    <tr>\n",
       "      <th>3</th>\n",
       "      <td>1950</td>\n",
       "      <td>0 - 4 years</td>\n",
       "      <td>Both sexes</td>\n",
       "      <td>310.2</td>\n",
       "    </tr>\n",
       "    <tr>\n",
       "      <th>84</th>\n",
       "      <td>1951</td>\n",
       "      <td>0 - 4 years</td>\n",
       "      <td>Both sexes</td>\n",
       "      <td>312.9</td>\n",
       "    </tr>\n",
       "    <tr>\n",
       "      <th>165</th>\n",
       "      <td>1952</td>\n",
       "      <td>0 - 4 years</td>\n",
       "      <td>Both sexes</td>\n",
       "      <td>310.3</td>\n",
       "    </tr>\n",
       "    <tr>\n",
       "      <th>246</th>\n",
       "      <td>1953</td>\n",
       "      <td>0 - 4 years</td>\n",
       "      <td>Both sexes</td>\n",
       "      <td>308.2</td>\n",
       "    </tr>\n",
       "    <tr>\n",
       "      <th>327</th>\n",
       "      <td>1954</td>\n",
       "      <td>0 - 4 years</td>\n",
       "      <td>Both sexes</td>\n",
       "      <td>305.9</td>\n",
       "    </tr>\n",
       "    <tr>\n",
       "      <th>...</th>\n",
       "      <td>...</td>\n",
       "      <td>...</td>\n",
       "      <td>...</td>\n",
       "      <td>...</td>\n",
       "    </tr>\n",
       "    <tr>\n",
       "      <th>5592</th>\n",
       "      <td>2019</td>\n",
       "      <td>0 - 4 years</td>\n",
       "      <td>Both sexes</td>\n",
       "      <td>315.0</td>\n",
       "    </tr>\n",
       "    <tr>\n",
       "      <th>5673</th>\n",
       "      <td>2020</td>\n",
       "      <td>0 - 4 years</td>\n",
       "      <td>Both sexes</td>\n",
       "      <td>308.7</td>\n",
       "    </tr>\n",
       "    <tr>\n",
       "      <th>5754</th>\n",
       "      <td>2021</td>\n",
       "      <td>0 - 4 years</td>\n",
       "      <td>Both sexes</td>\n",
       "      <td>300.9</td>\n",
       "    </tr>\n",
       "    <tr>\n",
       "      <th>5835</th>\n",
       "      <td>2022</td>\n",
       "      <td>0 - 4 years</td>\n",
       "      <td>Both sexes</td>\n",
       "      <td>295.9</td>\n",
       "    </tr>\n",
       "    <tr>\n",
       "      <th>5916</th>\n",
       "      <td>2023</td>\n",
       "      <td>0 - 4 years</td>\n",
       "      <td>Both sexes</td>\n",
       "      <td>293.8</td>\n",
       "    </tr>\n",
       "  </tbody>\n",
       "</table>\n",
       "<p>74 rows × 4 columns</p>\n",
       "</div>"
      ],
      "text/plain": [
       "      Year    Age Group         Sex  Value\n",
       "3     1950  0 - 4 years  Both sexes  310.2\n",
       "84    1951  0 - 4 years  Both sexes  312.9\n",
       "165   1952  0 - 4 years  Both sexes  310.3\n",
       "246   1953  0 - 4 years  Both sexes  308.2\n",
       "327   1954  0 - 4 years  Both sexes  305.9\n",
       "...    ...          ...         ...    ...\n",
       "5592  2019  0 - 4 years  Both sexes  315.0\n",
       "5673  2020  0 - 4 years  Both sexes  308.7\n",
       "5754  2021  0 - 4 years  Both sexes  300.9\n",
       "5835  2022  0 - 4 years  Both sexes  295.9\n",
       "5916  2023  0 - 4 years  Both sexes  293.8\n",
       "\n",
       "[74 rows x 4 columns]"
      ]
     },
     "execution_count": 51,
     "metadata": {},
     "output_type": "execute_result"
    }
   ],
   "source": [
    "table_age_group_sex = df[(df['Age Group'] == age_group) & (df[\"Sex\"] == sex)]\n",
    "table_age_group_sex"
   ]
  },
  {
   "cell_type": "code",
   "execution_count": 32,
   "id": "1aff07d2",
   "metadata": {
    "scrolled": true
   },
   "outputs": [],
   "source": [
    "#year = dropdown_year.value\n",
    "#age_group = dropdown_age_group.value\n",
    "#sex= dropdown_sex.value\n",
    "#print(\"Year:\", year)\n",
    "#print(\"Age Group:\", age_group)\n",
    "#print(\"Sex:\", sex,\"\\n\")\n",
    "\n",
    "## We print the result for a specific year, age group, and sex.\n",
    "#result = df[(df['Year'] == year) & (df['Age Group'] == age_group) & (df['Sex'] == sex)]['Value'].values[0]\n",
    "#print(f\"In '{year}', the result for the age group '{age_group}', and the sex '{sex}' is: {result}\")"
   ]
  },
  {
   "cell_type": "code",
   "execution_count": 36,
   "id": "fbae8fd8",
   "metadata": {},
   "outputs": [],
   "source": [
    "# year = 1965\n",
    "# age_range = \"1 - 4 years\"\n",
    "# sex = \"Both sexes\"\n",
    "\n",
    "# # We print the result for a specific year, age range, and gender.\n",
    "# result = df[(df['Year'] == year) & (df['Age Group'] == age_range) & (df['Sex'] == sex)]['Value'].values[0]\n",
    "# print(f\"In {year}, the result for the age group {age_range}, and the gender {sex} is: {result}\")"
   ]
  },
  {
   "cell_type": "code",
   "execution_count": 52,
   "id": "975d1958",
   "metadata": {},
   "outputs": [],
   "source": [
    "# toplam_yas = df[(df['Year'] == 1965) & (df['Sex'] == \"Both sexes\") & (df['Age Group'].isin(['Under 1 year', '1 - 4 years']))]['Value'].sum()\n",
    "# toplam_yas"
   ]
  },
  {
   "cell_type": "code",
   "execution_count": 65,
   "id": "29fb35b6",
   "metadata": {},
   "outputs": [],
   "source": [
    "#all_0_4=df[(df[\"Age Group\"]==\"0 - 4 years\")]\n",
    "#all_0_4.head(5)"
   ]
  },
  {
   "cell_type": "code",
   "execution_count": 64,
   "id": "9f19b336",
   "metadata": {},
   "outputs": [],
   "source": [
    "#all_0_4.shape"
   ]
  },
  {
   "cell_type": "code",
   "execution_count": 63,
   "id": "eb2b8e05",
   "metadata": {
    "scrolled": true
   },
   "outputs": [],
   "source": [
    "#all_0_4.isnull().sum()"
   ]
  },
  {
   "cell_type": "code",
   "execution_count": 66,
   "id": "1164be73",
   "metadata": {},
   "outputs": [],
   "source": [
    "def ecdf(data):\n",
    "    n = len(data)\n",
    "    x = np.sort(data)\n",
    "    y = np.arange(1, n+1) / n\n",
    "    return x,y"
   ]
  },
  {
   "cell_type": "code",
   "execution_count": null,
   "id": "b8df9a78",
   "metadata": {},
   "outputs": [],
   "source": [
    "total_value = year_1950['Value'].sum()\n",
    "print(\"Toplam Değer:\", total_value)"
   ]
  },
  {
   "cell_type": "code",
   "execution_count": 141,
   "id": "cc29dd5a",
   "metadata": {
    "scrolled": true
   },
   "outputs": [
    {
     "data": {
      "text/html": [
       "<div>\n",
       "<style scoped>\n",
       "    .dataframe tbody tr th:only-of-type {\n",
       "        vertical-align: middle;\n",
       "    }\n",
       "\n",
       "    .dataframe tbody tr th {\n",
       "        vertical-align: top;\n",
       "    }\n",
       "\n",
       "    .dataframe thead th {\n",
       "        text-align: right;\n",
       "    }\n",
       "</style>\n",
       "<table border=\"1\" class=\"dataframe\">\n",
       "  <thead>\n",
       "    <tr style=\"text-align: right;\">\n",
       "      <th></th>\n",
       "      <th>Year</th>\n",
       "      <th>Age Group</th>\n",
       "      <th>Sex</th>\n",
       "      <th>Value</th>\n",
       "    </tr>\n",
       "  </thead>\n",
       "  <tbody>\n",
       "    <tr>\n",
       "      <th>78</th>\n",
       "      <td>1950</td>\n",
       "      <td>All ages</td>\n",
       "      <td>Both sexes</td>\n",
       "      <td>2969.0</td>\n",
       "    </tr>\n",
       "    <tr>\n",
       "      <th>159</th>\n",
       "      <td>1951</td>\n",
       "      <td>All ages</td>\n",
       "      <td>Both sexes</td>\n",
       "      <td>2960.6</td>\n",
       "    </tr>\n",
       "    <tr>\n",
       "      <th>240</th>\n",
       "      <td>1952</td>\n",
       "      <td>All ages</td>\n",
       "      <td>Both sexes</td>\n",
       "      <td>2952.9</td>\n",
       "    </tr>\n",
       "    <tr>\n",
       "      <th>321</th>\n",
       "      <td>1953</td>\n",
       "      <td>All ages</td>\n",
       "      <td>Both sexes</td>\n",
       "      <td>2949.0</td>\n",
       "    </tr>\n",
       "    <tr>\n",
       "      <th>402</th>\n",
       "      <td>1954</td>\n",
       "      <td>All ages</td>\n",
       "      <td>Both sexes</td>\n",
       "      <td>2941.2</td>\n",
       "    </tr>\n",
       "    <tr>\n",
       "      <th>...</th>\n",
       "      <td>...</td>\n",
       "      <td>...</td>\n",
       "      <td>...</td>\n",
       "      <td>...</td>\n",
       "    </tr>\n",
       "    <tr>\n",
       "      <th>5667</th>\n",
       "      <td>2019</td>\n",
       "      <td>All ages</td>\n",
       "      <td>Both sexes</td>\n",
       "      <td>4958.5</td>\n",
       "    </tr>\n",
       "    <tr>\n",
       "      <th>5748</th>\n",
       "      <td>2020</td>\n",
       "      <td>All ages</td>\n",
       "      <td>Both sexes</td>\n",
       "      <td>5029.9</td>\n",
       "    </tr>\n",
       "    <tr>\n",
       "      <th>5829</th>\n",
       "      <td>2021</td>\n",
       "      <td>All ages</td>\n",
       "      <td>Both sexes</td>\n",
       "      <td>5074.7</td>\n",
       "    </tr>\n",
       "    <tr>\n",
       "      <th>5910</th>\n",
       "      <td>2022</td>\n",
       "      <td>All ages</td>\n",
       "      <td>Both sexes</td>\n",
       "      <td>5184.0</td>\n",
       "    </tr>\n",
       "    <tr>\n",
       "      <th>5991</th>\n",
       "      <td>2023</td>\n",
       "      <td>All ages</td>\n",
       "      <td>Both sexes</td>\n",
       "      <td>5281.6</td>\n",
       "    </tr>\n",
       "  </tbody>\n",
       "</table>\n",
       "<p>74 rows × 4 columns</p>\n",
       "</div>"
      ],
      "text/plain": [
       "      Year Age Group         Sex   Value\n",
       "78    1950  All ages  Both sexes  2969.0\n",
       "159   1951  All ages  Both sexes  2960.6\n",
       "240   1952  All ages  Both sexes  2952.9\n",
       "321   1953  All ages  Both sexes  2949.0\n",
       "402   1954  All ages  Both sexes  2941.2\n",
       "...    ...       ...         ...     ...\n",
       "5667  2019  All ages  Both sexes  4958.5\n",
       "5748  2020  All ages  Both sexes  5029.9\n",
       "5829  2021  All ages  Both sexes  5074.7\n",
       "5910  2022  All ages  Both sexes  5184.0\n",
       "5991  2023  All ages  Both sexes  5281.6\n",
       "\n",
       "[74 rows x 4 columns]"
      ]
     },
     "execution_count": 141,
     "metadata": {},
     "output_type": "execute_result"
    }
   ],
   "source": [
    "a=df[(df[\"Sex\"]==\"Both sexes\") & (df[\"Age Group\"]==\"All ages\")]\n",
    "#a=a[a[\"Year\"]>=1990]\n",
    "a"
   ]
  },
  {
   "cell_type": "code",
   "execution_count": 142,
   "id": "bd557604",
   "metadata": {},
   "outputs": [
    {
     "data": {
      "text/html": [
       "<div>\n",
       "<style scoped>\n",
       "    .dataframe tbody tr th:only-of-type {\n",
       "        vertical-align: middle;\n",
       "    }\n",
       "\n",
       "    .dataframe tbody tr th {\n",
       "        vertical-align: top;\n",
       "    }\n",
       "\n",
       "    .dataframe thead th {\n",
       "        text-align: right;\n",
       "    }\n",
       "</style>\n",
       "<table border=\"1\" class=\"dataframe\">\n",
       "  <thead>\n",
       "    <tr style=\"text-align: right;\">\n",
       "      <th></th>\n",
       "      <th>Year</th>\n",
       "      <th>Age Group</th>\n",
       "      <th>Sex</th>\n",
       "      <th>Value</th>\n",
       "    </tr>\n",
       "  </thead>\n",
       "  <tbody>\n",
       "    <tr>\n",
       "      <th>78</th>\n",
       "      <td>1950</td>\n",
       "      <td>All ages</td>\n",
       "      <td>Both sexes</td>\n",
       "      <td>2.9690</td>\n",
       "    </tr>\n",
       "    <tr>\n",
       "      <th>159</th>\n",
       "      <td>1951</td>\n",
       "      <td>All ages</td>\n",
       "      <td>Both sexes</td>\n",
       "      <td>2.9606</td>\n",
       "    </tr>\n",
       "    <tr>\n",
       "      <th>240</th>\n",
       "      <td>1952</td>\n",
       "      <td>All ages</td>\n",
       "      <td>Both sexes</td>\n",
       "      <td>2.9529</td>\n",
       "    </tr>\n",
       "    <tr>\n",
       "      <th>321</th>\n",
       "      <td>1953</td>\n",
       "      <td>All ages</td>\n",
       "      <td>Both sexes</td>\n",
       "      <td>2.9490</td>\n",
       "    </tr>\n",
       "    <tr>\n",
       "      <th>402</th>\n",
       "      <td>1954</td>\n",
       "      <td>All ages</td>\n",
       "      <td>Both sexes</td>\n",
       "      <td>2.9412</td>\n",
       "    </tr>\n",
       "    <tr>\n",
       "      <th>...</th>\n",
       "      <td>...</td>\n",
       "      <td>...</td>\n",
       "      <td>...</td>\n",
       "      <td>...</td>\n",
       "    </tr>\n",
       "    <tr>\n",
       "      <th>5667</th>\n",
       "      <td>2019</td>\n",
       "      <td>All ages</td>\n",
       "      <td>Both sexes</td>\n",
       "      <td>4.9585</td>\n",
       "    </tr>\n",
       "    <tr>\n",
       "      <th>5748</th>\n",
       "      <td>2020</td>\n",
       "      <td>All ages</td>\n",
       "      <td>Both sexes</td>\n",
       "      <td>5.0299</td>\n",
       "    </tr>\n",
       "    <tr>\n",
       "      <th>5829</th>\n",
       "      <td>2021</td>\n",
       "      <td>All ages</td>\n",
       "      <td>Both sexes</td>\n",
       "      <td>5.0747</td>\n",
       "    </tr>\n",
       "    <tr>\n",
       "      <th>5910</th>\n",
       "      <td>2022</td>\n",
       "      <td>All ages</td>\n",
       "      <td>Both sexes</td>\n",
       "      <td>5.1840</td>\n",
       "    </tr>\n",
       "    <tr>\n",
       "      <th>5991</th>\n",
       "      <td>2023</td>\n",
       "      <td>All ages</td>\n",
       "      <td>Both sexes</td>\n",
       "      <td>5.2816</td>\n",
       "    </tr>\n",
       "  </tbody>\n",
       "</table>\n",
       "<p>74 rows × 4 columns</p>\n",
       "</div>"
      ],
      "text/plain": [
       "      Year Age Group         Sex   Value\n",
       "78    1950  All ages  Both sexes  2.9690\n",
       "159   1951  All ages  Both sexes  2.9606\n",
       "240   1952  All ages  Both sexes  2.9529\n",
       "321   1953  All ages  Both sexes  2.9490\n",
       "402   1954  All ages  Both sexes  2.9412\n",
       "...    ...       ...         ...     ...\n",
       "5667  2019  All ages  Both sexes  4.9585\n",
       "5748  2020  All ages  Both sexes  5.0299\n",
       "5829  2021  All ages  Both sexes  5.0747\n",
       "5910  2022  All ages  Both sexes  5.1840\n",
       "5991  2023  All ages  Both sexes  5.2816\n",
       "\n",
       "[74 rows x 4 columns]"
      ]
     },
     "execution_count": 142,
     "metadata": {},
     "output_type": "execute_result"
    }
   ],
   "source": [
    "a[\"Value\"]=a[\"Value\"]/1000\n",
    "a"
   ]
  },
  {
   "cell_type": "code",
   "execution_count": 143,
   "id": "ed7e3271",
   "metadata": {},
   "outputs": [],
   "source": [
    " x_total, y_year = ecdf(a[\"Value\"])"
   ]
  },
  {
   "cell_type": "code",
   "execution_count": 144,
   "id": "a1ae451a",
   "metadata": {},
   "outputs": [
    {
     "data": {
      "image/png": "[encoded data removed]",
      "text/plain": [
       "<Figure size 640x480 with 1 Axes>"
      ]
     },
     "metadata": {},
     "output_type": "display_data"
    }
   ],
   "source": [
    "plt.plot(x_total, y_year, marker=\".\", linestyle=\"none\")\n",
    "plt.show()"
   ]
  },
  {
   "cell_type": "code",
   "execution_count": 145,
   "id": "7af94710",
   "metadata": {},
   "outputs": [],
   "source": [
    "#x_ticks = range(min(a[\"Year\"]), max(a[\"Year\"])+1,10)"
   ]
  },
  {
   "cell_type": "code",
   "execution_count": 153,
   "id": "8d8239f1",
   "metadata": {
    "scrolled": false
   },
   "outputs": [
    {
     "data": {
      "image/png": "[encoded data removed]",
      "text/plain": [
       "<Figure size 1200x600 with 1 Axes>"
      ]
     },
     "metadata": {},
     "output_type": "display_data"
    }
   ],
   "source": [
    "\n",
    "plt.figure(figsize=(12,6))\n",
    "sns.boxplot(x=\"Year\", y=\"Value\",data=a)\n",
    "sns.swarmplot(x=\"Year\", y=\"Value\",data=a)\n",
    "# Label the axes\n",
    "plt.xlabel(\"Year\")\n",
    "plt.ylabel(\"Value (Million)\")\n",
    "\n",
    "years = [str(year) for year in range(min(a[\"Year\"]), max(a[\"Year\"]), 5)]  # 10 yıl aralıklarıyla yıllar\n",
    "years.append(\"2023\")\n",
    "plt.xticks(ticks=years, rotation=90)\n",
    "\n",
    "# Show the plot\n",
    "plt.show()"
   ]
  },
  {
   "cell_type": "code",
   "execution_count": 72,
   "id": "420bc72f",
   "metadata": {},
   "outputs": [
    {
     "data": {
      "text/plain": [
       "<Axes: xlabel='Value'>"
      ]
     },
     "execution_count": 72,
     "metadata": {},
     "output_type": "execute_result"
    },
    {
     "data": {
      "image/png": "[encoded data removed]",
      "text/plain": [
       "<Figure size 640x480 with 1 Axes>"
      ]
     },
     "metadata": {},
     "output_type": "display_data"
    }
   ],
   "source": [
    "sns.boxplot(x=df[\"Value\"])"
   ]
  },
  {
   "cell_type": "code",
   "execution_count": 73,
   "id": "09169632",
   "metadata": {},
   "outputs": [
    {
     "name": "stdout",
     "output_type": "stream",
     "text": [
      "Year      37.00\n",
      "Value    227.15\n",
      "dtype: float64\n"
     ]
    }
   ],
   "source": [
    "Q1=df.quantile(0.25)\n",
    "Q3=df.quantile(0.75)\n",
    "IQR=Q3-Q1\n",
    "print(IQR)"
   ]
  },
  {
   "cell_type": "code",
   "execution_count": 74,
   "id": "9456855c",
   "metadata": {},
   "outputs": [],
   "source": [
    "lower_bound = Q1 - 1.5 * IQR\n",
    "upper_bound = Q3 + 1.5 * IQR"
   ]
  },
  {
   "cell_type": "code",
   "execution_count": 75,
   "id": "b59d4860",
   "metadata": {},
   "outputs": [],
   "source": [
    "outliers = (df < lower_bound) | (df > upper_bound)"
   ]
  },
  {
   "cell_type": "code",
   "execution_count": 76,
   "id": "bfdd12cc",
   "metadata": {},
   "outputs": [],
   "source": [
    "outliers_df = df[outliers.any(axis=1)]"
   ]
  },
  {
   "cell_type": "code",
   "execution_count": 77,
   "id": "602220bf",
   "metadata": {
    "scrolled": false
   },
   "outputs": [
    {
     "data": {
      "text/html": [
       "<div>\n",
       "<style scoped>\n",
       "    .dataframe tbody tr th:only-of-type {\n",
       "        vertical-align: middle;\n",
       "    }\n",
       "\n",
       "    .dataframe tbody tr th {\n",
       "        vertical-align: top;\n",
       "    }\n",
       "\n",
       "    .dataframe thead th {\n",
       "        text-align: right;\n",
       "    }\n",
       "</style>\n",
       "<table border=\"1\" class=\"dataframe\">\n",
       "  <thead>\n",
       "    <tr style=\"text-align: right;\">\n",
       "      <th></th>\n",
       "      <th>Year</th>\n",
       "      <th>Age Group</th>\n",
       "      <th>Sex</th>\n",
       "      <th>Value</th>\n",
       "    </tr>\n",
       "  </thead>\n",
       "  <tbody>\n",
       "    <tr>\n",
       "      <th>6</th>\n",
       "      <td>1950</td>\n",
       "      <td>0 - 14 years</td>\n",
       "      <td>Both sexes</td>\n",
       "      <td>851.2</td>\n",
       "    </tr>\n",
       "    <tr>\n",
       "      <th>24</th>\n",
       "      <td>1950</td>\n",
       "      <td>15 years and over</td>\n",
       "      <td>Both sexes</td>\n",
       "      <td>2117.8</td>\n",
       "    </tr>\n",
       "    <tr>\n",
       "      <th>25</th>\n",
       "      <td>1950</td>\n",
       "      <td>15 years and over</td>\n",
       "      <td>Male</td>\n",
       "      <td>1075.4</td>\n",
       "    </tr>\n",
       "    <tr>\n",
       "      <th>26</th>\n",
       "      <td>1950</td>\n",
       "      <td>15 years and over</td>\n",
       "      <td>Female</td>\n",
       "      <td>1042.4</td>\n",
       "    </tr>\n",
       "    <tr>\n",
       "      <th>33</th>\n",
       "      <td>1950</td>\n",
       "      <td>25 - 44 years</td>\n",
       "      <td>Both sexes</td>\n",
       "      <td>773.6</td>\n",
       "    </tr>\n",
       "    <tr>\n",
       "      <th>...</th>\n",
       "      <td>...</td>\n",
       "      <td>...</td>\n",
       "      <td>...</td>\n",
       "      <td>...</td>\n",
       "    </tr>\n",
       "    <tr>\n",
       "      <th>5963</th>\n",
       "      <td>2023</td>\n",
       "      <td>45 - 64 years</td>\n",
       "      <td>Female</td>\n",
       "      <td>677.2</td>\n",
       "    </tr>\n",
       "    <tr>\n",
       "      <th>5976</th>\n",
       "      <td>2023</td>\n",
       "      <td>65 years and over</td>\n",
       "      <td>Both sexes</td>\n",
       "      <td>806.3</td>\n",
       "    </tr>\n",
       "    <tr>\n",
       "      <th>5991</th>\n",
       "      <td>2023</td>\n",
       "      <td>All ages</td>\n",
       "      <td>Both sexes</td>\n",
       "      <td>5281.6</td>\n",
       "    </tr>\n",
       "    <tr>\n",
       "      <th>5992</th>\n",
       "      <td>2023</td>\n",
       "      <td>All ages</td>\n",
       "      <td>Male</td>\n",
       "      <td>2606.2</td>\n",
       "    </tr>\n",
       "    <tr>\n",
       "      <th>5993</th>\n",
       "      <td>2023</td>\n",
       "      <td>All ages</td>\n",
       "      <td>Female</td>\n",
       "      <td>2675.4</td>\n",
       "    </tr>\n",
       "  </tbody>\n",
       "</table>\n",
       "<p>662 rows × 4 columns</p>\n",
       "</div>"
      ],
      "text/plain": [
       "      Year          Age Group         Sex   Value\n",
       "6     1950       0 - 14 years  Both sexes   851.2\n",
       "24    1950  15 years and over  Both sexes  2117.8\n",
       "25    1950  15 years and over        Male  1075.4\n",
       "26    1950  15 years and over      Female  1042.4\n",
       "33    1950      25 - 44 years  Both sexes   773.6\n",
       "...    ...                ...         ...     ...\n",
       "5963  2023      45 - 64 years      Female   677.2\n",
       "5976  2023  65 years and over  Both sexes   806.3\n",
       "5991  2023           All ages  Both sexes  5281.6\n",
       "5992  2023           All ages        Male  2606.2\n",
       "5993  2023           All ages      Female  2675.4\n",
       "\n",
       "[662 rows x 4 columns]"
      ]
     },
     "execution_count": 77,
     "metadata": {},
     "output_type": "execute_result"
    }
   ],
   "source": [
    "outliers_df"
   ]
  },
  {
   "cell_type": "code",
   "execution_count": 78,
   "id": "8b976858",
   "metadata": {},
   "outputs": [
    {
     "data": {
      "text/html": [
       "<div>\n",
       "<style scoped>\n",
       "    .dataframe tbody tr th:only-of-type {\n",
       "        vertical-align: middle;\n",
       "    }\n",
       "\n",
       "    .dataframe tbody tr th {\n",
       "        vertical-align: top;\n",
       "    }\n",
       "\n",
       "    .dataframe thead th {\n",
       "        text-align: right;\n",
       "    }\n",
       "</style>\n",
       "<table border=\"1\" class=\"dataframe\">\n",
       "  <thead>\n",
       "    <tr style=\"text-align: right;\">\n",
       "      <th></th>\n",
       "      <th>Year</th>\n",
       "      <th>Age Group</th>\n",
       "      <th>Sex</th>\n",
       "      <th>Value</th>\n",
       "    </tr>\n",
       "  </thead>\n",
       "  <tbody>\n",
       "    <tr>\n",
       "      <th>0</th>\n",
       "      <td>1950</td>\n",
       "      <td>Under 1 year</td>\n",
       "      <td>Both sexes</td>\n",
       "      <td>61.1</td>\n",
       "    </tr>\n",
       "    <tr>\n",
       "      <th>1</th>\n",
       "      <td>1950</td>\n",
       "      <td>Under 1 year</td>\n",
       "      <td>Male</td>\n",
       "      <td>31.4</td>\n",
       "    </tr>\n",
       "    <tr>\n",
       "      <th>2</th>\n",
       "      <td>1950</td>\n",
       "      <td>Under 1 year</td>\n",
       "      <td>Female</td>\n",
       "      <td>29.7</td>\n",
       "    </tr>\n",
       "    <tr>\n",
       "      <th>3</th>\n",
       "      <td>1950</td>\n",
       "      <td>0 - 4 years</td>\n",
       "      <td>Both sexes</td>\n",
       "      <td>310.2</td>\n",
       "    </tr>\n",
       "    <tr>\n",
       "      <th>4</th>\n",
       "      <td>1950</td>\n",
       "      <td>0 - 4 years</td>\n",
       "      <td>Male</td>\n",
       "      <td>158.9</td>\n",
       "    </tr>\n",
       "    <tr>\n",
       "      <th>...</th>\n",
       "      <td>...</td>\n",
       "      <td>...</td>\n",
       "      <td>...</td>\n",
       "      <td>...</td>\n",
       "    </tr>\n",
       "    <tr>\n",
       "      <th>5989</th>\n",
       "      <td>2023</td>\n",
       "      <td>85 years and over</td>\n",
       "      <td>Male</td>\n",
       "      <td>33.1</td>\n",
       "    </tr>\n",
       "    <tr>\n",
       "      <th>5990</th>\n",
       "      <td>2023</td>\n",
       "      <td>85 years and over</td>\n",
       "      <td>Female</td>\n",
       "      <td>53.9</td>\n",
       "    </tr>\n",
       "    <tr>\n",
       "      <th>5991</th>\n",
       "      <td>2023</td>\n",
       "      <td>All ages</td>\n",
       "      <td>Both sexes</td>\n",
       "      <td>5281.6</td>\n",
       "    </tr>\n",
       "    <tr>\n",
       "      <th>5992</th>\n",
       "      <td>2023</td>\n",
       "      <td>All ages</td>\n",
       "      <td>Male</td>\n",
       "      <td>2606.2</td>\n",
       "    </tr>\n",
       "    <tr>\n",
       "      <th>5993</th>\n",
       "      <td>2023</td>\n",
       "      <td>All ages</td>\n",
       "      <td>Female</td>\n",
       "      <td>2675.4</td>\n",
       "    </tr>\n",
       "  </tbody>\n",
       "</table>\n",
       "<p>5994 rows × 4 columns</p>\n",
       "</div>"
      ],
      "text/plain": [
       "      Year          Age Group         Sex   Value\n",
       "0     1950       Under 1 year  Both sexes    61.1\n",
       "1     1950       Under 1 year        Male    31.4\n",
       "2     1950       Under 1 year      Female    29.7\n",
       "3     1950        0 - 4 years  Both sexes   310.2\n",
       "4     1950        0 - 4 years        Male   158.9\n",
       "...    ...                ...         ...     ...\n",
       "5989  2023  85 years and over        Male    33.1\n",
       "5990  2023  85 years and over      Female    53.9\n",
       "5991  2023           All ages  Both sexes  5281.6\n",
       "5992  2023           All ages        Male  2606.2\n",
       "5993  2023           All ages      Female  2675.4\n",
       "\n",
       "[5994 rows x 4 columns]"
      ]
     },
     "execution_count": 78,
     "metadata": {},
     "output_type": "execute_result"
    }
   ],
   "source": [
    "df"
   ]
  },
  {
   "cell_type": "code",
   "execution_count": null,
   "id": "c55a9b11",
   "metadata": {},
   "outputs": [],
   "source": [
    "df.hist(column=\"Value\",bins=20)"
   ]
  },
  {
   "cell_type": "code",
   "execution_count": null,
   "id": "62babd5f",
   "metadata": {},
   "outputs": [],
   "source": [
    "df[\"Age Group\"].unique()"
   ]
  },
  {
   "cell_type": "code",
   "execution_count": null,
   "id": "0c2f0540",
   "metadata": {},
   "outputs": [],
   "source": [
    "Age_Group_Value_Counts=pd.crosstab(index=df[\"Age Group\"],columns=\"Value\")"
   ]
  },
  {
   "cell_type": "code",
   "execution_count": null,
   "id": "a24a1bee",
   "metadata": {},
   "outputs": [],
   "source": [
    "Age_Group_Value_Counts"
   ]
  },
  {
   "cell_type": "code",
   "execution_count": null,
   "id": "244955ff",
   "metadata": {},
   "outputs": [],
   "source": [
    "from numpy import median, mean"
   ]
  },
  {
   "cell_type": "code",
   "execution_count": null,
   "id": "7c802cdc",
   "metadata": {},
   "outputs": [],
   "source": [
    "sns.set(style=\"whitegrid\")"
   ]
  },
  {
   "cell_type": "code",
   "execution_count": null,
   "id": "ff52690e",
   "metadata": {},
   "outputs": [],
   "source": [
    "plt.figure(figsize=(12,6))\n",
    "ax = sns.barplot(x=\"Age Group\", y=\"Value\", hue=\"Age Group\", data=df)\n",
    "plt.xticks(rotation=90)\n",
    "plt.legend(loc=\"upper right\",bbox_to_anchor=(1.2,1))"
   ]
  },
  {
   "cell_type": "code",
   "execution_count": null,
   "id": "0bb21858",
   "metadata": {},
   "outputs": [],
   "source": [
    "plt.figure(figsize=(12,6))\n",
    "sns.scatterplot(data=df,x=\"Age Group\",y=\"Value\",hue=\"Sex\");\n",
    "plt.xticks(rotation=90);\n",
    "plt.legend(loc=\"upper right\",bbox_to_anchor=(1.2,1))"
   ]
  },
  {
   "cell_type": "code",
   "execution_count": null,
   "id": "a5f42f94",
   "metadata": {},
   "outputs": [],
   "source": [
    "plt.figure(figsize=(12,6))\n",
    "sns.scatterplot(data=df,x=\"Year\",y=\"Value\",hue=\"Age Group\");\n",
    "plt.ylabel(\"Value (Thousand)\")\n",
    "plt.xticks(rotation=90);\n",
    "plt.legend(loc=\"upper right\",bbox_to_anchor=(1.2,1));"
   ]
  },
  {
   "cell_type": "code",
   "execution_count": null,
   "id": "b41e6215",
   "metadata": {
    "scrolled": false
   },
   "outputs": [],
   "source": [
    "import math\n",
    "subset_0_14_years=df[(df[\"Age Group\"]==\"0 - 14 years\")]\n",
    "print(subset_0_14_years,\"\\n\\n\")\n",
    "print(\"Minimum value:\\n\",subset_0_14_years.min(),\"\\n\")\n",
    "print(\"Maximum value:\\n\",subset_0_14_years.max(),\"\\n\")"
   ]
  },
  {
   "cell_type": "code",
   "execution_count": null,
   "id": "49d2e093",
   "metadata": {},
   "outputs": [],
   "source": [
    "#min_value=(subset_0_14_years[\"Value\"].apply(math.ceil).min())-1\n",
    "#max_value=subset_0_14_years[\"Value\"].max()\n",
    "min_value=subset_0_14_years[\"Value\"].apply(lambda x: (math.ceil(x/100)*100)-100).min()\n",
    "max_value=subset_0_14_years[\"Value\"].apply(lambda x: math.ceil(x/100)*100).max()\n",
    "plt.figure(figsize=(12,6))\n",
    "sns.scatterplot(data=subset_0_14_years,x=\"Year\",y=\"Value\",hue=\"Sex\");\n",
    "plt.xticks(rotation=90);\n",
    "plt.ylabel(\"Value (Thousand)\")\n",
    "plt.yticks(np.arange(min_value, max_value, step=30))\n",
    "plt.legend(loc=\"upper right\",bbox_to_anchor=(1.16,1.02));"
   ]
  },
  {
   "cell_type": "code",
   "execution_count": null,
   "id": "9a5bd08c",
   "metadata": {},
   "outputs": [],
   "source": [
    "#min_value=(subset_0_14_years[\"Value\"].apply(math.ceil).min())-1\n",
    "max_value=subset_0_14_years[\"Value\"].max()\n",
    "min_value=subset_0_14_years[\"Value\"].apply(lambda x: (math.ceil(x/100)*100)-100).min()\n",
    "plt.figure(figsize=(12,6))\n",
    "sns.scatterplot(data=subset_0_14_years,x=\"Year\",y=\"Value\",hue=\"Sex\");\n",
    "plt.xticks(rotation=90);\n",
    "plt.ylabel(\"Value (Thousand)\")\n",
    "\n",
    "plt.yticks(np.arange(min_value, max_value, step=30))\n",
    "plt.legend(loc=\"upper right\",bbox_to_anchor=(1.16,1.02));"
   ]
  },
  {
   "cell_type": "code",
   "execution_count": null,
   "id": "5fa70076",
   "metadata": {
    "scrolled": false
   },
   "outputs": [],
   "source": [
    "plt.figure(figsize=(12,6))\n",
    "sns.scatterplot(data=subset_0_14_years,x=\"Year\",y=\"Value\",hue=\"Sex\");\n",
    "plt.xticks(rotation=90);\n",
    "plt.ylabel(\"Value (Thousand)\")\n",
    "plt.legend(loc=\"upper right\",bbox_to_anchor=(1.16,1.02));"
   ]
  },
  {
   "cell_type": "code",
   "execution_count": null,
   "id": "b074ae07",
   "metadata": {
    "scrolled": false
   },
   "outputs": [],
   "source": [
    "fig, ax = plt.subplots(figsize=(12,6))\n",
    "ax.scatter(subset_0_14_years[\"Year\"], subset_0_14_years[\"Value\"])\n",
    "ax.set_title(\"Value By Years\")\n",
    "ax.set_xlabel(\"Year\")\n",
    "ax.set_ylabel(\"Value\")\n",
    "plt.show()"
   ]
  },
  {
   "cell_type": "code",
   "execution_count": null,
   "id": "fc24ca7b",
   "metadata": {},
   "outputs": [],
   "source": [
    "subset_0_4_years=df[(df[\"Age Group\"]==\"0 - 4 years\") & (df[\"Sex\"]==\"Male\")]\n",
    "print(subset_0_4_years.head(),\"\\n\\n\")\n",
    "print(\"Minimum value:\\n\",subset_0_4_years.min(),\"\\n\")\n",
    "print(\"Maximum value:\\n\",subset_0_4_years.max(),\"\\n\")"
   ]
  },
  {
   "cell_type": "code",
   "execution_count": null,
   "id": "cac1ff4f",
   "metadata": {},
   "outputs": [],
   "source": [
    "fig, ax = plt.subplots(figsize=(10,6))\n",
    "ax.scatter(df[\"Age Group\"], df[\"Value\"])\n",
    "ax.set_xlabel(\"Age Group\")\n",
    "plt.xticks(rotation=90)\n",
    "ax.set_ylabel(\"Value\")\n",
    "plt.title(\"Value By Age Group\")\n",
    "plt.show()"
   ]
  },
  {
   "cell_type": "code",
   "execution_count": null,
   "id": "36d5e780",
   "metadata": {},
   "outputs": [],
   "source": [
    "fig, ax = plt.subplots(figsize=(10,6))\n",
    "ax.scatter(df[\"Age Group\"]==\"0 - 14 years\", df[\"Value\"])\n",
    "ax.set_xlabel(\"Age Group\")\n",
    "ax.set_ylabel(\"Value\")\n",
    "plt.show()"
   ]
  },
  {
   "cell_type": "code",
   "execution_count": null,
   "id": "a06b2e9a",
   "metadata": {},
   "outputs": [],
   "source": [
    "\n",
    "# # Kategorik verileri sayısal olarak kodlayalım\n",
    "# df['Age Group Code'] = pd.Categorical(df['Age Group']).codes\n",
    "\n",
    "# # Sütunları x, y ve renk olarak kullanarak scatter plot oluşturun\n",
    "# fig, ax = plt.subplots(figsize=(12, 10))\n",
    "# scatter = ax.scatter(df[\"Year\"], df[\"Value\"], c=df[\"Age Group Code\"], cmap='viridis', marker='o')\n",
    "\n",
    "# # Renk skalasını oluşturun ve eksen etiketlerini ayarlayın\n",
    "# cbar = plt.colorbar(scatter)\n",
    "# cbar.set_label(\"Age Group\")\n",
    "# ax.set_xlabel(\"Year\")\n",
    "# ax.set_ylabel(\"Value\")\n",
    "# plt.show()\n",
    "\n",
    "\n"
   ]
  },
  {
   "cell_type": "code",
   "execution_count": null,
   "id": "7ed41bb6",
   "metadata": {},
   "outputs": [],
   "source": [
    "# df[\"Age Group\"].unique()"
   ]
  },
  {
   "cell_type": "code",
   "execution_count": null,
   "id": "4745c703",
   "metadata": {},
   "outputs": [],
   "source": [
    "# # Belirlediğiniz renk listesi\n",
    "# colors = ['red', 'green', 'blue', 'orange', 'purple']\n",
    "\n",
    "# # Her bir \"Age Group\" kategorisi için \"VALUE\" sütununun ortalamasını hesaplayalım\n",
    "# grouped_data = df.groupby('Age Group')['Value'].mean()\n",
    "\n",
    "# # Çubuk grafik oluşturalım ve belirlediğiniz renkleri kullanalım\n",
    "# fig, ax = plt.subplots(figsize=(10, 6))\n",
    "# grouped_data.plot(kind='bar', ax=ax, color=colors)\n",
    "# ax.set_xlabel(\"Age Group\")\n",
    "# ax.set_ylabel(\"Average Value\")\n",
    "# plt.show()"
   ]
  },
  {
   "cell_type": "code",
   "execution_count": null,
   "id": "a2a5a0c8",
   "metadata": {},
   "outputs": [],
   "source": [
    "# # Kategorik verileri sayısal olarak kodlayalım\n",
    "# age_group_order = [\n",
    "#     'Under 1 year', '0 - 4 years', '0 - 14 years', '1 - 4 years', '5 - 9 years', '10 - 14 years',\n",
    "#     '15 - 19 years', '15 - 24 years', '15 years and over', '20 - 24 years',\n",
    "#     '25 - 29 years', '25 - 44 years', '30 - 34 years', '35 - 39 years', '40 - 44 years',\n",
    "#     '45 - 49 years', '45 - 64 years', '50 - 54 years', '55 - 59 years',\n",
    "#     '60 - 64 years', '65 - 69 years', '65 years and over', '70 - 74 years',\n",
    "#     '75 - 79 years', '80 - 84 years', '85 years and over', 'All ages'\n",
    "# ]\n",
    "\n",
    "# df['Age Group'] = pd.Categorical(df['Age Group'], categories=age_group_order, ordered=True)\n",
    "# df['Age Group Code'] = df['Age Group'].cat.codes\n",
    "\n",
    "# # Sütunları x, y ve renk olarak kullanarak scatter plot oluşturun\n",
    "# fig, ax = plt.subplots(figsize=(12, 10))\n",
    "# scatter = ax.scatter(df[\"Year\"], df[\"Value\"], c=df[\"Age Group Code\"], cmap='viridis', marker='o')\n",
    "\n",
    "# # Renk skalasını oluşturun ve eksen etiketlerini ayarlayın\n",
    "# cbar = plt.colorbar(scatter)\n",
    "# cbar.set_label(\"Age Group\")\n",
    "# ax.set_xlabel(\"Year\")\n",
    "# ax.set_ylabel(\"Value\")\n",
    "# plt.show()"
   ]
  },
  {
   "cell_type": "code",
   "execution_count": null,
   "id": "9a63185b",
   "metadata": {},
   "outputs": [],
   "source": []
  },
  {
   "cell_type": "code",
   "execution_count": null,
   "id": "56d35149",
   "metadata": {},
   "outputs": [],
   "source": []
  },
  {
   "cell_type": "code",
   "execution_count": null,
   "id": "73125c27",
   "metadata": {},
   "outputs": [],
   "source": []
  },
  {
   "cell_type": "code",
   "execution_count": null,
   "id": "6d825b57",
   "metadata": {},
   "outputs": [],
   "source": []
  },
  {
   "cell_type": "code",
   "execution_count": null,
   "id": "53cfcce6",
   "metadata": {},
   "outputs": [],
   "source": []
  },
  {
   "cell_type": "code",
   "execution_count": null,
   "id": "1c806394",
   "metadata": {},
   "outputs": [],
   "source": []
  },
  {
   "cell_type": "code",
   "execution_count": null,
   "id": "07662b99",
   "metadata": {},
   "outputs": [],
   "source": []
  }
 ],
 "metadata": {
  "kernelspec": {
   "display_name": "Python 3 (ipykernel)",
   "language": "python",
   "name": "python3"
  },
  "language_info": {
   "codemirror_mode": {
    "name": "ipython",
    "version": 3
   },
   "file_extension": ".py",
   "mimetype": "text/x-python",
   "name": "python",
   "nbconvert_exporter": "python",
   "pygments_lexer": "ipython3",
   "version": "3.11.4"
  }
 },
 "nbformat": 4,
 "nbformat_minor": 5
}
