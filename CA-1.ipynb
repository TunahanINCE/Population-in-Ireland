{
 "cells": [
  {
   "cell_type": "markdown",
   "id": "ea8de9b0",
   "metadata": {},
   "source": [
    "# Population in Ireland"
   ]
  },
  {
   "cell_type": "markdown",
   "id": "c01eb772",
   "metadata": {},
   "source": [
    "# Adım 1: Veri Ön İşleme ve Temizleme"
   ]
  },
  {
   "cell_type": "markdown",
   "id": "d9763d7d",
   "metadata": {},
   "source": [
    "## 1. Veri setinin yüklenmesi ve temel kontrol"
   ]
  },
  {
   "cell_type": "code",
   "execution_count": 1,
   "id": "0e035e2c",
   "metadata": {},
   "outputs": [],
   "source": [
    "import pandas as pd               # Used for data analysis and processing.\n",
    "import numpy as np                # Used for multi-dimensional arrays and mathematical operations.\n",
    "import seaborn as sns             # Provides a high-level interface for data visualization.\n",
    "import matplotlib.pyplot as plt   # Used for creating plots and graphs.\n",
    "%matplotlib inline\n",
    "sns.set(color_codes=True)"
   ]
  },
  {
   "cell_type": "code",
   "execution_count": 2,
   "id": "4acc15e8",
   "metadata": {},
   "outputs": [],
   "source": [
    "import math\n",
    "from scipy.stats import poisson"
   ]
  },
  {
   "cell_type": "code",
   "execution_count": 3,
   "id": "e9cf79e5",
   "metadata": {},
   "outputs": [],
   "source": [
    "import warnings\n",
    "warnings.filterwarnings('ignore') # We can suppress the warnings"
   ]
  },
  {
   "cell_type": "code",
   "execution_count": 4,
   "id": "c0cfc809",
   "metadata": {},
   "outputs": [],
   "source": [
    "df=pd.read_csv(\"PEA01-3.csv\") # we read dataset"
   ]
  },
  {
   "cell_type": "code",
   "execution_count": 5,
   "id": "22c985f3",
   "metadata": {
    "scrolled": true
   },
   "outputs": [
    {
     "data": {
      "text/html": [
       "<div>\n",
       "<style scoped>\n",
       "    .dataframe tbody tr th:only-of-type {\n",
       "        vertical-align: middle;\n",
       "    }\n",
       "\n",
       "    .dataframe tbody tr th {\n",
       "        vertical-align: top;\n",
       "    }\n",
       "\n",
       "    .dataframe thead th {\n",
       "        text-align: right;\n",
       "    }\n",
       "</style>\n",
       "<table border=\"1\" class=\"dataframe\">\n",
       "  <thead>\n",
       "    <tr style=\"text-align: right;\">\n",
       "      <th></th>\n",
       "      <th>STATISTIC Label</th>\n",
       "      <th>Year</th>\n",
       "      <th>Age Group</th>\n",
       "      <th>Sex</th>\n",
       "      <th>UNIT</th>\n",
       "      <th>VALUE</th>\n",
       "    </tr>\n",
       "  </thead>\n",
       "  <tbody>\n",
       "    <tr>\n",
       "      <th>0</th>\n",
       "      <td>Population Estimates (Persons in April)</td>\n",
       "      <td>1950</td>\n",
       "      <td>0 - 14 years</td>\n",
       "      <td>Both sexes</td>\n",
       "      <td>Thousand</td>\n",
       "      <td>NaN</td>\n",
       "    </tr>\n",
       "    <tr>\n",
       "      <th>1</th>\n",
       "      <td>Population Estimates (Persons in April)</td>\n",
       "      <td>1950</td>\n",
       "      <td>0 - 14 years</td>\n",
       "      <td>Male</td>\n",
       "      <td>Thousand</td>\n",
       "      <td>434.6</td>\n",
       "    </tr>\n",
       "    <tr>\n",
       "      <th>2</th>\n",
       "      <td>Population Estimates (Persons in April)</td>\n",
       "      <td>1950</td>\n",
       "      <td>0 - 14 years</td>\n",
       "      <td>Female</td>\n",
       "      <td>Thousand</td>\n",
       "      <td>416.6</td>\n",
       "    </tr>\n",
       "    <tr>\n",
       "      <th>3</th>\n",
       "      <td>Population Estimates (Persons in April)</td>\n",
       "      <td>1950</td>\n",
       "      <td>15 - 24 years</td>\n",
       "      <td>Both sexes</td>\n",
       "      <td>Thousand</td>\n",
       "      <td>452.6</td>\n",
       "    </tr>\n",
       "    <tr>\n",
       "      <th>4</th>\n",
       "      <td>Population Estimates (Persons in April)</td>\n",
       "      <td>1950</td>\n",
       "      <td>15 - 24 years</td>\n",
       "      <td>Male</td>\n",
       "      <td>Thousand</td>\n",
       "      <td>234.9</td>\n",
       "    </tr>\n",
       "  </tbody>\n",
       "</table>\n",
       "</div>"
      ],
      "text/plain": [
       "                           STATISTIC Label  Year      Age Group         Sex  \\\n",
       "0  Population Estimates (Persons in April)  1950   0 - 14 years  Both sexes   \n",
       "1  Population Estimates (Persons in April)  1950   0 - 14 years        Male   \n",
       "2  Population Estimates (Persons in April)  1950   0 - 14 years      Female   \n",
       "3  Population Estimates (Persons in April)  1950  15 - 24 years  Both sexes   \n",
       "4  Population Estimates (Persons in April)  1950  15 - 24 years        Male   \n",
       "\n",
       "       UNIT  VALUE  \n",
       "0  Thousand    NaN  \n",
       "1  Thousand  434.6  \n",
       "2  Thousand  416.6  \n",
       "3  Thousand  452.6  \n",
       "4  Thousand  234.9  "
      ]
     },
     "execution_count": 5,
     "metadata": {},
     "output_type": "execute_result"
    }
   ],
   "source": [
    "df.head(5) # We dispplay first 5 rows"
   ]
  },
  {
   "cell_type": "code",
   "execution_count": 6,
   "id": "a41c0332",
   "metadata": {},
   "outputs": [
    {
     "data": {
      "text/html": [
       "<div>\n",
       "<style scoped>\n",
       "    .dataframe tbody tr th:only-of-type {\n",
       "        vertical-align: middle;\n",
       "    }\n",
       "\n",
       "    .dataframe tbody tr th {\n",
       "        vertical-align: top;\n",
       "    }\n",
       "\n",
       "    .dataframe thead th {\n",
       "        text-align: right;\n",
       "    }\n",
       "</style>\n",
       "<table border=\"1\" class=\"dataframe\">\n",
       "  <thead>\n",
       "    <tr style=\"text-align: right;\">\n",
       "      <th></th>\n",
       "      <th>STATISTIC Label</th>\n",
       "      <th>Year</th>\n",
       "      <th>Age Group</th>\n",
       "      <th>Sex</th>\n",
       "      <th>UNIT</th>\n",
       "      <th>VALUE</th>\n",
       "    </tr>\n",
       "  </thead>\n",
       "  <tbody>\n",
       "    <tr>\n",
       "      <th>1327</th>\n",
       "      <td>Population Estimates (Persons in April)</td>\n",
       "      <td>2023</td>\n",
       "      <td>65 years and over</td>\n",
       "      <td>Male</td>\n",
       "      <td>Thousand</td>\n",
       "      <td>379.9</td>\n",
       "    </tr>\n",
       "    <tr>\n",
       "      <th>1328</th>\n",
       "      <td>Population Estimates (Persons in April)</td>\n",
       "      <td>2023</td>\n",
       "      <td>65 years and over</td>\n",
       "      <td>Female</td>\n",
       "      <td>Thousand</td>\n",
       "      <td>426.4</td>\n",
       "    </tr>\n",
       "    <tr>\n",
       "      <th>1329</th>\n",
       "      <td>Population Estimates (Persons in April)</td>\n",
       "      <td>2023</td>\n",
       "      <td>All ages</td>\n",
       "      <td>Both sexes</td>\n",
       "      <td>Thousand</td>\n",
       "      <td>5281.6</td>\n",
       "    </tr>\n",
       "    <tr>\n",
       "      <th>1330</th>\n",
       "      <td>Population Estimates (Persons in April)</td>\n",
       "      <td>2023</td>\n",
       "      <td>All ages</td>\n",
       "      <td>Male</td>\n",
       "      <td>Thousand</td>\n",
       "      <td>2606.2</td>\n",
       "    </tr>\n",
       "    <tr>\n",
       "      <th>1331</th>\n",
       "      <td>Population Estimates (Persons in April)</td>\n",
       "      <td>2023</td>\n",
       "      <td>All ages</td>\n",
       "      <td>Female</td>\n",
       "      <td>Thousand</td>\n",
       "      <td>2675.4</td>\n",
       "    </tr>\n",
       "  </tbody>\n",
       "</table>\n",
       "</div>"
      ],
      "text/plain": [
       "                              STATISTIC Label  Year          Age Group  \\\n",
       "1327  Population Estimates (Persons in April)  2023  65 years and over   \n",
       "1328  Population Estimates (Persons in April)  2023  65 years and over   \n",
       "1329  Population Estimates (Persons in April)  2023           All ages   \n",
       "1330  Population Estimates (Persons in April)  2023           All ages   \n",
       "1331  Population Estimates (Persons in April)  2023           All ages   \n",
       "\n",
       "             Sex      UNIT   VALUE  \n",
       "1327        Male  Thousand   379.9  \n",
       "1328      Female  Thousand   426.4  \n",
       "1329  Both sexes  Thousand  5281.6  \n",
       "1330        Male  Thousand  2606.2  \n",
       "1331      Female  Thousand  2675.4  "
      ]
     },
     "execution_count": 6,
     "metadata": {},
     "output_type": "execute_result"
    }
   ],
   "source": [
    "df.tail(5) # We display last 5 rows"
   ]
  },
  {
   "cell_type": "code",
   "execution_count": 7,
   "id": "17ed3d3f",
   "metadata": {},
   "outputs": [
    {
     "name": "stdout",
     "output_type": "stream",
     "text": [
      "Total Rows= 1332\n",
      "Total Columns= 6\n"
     ]
    }
   ],
   "source": [
    "# We calculate how many we have rows and columns with shape method\n",
    "total_rows=df.shape[0]\n",
    "total_columns=df.shape[1]\n",
    "print(f\"Total Rows= {total_rows}\")\n",
    "print(f\"Total Columns= {total_columns}\")"
   ]
  },
  {
   "cell_type": "code",
   "execution_count": 8,
   "id": "54aa8dbd",
   "metadata": {
    "scrolled": true
   },
   "outputs": [
    {
     "data": {
      "text/html": [
       "<div>\n",
       "<style scoped>\n",
       "    .dataframe tbody tr th:only-of-type {\n",
       "        vertical-align: middle;\n",
       "    }\n",
       "\n",
       "    .dataframe tbody tr th {\n",
       "        vertical-align: top;\n",
       "    }\n",
       "\n",
       "    .dataframe thead th {\n",
       "        text-align: right;\n",
       "    }\n",
       "</style>\n",
       "<table border=\"1\" class=\"dataframe\">\n",
       "  <thead>\n",
       "    <tr style=\"text-align: right;\">\n",
       "      <th></th>\n",
       "      <th>Year</th>\n",
       "      <th>VALUE</th>\n",
       "    </tr>\n",
       "  </thead>\n",
       "  <tbody>\n",
       "    <tr>\n",
       "      <th>count</th>\n",
       "      <td>1332.000000</td>\n",
       "      <td>1318.000000</td>\n",
       "    </tr>\n",
       "    <tr>\n",
       "      <th>mean</th>\n",
       "      <td>1986.500000</td>\n",
       "      <td>808.058877</td>\n",
       "    </tr>\n",
       "    <tr>\n",
       "      <th>std</th>\n",
       "      <td>21.368032</td>\n",
       "      <td>868.888579</td>\n",
       "    </tr>\n",
       "    <tr>\n",
       "      <th>min</th>\n",
       "      <td>1950.000000</td>\n",
       "      <td>149.300000</td>\n",
       "    </tr>\n",
       "    <tr>\n",
       "      <th>25%</th>\n",
       "      <td>1968.000000</td>\n",
       "      <td>310.775000</td>\n",
       "    </tr>\n",
       "    <tr>\n",
       "      <th>50%</th>\n",
       "      <td>1986.500000</td>\n",
       "      <td>477.700000</td>\n",
       "    </tr>\n",
       "    <tr>\n",
       "      <th>75%</th>\n",
       "      <td>2005.000000</td>\n",
       "      <td>870.475000</td>\n",
       "    </tr>\n",
       "    <tr>\n",
       "      <th>max</th>\n",
       "      <td>2023.000000</td>\n",
       "      <td>5281.600000</td>\n",
       "    </tr>\n",
       "  </tbody>\n",
       "</table>\n",
       "</div>"
      ],
      "text/plain": [
       "              Year        VALUE\n",
       "count  1332.000000  1318.000000\n",
       "mean   1986.500000   808.058877\n",
       "std      21.368032   868.888579\n",
       "min    1950.000000   149.300000\n",
       "25%    1968.000000   310.775000\n",
       "50%    1986.500000   477.700000\n",
       "75%    2005.000000   870.475000\n",
       "max    2023.000000  5281.600000"
      ]
     },
     "execution_count": 8,
     "metadata": {},
     "output_type": "execute_result"
    }
   ],
   "source": [
    "df.describe() # We use this method to see summary of columns numerical (numeric) data"
   ]
  },
  {
   "cell_type": "code",
   "execution_count": 9,
   "id": "2b89a2d2",
   "metadata": {
    "scrolled": false
   },
   "outputs": [
    {
     "data": {
      "text/html": [
       "<div>\n",
       "<style scoped>\n",
       "    .dataframe tbody tr th:only-of-type {\n",
       "        vertical-align: middle;\n",
       "    }\n",
       "\n",
       "    .dataframe tbody tr th {\n",
       "        vertical-align: top;\n",
       "    }\n",
       "\n",
       "    .dataframe thead th {\n",
       "        text-align: right;\n",
       "    }\n",
       "</style>\n",
       "<table border=\"1\" class=\"dataframe\">\n",
       "  <thead>\n",
       "    <tr style=\"text-align: right;\">\n",
       "      <th></th>\n",
       "      <th>STATISTIC Label</th>\n",
       "      <th>Age Group</th>\n",
       "      <th>Sex</th>\n",
       "      <th>UNIT</th>\n",
       "    </tr>\n",
       "  </thead>\n",
       "  <tbody>\n",
       "    <tr>\n",
       "      <th>count</th>\n",
       "      <td>1332</td>\n",
       "      <td>1332</td>\n",
       "      <td>1332</td>\n",
       "      <td>1332</td>\n",
       "    </tr>\n",
       "    <tr>\n",
       "      <th>unique</th>\n",
       "      <td>1</td>\n",
       "      <td>6</td>\n",
       "      <td>3</td>\n",
       "      <td>1</td>\n",
       "    </tr>\n",
       "    <tr>\n",
       "      <th>top</th>\n",
       "      <td>Population Estimates (Persons in April)</td>\n",
       "      <td>0 - 14 years</td>\n",
       "      <td>Both sexes</td>\n",
       "      <td>Thousand</td>\n",
       "    </tr>\n",
       "    <tr>\n",
       "      <th>freq</th>\n",
       "      <td>1332</td>\n",
       "      <td>222</td>\n",
       "      <td>444</td>\n",
       "      <td>1332</td>\n",
       "    </tr>\n",
       "  </tbody>\n",
       "</table>\n",
       "</div>"
      ],
      "text/plain": [
       "                                STATISTIC Label     Age Group         Sex  \\\n",
       "count                                      1332          1332        1332   \n",
       "unique                                        1             6           3   \n",
       "top     Population Estimates (Persons in April)  0 - 14 years  Both sexes   \n",
       "freq                                       1332           222         444   \n",
       "\n",
       "            UNIT  \n",
       "count       1332  \n",
       "unique         1  \n",
       "top     Thousand  \n",
       "freq        1332  "
      ]
     },
     "execution_count": 9,
     "metadata": {},
     "output_type": "execute_result"
    }
   ],
   "source": [
    "df.describe(include=\"object\") # We use this method to see summary of columns containing categorical (object) data"
   ]
  },
  {
   "cell_type": "code",
   "execution_count": 10,
   "id": "8f5fd378",
   "metadata": {
    "scrolled": true
   },
   "outputs": [
    {
     "data": {
      "text/plain": [
       "STATISTIC Label     object\n",
       "Year                 int64\n",
       "Age Group           object\n",
       "Sex                 object\n",
       "UNIT                object\n",
       "VALUE              float64\n",
       "dtype: object"
      ]
     },
     "execution_count": 10,
     "metadata": {},
     "output_type": "execute_result"
    }
   ],
   "source": [
    "df.dtypes # We use this method to see the data types of each columns"
   ]
  },
  {
   "cell_type": "markdown",
   "id": "6895140d",
   "metadata": {},
   "source": [
    "## 2. Temizlik ve veri önişleme "
   ]
  },
  {
   "cell_type": "code",
   "execution_count": 11,
   "id": "ce53abac",
   "metadata": {
    "scrolled": true
   },
   "outputs": [
    {
     "data": {
      "text/plain": [
       "STATISTIC Label       1\n",
       "Year                 74\n",
       "Age Group             6\n",
       "Sex                   3\n",
       "UNIT                  1\n",
       "VALUE              1214\n",
       "dtype: int64"
      ]
     },
     "execution_count": 11,
     "metadata": {},
     "output_type": "execute_result"
    }
   ],
   "source": [
    "df.nunique() # We use this method to find the count of different values in each column."
   ]
  },
  {
   "cell_type": "code",
   "execution_count": 12,
   "id": "ecb79b6e",
   "metadata": {
    "scrolled": true
   },
   "outputs": [
    {
     "data": {
      "text/plain": [
       "STATISTIC Label    1332\n",
       "Year               1332\n",
       "Age Group          1332\n",
       "Sex                1332\n",
       "UNIT               1332\n",
       "VALUE              1318\n",
       "dtype: int64"
      ]
     },
     "execution_count": 12,
     "metadata": {},
     "output_type": "execute_result"
    }
   ],
   "source": [
    "df.count() # We use this method to calculate the number of non-null (non-NaN) values in each column."
   ]
  },
  {
   "cell_type": "code",
   "execution_count": 13,
   "id": "61c448ea",
   "metadata": {},
   "outputs": [
    {
     "data": {
      "text/plain": [
       "STATISTIC Label     0\n",
       "Year                0\n",
       "Age Group           0\n",
       "Sex                 0\n",
       "UNIT                0\n",
       "VALUE              14\n",
       "dtype: int64"
      ]
     },
     "execution_count": 13,
     "metadata": {},
     "output_type": "execute_result"
    }
   ],
   "source": [
    "df.isnull().sum() # We use this method to calculate the number of null (NaN) values in each column."
   ]
  },
  {
   "cell_type": "code",
   "execution_count": 14,
   "id": "d67d5ddf",
   "metadata": {},
   "outputs": [
    {
     "data": {
      "text/plain": [
       "0"
      ]
     },
     "execution_count": 14,
     "metadata": {},
     "output_type": "execute_result"
    }
   ],
   "source": [
    "df.duplicated().sum() # We use this method to calculate the number of duplicated rows"
   ]
  },
  {
   "cell_type": "code",
   "execution_count": 15,
   "id": "a0e58f0a",
   "metadata": {},
   "outputs": [],
   "source": [
    "# We drop some columns which we do not use because these columns include just one unique value\n",
    "to_drop=[\"STATISTIC Label\",\"UNIT\"] \n",
    "df.drop(columns=to_drop,inplace=True)"
   ]
  },
  {
   "cell_type": "code",
   "execution_count": 16,
   "id": "5fdb5045",
   "metadata": {},
   "outputs": [],
   "source": [
    "# We rename the 'VALUE' column to maintain consistent column title style.\n",
    "df=df.rename(columns={\"VALUE\":\"Value\"})"
   ]
  },
  {
   "cell_type": "code",
   "execution_count": 17,
   "id": "3e60f9fd",
   "metadata": {},
   "outputs": [],
   "source": [
    "#df[\"Value\"]=(df[\"Value\"]*10) # we changed the value because we drop UNIT column where it is writing exact value label"
   ]
  },
  {
   "cell_type": "code",
   "execution_count": 19,
   "id": "b06f0be3",
   "metadata": {
    "scrolled": true
   },
   "outputs": [],
   "source": [
    "#df[\"Value\"]"
   ]
  },
  {
   "cell_type": "code",
   "execution_count": 20,
   "id": "9c002e87",
   "metadata": {},
   "outputs": [
    {
     "data": {
      "text/html": [
       "<div>\n",
       "<style scoped>\n",
       "    .dataframe tbody tr th:only-of-type {\n",
       "        vertical-align: middle;\n",
       "    }\n",
       "\n",
       "    .dataframe tbody tr th {\n",
       "        vertical-align: top;\n",
       "    }\n",
       "\n",
       "    .dataframe thead th {\n",
       "        text-align: right;\n",
       "    }\n",
       "</style>\n",
       "<table border=\"1\" class=\"dataframe\">\n",
       "  <thead>\n",
       "    <tr style=\"text-align: right;\">\n",
       "      <th></th>\n",
       "      <th>Year</th>\n",
       "      <th>Age Group</th>\n",
       "      <th>Sex</th>\n",
       "      <th>Value</th>\n",
       "    </tr>\n",
       "  </thead>\n",
       "  <tbody>\n",
       "    <tr>\n",
       "      <th>0</th>\n",
       "      <td>1950</td>\n",
       "      <td>0 - 14 years</td>\n",
       "      <td>Both sexes</td>\n",
       "      <td>NaN</td>\n",
       "    </tr>\n",
       "    <tr>\n",
       "      <th>72</th>\n",
       "      <td>1954</td>\n",
       "      <td>0 - 14 years</td>\n",
       "      <td>Both sexes</td>\n",
       "      <td>NaN</td>\n",
       "    </tr>\n",
       "    <tr>\n",
       "      <th>216</th>\n",
       "      <td>1962</td>\n",
       "      <td>0 - 14 years</td>\n",
       "      <td>Both sexes</td>\n",
       "      <td>NaN</td>\n",
       "    </tr>\n",
       "    <tr>\n",
       "      <th>234</th>\n",
       "      <td>1963</td>\n",
       "      <td>0 - 14 years</td>\n",
       "      <td>Both sexes</td>\n",
       "      <td>NaN</td>\n",
       "    </tr>\n",
       "    <tr>\n",
       "      <th>360</th>\n",
       "      <td>1970</td>\n",
       "      <td>0 - 14 years</td>\n",
       "      <td>Both sexes</td>\n",
       "      <td>NaN</td>\n",
       "    </tr>\n",
       "    <tr>\n",
       "      <th>396</th>\n",
       "      <td>1972</td>\n",
       "      <td>0 - 14 years</td>\n",
       "      <td>Both sexes</td>\n",
       "      <td>NaN</td>\n",
       "    </tr>\n",
       "    <tr>\n",
       "      <th>522</th>\n",
       "      <td>1979</td>\n",
       "      <td>0 - 14 years</td>\n",
       "      <td>Both sexes</td>\n",
       "      <td>NaN</td>\n",
       "    </tr>\n",
       "    <tr>\n",
       "      <th>576</th>\n",
       "      <td>1982</td>\n",
       "      <td>0 - 14 years</td>\n",
       "      <td>Both sexes</td>\n",
       "      <td>NaN</td>\n",
       "    </tr>\n",
       "    <tr>\n",
       "      <th>684</th>\n",
       "      <td>1988</td>\n",
       "      <td>0 - 14 years</td>\n",
       "      <td>Both sexes</td>\n",
       "      <td>NaN</td>\n",
       "    </tr>\n",
       "    <tr>\n",
       "      <th>774</th>\n",
       "      <td>1993</td>\n",
       "      <td>0 - 14 years</td>\n",
       "      <td>Both sexes</td>\n",
       "      <td>NaN</td>\n",
       "    </tr>\n",
       "    <tr>\n",
       "      <th>792</th>\n",
       "      <td>1994</td>\n",
       "      <td>0 - 14 years</td>\n",
       "      <td>Both sexes</td>\n",
       "      <td>NaN</td>\n",
       "    </tr>\n",
       "    <tr>\n",
       "      <th>810</th>\n",
       "      <td>1995</td>\n",
       "      <td>0 - 14 years</td>\n",
       "      <td>Both sexes</td>\n",
       "      <td>NaN</td>\n",
       "    </tr>\n",
       "    <tr>\n",
       "      <th>828</th>\n",
       "      <td>1996</td>\n",
       "      <td>0 - 14 years</td>\n",
       "      <td>Both sexes</td>\n",
       "      <td>NaN</td>\n",
       "    </tr>\n",
       "    <tr>\n",
       "      <th>864</th>\n",
       "      <td>1998</td>\n",
       "      <td>0 - 14 years</td>\n",
       "      <td>Both sexes</td>\n",
       "      <td>NaN</td>\n",
       "    </tr>\n",
       "  </tbody>\n",
       "</table>\n",
       "</div>"
      ],
      "text/plain": [
       "     Year     Age Group         Sex  Value\n",
       "0    1950  0 - 14 years  Both sexes    NaN\n",
       "72   1954  0 - 14 years  Both sexes    NaN\n",
       "216  1962  0 - 14 years  Both sexes    NaN\n",
       "234  1963  0 - 14 years  Both sexes    NaN\n",
       "360  1970  0 - 14 years  Both sexes    NaN\n",
       "396  1972  0 - 14 years  Both sexes    NaN\n",
       "522  1979  0 - 14 years  Both sexes    NaN\n",
       "576  1982  0 - 14 years  Both sexes    NaN\n",
       "684  1988  0 - 14 years  Both sexes    NaN\n",
       "774  1993  0 - 14 years  Both sexes    NaN\n",
       "792  1994  0 - 14 years  Both sexes    NaN\n",
       "810  1995  0 - 14 years  Both sexes    NaN\n",
       "828  1996  0 - 14 years  Both sexes    NaN\n",
       "864  1998  0 - 14 years  Both sexes    NaN"
      ]
     },
     "execution_count": 20,
     "metadata": {},
     "output_type": "execute_result"
    }
   ],
   "source": [
    "missing_df=df[df.isna().any(axis=1)] #missing data rows\n",
    "missing_df"
   ]
  },
  {
   "cell_type": "code",
   "execution_count": 21,
   "id": "99d47374",
   "metadata": {},
   "outputs": [
    {
     "name": "stdout",
     "output_type": "stream",
     "text": [
      "      Year          Age Group         Sex   Value\n",
      "0     1950       0 - 14 years  Both sexes   851.2\n",
      "1     1950       0 - 14 years        Male   434.6\n",
      "2     1950       0 - 14 years      Female   416.6\n",
      "3     1950      15 - 24 years  Both sexes   452.6\n",
      "4     1950      15 - 24 years        Male   234.9\n",
      "...    ...                ...         ...     ...\n",
      "1327  2023  65 years and over        Male   379.9\n",
      "1328  2023  65 years and over      Female   426.4\n",
      "1329  2023           All ages  Both sexes  5281.6\n",
      "1330  2023           All ages        Male  2606.2\n",
      "1331  2023           All ages      Female  2675.4\n",
      "\n",
      "[1332 rows x 4 columns]\n"
     ]
    }
   ],
   "source": [
    "import pandas as pd\n",
    "import numpy as np\n",
    "\n",
    "# df, veri setinizi temsil etmektedir.\n",
    "\n",
    "# Her yıl ve yaş grubu için 'Male' ve 'Female' cinsiyetlerinin 'Value' değerlerini toplayın\n",
    "grouped_values = df[(df['Sex'] == 'Male') | (df['Sex'] == 'Female')].groupby(['Year', 'Age Group'])['Value'].sum().reset_index()\n",
    "\n",
    "# 'Both sexes' için eksik 'Value' değerlerini bu toplamlarla doldurun\n",
    "for index, row in grouped_values.iterrows():\n",
    "    year = row['Year']\n",
    "    age_group = row['Age Group']\n",
    "    total_value = row['Value']\n",
    "\n",
    "    # Eksik değerleri toplam değerle doldurun\n",
    "    df.loc[(df['Year'] == year) & (df['Age Group'] == age_group) & (df['Sex'] == 'Both sexes') & (df['Value'].isna()), 'Value'] = total_value\n",
    "\n",
    "# Sonuçları kontrol edin\n",
    "print(df)\n"
   ]
  },
  {
   "cell_type": "code",
   "execution_count": 22,
   "id": "97cb919e",
   "metadata": {
    "scrolled": false
   },
   "outputs": [
    {
     "data": {
      "text/html": [
       "<div>\n",
       "<style scoped>\n",
       "    .dataframe tbody tr th:only-of-type {\n",
       "        vertical-align: middle;\n",
       "    }\n",
       "\n",
       "    .dataframe tbody tr th {\n",
       "        vertical-align: top;\n",
       "    }\n",
       "\n",
       "    .dataframe thead th {\n",
       "        text-align: right;\n",
       "    }\n",
       "</style>\n",
       "<table border=\"1\" class=\"dataframe\">\n",
       "  <thead>\n",
       "    <tr style=\"text-align: right;\">\n",
       "      <th></th>\n",
       "      <th>Year</th>\n",
       "      <th>Age Group</th>\n",
       "      <th>Sex</th>\n",
       "      <th>Value</th>\n",
       "    </tr>\n",
       "  </thead>\n",
       "  <tbody>\n",
       "    <tr>\n",
       "      <th>0</th>\n",
       "      <td>1950</td>\n",
       "      <td>0 - 14 years</td>\n",
       "      <td>Both sexes</td>\n",
       "      <td>851.2</td>\n",
       "    </tr>\n",
       "    <tr>\n",
       "      <th>1</th>\n",
       "      <td>1950</td>\n",
       "      <td>0 - 14 years</td>\n",
       "      <td>Male</td>\n",
       "      <td>434.6</td>\n",
       "    </tr>\n",
       "    <tr>\n",
       "      <th>2</th>\n",
       "      <td>1950</td>\n",
       "      <td>0 - 14 years</td>\n",
       "      <td>Female</td>\n",
       "      <td>416.6</td>\n",
       "    </tr>\n",
       "    <tr>\n",
       "      <th>18</th>\n",
       "      <td>1951</td>\n",
       "      <td>0 - 14 years</td>\n",
       "      <td>Both sexes</td>\n",
       "      <td>854.8</td>\n",
       "    </tr>\n",
       "    <tr>\n",
       "      <th>19</th>\n",
       "      <td>1951</td>\n",
       "      <td>0 - 14 years</td>\n",
       "      <td>Male</td>\n",
       "      <td>436.4</td>\n",
       "    </tr>\n",
       "    <tr>\n",
       "      <th>...</th>\n",
       "      <td>...</td>\n",
       "      <td>...</td>\n",
       "      <td>...</td>\n",
       "      <td>...</td>\n",
       "    </tr>\n",
       "    <tr>\n",
       "      <th>1297</th>\n",
       "      <td>2022</td>\n",
       "      <td>0 - 14 years</td>\n",
       "      <td>Male</td>\n",
       "      <td>519.0</td>\n",
       "    </tr>\n",
       "    <tr>\n",
       "      <th>1298</th>\n",
       "      <td>2022</td>\n",
       "      <td>0 - 14 years</td>\n",
       "      <td>Female</td>\n",
       "      <td>495.3</td>\n",
       "    </tr>\n",
       "    <tr>\n",
       "      <th>1314</th>\n",
       "      <td>2023</td>\n",
       "      <td>0 - 14 years</td>\n",
       "      <td>Both sexes</td>\n",
       "      <td>1011.6</td>\n",
       "    </tr>\n",
       "    <tr>\n",
       "      <th>1315</th>\n",
       "      <td>2023</td>\n",
       "      <td>0 - 14 years</td>\n",
       "      <td>Male</td>\n",
       "      <td>516.5</td>\n",
       "    </tr>\n",
       "    <tr>\n",
       "      <th>1316</th>\n",
       "      <td>2023</td>\n",
       "      <td>0 - 14 years</td>\n",
       "      <td>Female</td>\n",
       "      <td>495.1</td>\n",
       "    </tr>\n",
       "  </tbody>\n",
       "</table>\n",
       "<p>222 rows × 4 columns</p>\n",
       "</div>"
      ],
      "text/plain": [
       "      Year     Age Group         Sex   Value\n",
       "0     1950  0 - 14 years  Both sexes   851.2\n",
       "1     1950  0 - 14 years        Male   434.6\n",
       "2     1950  0 - 14 years      Female   416.6\n",
       "18    1951  0 - 14 years  Both sexes   854.8\n",
       "19    1951  0 - 14 years        Male   436.4\n",
       "...    ...           ...         ...     ...\n",
       "1297  2022  0 - 14 years        Male   519.0\n",
       "1298  2022  0 - 14 years      Female   495.3\n",
       "1314  2023  0 - 14 years  Both sexes  1011.6\n",
       "1315  2023  0 - 14 years        Male   516.5\n",
       "1316  2023  0 - 14 years      Female   495.1\n",
       "\n",
       "[222 rows x 4 columns]"
      ]
     },
     "execution_count": 22,
     "metadata": {},
     "output_type": "execute_result"
    }
   ],
   "source": [
    "all_0_14=df[(df[\"Age Group\"]==\"0 - 14 years\")]\n",
    "all_0_14"
   ]
  },
  {
   "cell_type": "markdown",
   "id": "753dcefa",
   "metadata": {},
   "source": [
    "## 3. Tek Değişkenli Analiz"
   ]
  },
  {
   "cell_type": "code",
   "execution_count": null,
   "id": "14e449b5",
   "metadata": {},
   "outputs": [],
   "source": [
    "a=df[(df[\"Sex\"]==\"Both sexes\") & (df[\"Age Group\"]==\"All ages\")]\n",
    "#a=a[a[\"Year\"]>=2010]\n",
    "#a"
   ]
  },
  {
   "cell_type": "code",
   "execution_count": null,
   "id": "e28e6d36",
   "metadata": {},
   "outputs": [],
   "source": [
    "b=df[(df[\"Age Group\"]==\"65 years and over\") & (df[\"Sex\"]==\"Both sexes\")]\n",
    "#b"
   ]
  },
  {
   "cell_type": "code",
   "execution_count": null,
   "id": "692ecee3",
   "metadata": {},
   "outputs": [],
   "source": [
    "df_male=df[(df[\"Age Group\"]==\"All ages\") & (df[\"Sex\"]==\"Male\")]\n",
    "df_female=df[(df[\"Age Group\"]==\"All ages\") & (df[\"Sex\"]==\"Female\")]\n",
    "\n",
    "#df_male\n",
    "#df_female"
   ]
  },
  {
   "cell_type": "code",
   "execution_count": null,
   "id": "5c1bdd6c",
   "metadata": {},
   "outputs": [],
   "source": [
    "# 'Value' değişkeni için bir histogram çizelim.\n",
    "plt.figure(figsize=(10, 6))\n",
    "sns.histplot(a['Value'], kde=True)\n",
    "plt.title('Value Değişkeninin Histogramı')\n",
    "plt.xlabel('Value')\n",
    "plt.ylabel('Frekans')\n",
    "plt.show()"
   ]
  },
  {
   "cell_type": "code",
   "execution_count": null,
   "id": "fa5c9201",
   "metadata": {},
   "outputs": [],
   "source": [
    "# 'Value' değişkeni için bir kutu grafiği çizelim.\n",
    "plt.figure(figsize=(10, 6))\n",
    "sns.boxplot(y=a['Value'])\n",
    "plt.title('Value Değişkeninin Kutu Grafiği')\n",
    "plt.ylabel('Value')\n",
    "plt.show()"
   ]
  },
  {
   "cell_type": "code",
   "execution_count": null,
   "id": "57125ca1",
   "metadata": {},
   "outputs": [],
   "source": []
  },
  {
   "cell_type": "code",
   "execution_count": null,
   "id": "c1324801",
   "metadata": {
    "scrolled": true
   },
   "outputs": [],
   "source": [
    "# 'Year' ve 'Value' arasında bir ilişki olup olmadığını görmek için bir scatter plot çizelim.\n",
    "plt.figure(figsize=(10, 6))\n",
    "sns.scatterplot(x=df['Year'], y=df['Value'])\n",
    "plt.title('Yıl ve Value İlişkisi')\n",
    "plt.xlabel('Year')\n",
    "plt.ylabel('Value')\n",
    "plt.show()"
   ]
  },
  {
   "cell_type": "code",
   "execution_count": null,
   "id": "3ad5fafd",
   "metadata": {},
   "outputs": [],
   "source": [
    "# Cinsiyet için çubuk grafik\n",
    "plt.figure(figsize=(10, 5))\n",
    "sns.countplot(x='Sex', data=df)\n",
    "plt.title('Sex Distribution')\n",
    "plt.xlabel('Sex')\n",
    "plt.ylabel('Count')\n",
    "plt.show()"
   ]
  },
  {
   "cell_type": "code",
   "execution_count": null,
   "id": "4368218c",
   "metadata": {},
   "outputs": [],
   "source": [
    "# Yaş Grubu için çubuk grafik\n",
    "plt.figure(figsize=(15, 7))\n",
    "sns.countplot(x='Age Group', data=df, order = df['Age Group'].value_counts().index)\n",
    "plt.title('Age Group Distribution')\n",
    "plt.xlabel('Age Group')\n",
    "plt.xticks(rotation=90)\n",
    "plt.ylabel('Count')\n",
    "plt.show()"
   ]
  },
  {
   "cell_type": "code",
   "execution_count": null,
   "id": "b7d310a4",
   "metadata": {},
   "outputs": [],
   "source": [
    "# Yıl ve Nüfus değerleri arasında bir çizgi grafiği\n",
    "plt.figure(figsize=(15, 7))\n",
    "sns.lineplot(x='Year', y='Value', data=df, estimator=sum, ci=None)\n",
    "plt.title('Population over Years')\n",
    "plt.xlabel('Year')\n",
    "plt.ylabel('Population')\n",
    "plt.show()"
   ]
  },
  {
   "cell_type": "code",
   "execution_count": null,
   "id": "aad35103",
   "metadata": {},
   "outputs": [],
   "source": [
    "# Yaş Grubu ve Nüfus değerleri arasında bir çizgi grafiği\n",
    "# Bu, yaş gruplarına göre toplam nüfusu gösterecektir.\n",
    "plt.figure(figsize=(15, 7))\n",
    "sns.lineplot(x='Age Group', y='Value', data=df, estimator=sum, ci=None)\n",
    "plt.title('Population by Age Group')\n",
    "plt.xlabel('Age Group')\n",
    "plt.xticks(rotation=90)\n",
    "plt.ylabel('Population')\n",
    "plt.show()"
   ]
  },
  {
   "cell_type": "code",
   "execution_count": null,
   "id": "db04127d",
   "metadata": {},
   "outputs": [],
   "source": [
    "# Cinsiyet ve Nüfus değerleri arasındaki ilişki\n",
    "plt.figure(figsize=(15, 7))\n",
    "sns.barplot(x='Sex', y='Value', data=df, estimator=sum)\n",
    "plt.title('Population by Sex')\n",
    "plt.xlabel('Sex')\n",
    "plt.ylabel('Population')\n",
    "plt.show()"
   ]
  },
  {
   "cell_type": "code",
   "execution_count": null,
   "id": "e83d2de0",
   "metadata": {
    "scrolled": true
   },
   "outputs": [],
   "source": [
    "# 'Age Group' ve 'Value' için gruplanmış özet istatistikler\n",
    "age_group_stats = df.groupby('Age Group')['Value'].describe()\n",
    "print(age_group_stats)"
   ]
  },
  {
   "cell_type": "code",
   "execution_count": null,
   "id": "8c074bd3",
   "metadata": {},
   "outputs": [],
   "source": [
    "# 'Sex' ve 'Value' için gruplanmış özet istatistikler\n",
    "sex_stats = df.groupby('Sex')['Value'].describe()\n",
    "print(sex_stats)"
   ]
  },
  {
   "cell_type": "markdown",
   "id": "2c313902",
   "metadata": {},
   "source": [
    "# Keşifsel Veri Analizi (EDA)"
   ]
  },
  {
   "cell_type": "code",
   "execution_count": null,
   "id": "593b23ed",
   "metadata": {},
   "outputs": [],
   "source": [
    "# Veri setinin başını, sonunu, rastgele örneklerini ve özet bilgilerini görüntüleyin.\n",
    "print(df.head())\n",
    "print(df.tail())\n",
    "print(df.sample(5))\n",
    "print(df.info())\n",
    "print(df.describe(include='all'))  # Hem sayısal hem de kategorik değişkenler için özet istatistikler\n"
   ]
  },
  {
   "cell_type": "code",
   "execution_count": null,
   "id": "c4d72eba",
   "metadata": {},
   "outputs": [],
   "source": []
  },
  {
   "cell_type": "code",
   "execution_count": null,
   "id": "682b50a5",
   "metadata": {},
   "outputs": [],
   "source": []
  },
  {
   "cell_type": "code",
   "execution_count": null,
   "id": "47e5c920",
   "metadata": {},
   "outputs": [],
   "source": []
  },
  {
   "cell_type": "code",
   "execution_count": null,
   "id": "f1dfe0c7",
   "metadata": {},
   "outputs": [],
   "source": []
  },
  {
   "cell_type": "code",
   "execution_count": null,
   "id": "a96cb151",
   "metadata": {},
   "outputs": [],
   "source": []
  },
  {
   "cell_type": "code",
   "execution_count": null,
   "id": "201fde15",
   "metadata": {},
   "outputs": [],
   "source": []
  },
  {
   "cell_type": "code",
   "execution_count": null,
   "id": "c2e077cc",
   "metadata": {},
   "outputs": [],
   "source": []
  },
  {
   "cell_type": "code",
   "execution_count": null,
   "id": "09bd28de",
   "metadata": {},
   "outputs": [],
   "source": []
  },
  {
   "cell_type": "code",
   "execution_count": null,
   "id": "a09973b5",
   "metadata": {},
   "outputs": [],
   "source": []
  },
  {
   "cell_type": "code",
   "execution_count": null,
   "id": "720cc9e8",
   "metadata": {},
   "outputs": [],
   "source": []
  },
  {
   "cell_type": "code",
   "execution_count": null,
   "id": "ae87b2bc",
   "metadata": {},
   "outputs": [],
   "source": []
  },
  {
   "cell_type": "code",
   "execution_count": null,
   "id": "527f36ac",
   "metadata": {},
   "outputs": [],
   "source": []
  },
  {
   "cell_type": "code",
   "execution_count": null,
   "id": "3cbe9451",
   "metadata": {
    "scrolled": true
   },
   "outputs": [],
   "source": [
    "df['Value'].describe()"
   ]
  },
  {
   "cell_type": "code",
   "execution_count": null,
   "id": "bfc5649f",
   "metadata": {},
   "outputs": [],
   "source": [
    "#df['Age Group'].unique()"
   ]
  },
  {
   "cell_type": "code",
   "execution_count": null,
   "id": "af998f0f",
   "metadata": {},
   "outputs": [],
   "source": [
    "#df['Year'].unique()"
   ]
  },
  {
   "cell_type": "code",
   "execution_count": null,
   "id": "02f71ade",
   "metadata": {},
   "outputs": [],
   "source": [
    "#df['Sex'].unique()"
   ]
  },
  {
   "cell_type": "code",
   "execution_count": null,
   "id": "73b9da9b",
   "metadata": {},
   "outputs": [],
   "source": [
    "import ipywidgets as widgets\n",
    "from IPython.display import display\n",
    "\n",
    "# Identify options\n",
    "year_option = df['Year'].unique()\n",
    "age_group_option = df['Age Group'].unique()\n",
    "sex_option = df['Sex'].unique()\n",
    "\n",
    "# Create dropdown widget\n",
    "dropdown_year = widgets.Dropdown(options=year_option,description=\"Year:\")\n",
    "dropdown_age_group = widgets.Dropdown(options=age_group_option,description=\"Age Group:\")\n",
    "dropdown_sex = widgets.Dropdown(options=sex_option,description=\"Sex:\")\n",
    "\n",
    "# Show Widget\n",
    "print(\"Please select a option!\")\n",
    "display(dropdown_year)\n",
    "display(dropdown_age_group)\n",
    "display(dropdown_sex)"
   ]
  },
  {
   "cell_type": "code",
   "execution_count": null,
   "id": "94184a2c",
   "metadata": {},
   "outputs": [],
   "source": [
    "year = dropdown_year.value\n",
    "age_group = dropdown_age_group.value\n",
    "sex= dropdown_sex.value\n",
    "\n",
    "result = df[(df['Year'] == year) & (df['Age Group'] == age_group) & (df['Sex'] == sex)]['Value'].values[0]\n",
    "print(f\"In '{year}', the result for the age group '{age_group}', and the sex '{sex}' is: {result}\")"
   ]
  },
  {
   "cell_type": "code",
   "execution_count": null,
   "id": "61ef3105",
   "metadata": {},
   "outputs": [],
   "source": [
    "table_year_age_group = df[(df['Year'] == year) & (df['Age Group'] == age_group)]\n",
    "table_year_age_group"
   ]
  },
  {
   "cell_type": "code",
   "execution_count": null,
   "id": "fd951848",
   "metadata": {},
   "outputs": [],
   "source": [
    "table_age_group_sex = df[(df['Age Group'] == age_group) & (df[\"Sex\"] == sex)]\n",
    "table_age_group_sex"
   ]
  },
  {
   "cell_type": "code",
   "execution_count": null,
   "id": "f67d895a",
   "metadata": {},
   "outputs": [],
   "source": [
    "df[\"Year\"].unique()"
   ]
  },
  {
   "cell_type": "code",
   "execution_count": null,
   "id": "4bbfaf5b",
   "metadata": {},
   "outputs": [],
   "source": [
    "df[\"Age Group\"].unique()"
   ]
  },
  {
   "cell_type": "code",
   "execution_count": null,
   "id": "d952804a",
   "metadata": {},
   "outputs": [],
   "source": [
    "df[\"Sex\"].unique()"
   ]
  },
  {
   "cell_type": "code",
   "execution_count": null,
   "id": "368577b6",
   "metadata": {},
   "outputs": [],
   "source": [
    "print(np.min(df[\"Value\"]))\n",
    "print(np.max(df[\"Value\"]))\n",
    "print(np.mean(df[\"Value\"]))\n",
    "print(np.median(df[\"Value\"]))"
   ]
  },
  {
   "cell_type": "code",
   "execution_count": null,
   "id": "1d918304",
   "metadata": {},
   "outputs": [],
   "source": []
  },
  {
   "cell_type": "code",
   "execution_count": null,
   "id": "1aff07d2",
   "metadata": {
    "scrolled": true
   },
   "outputs": [],
   "source": [
    "#year = dropdown_year.value\n",
    "#age_group = dropdown_age_group.value\n",
    "#sex= dropdown_sex.value\n",
    "#print(\"Year:\", year)\n",
    "#print(\"Age Group:\", age_group)\n",
    "#print(\"Sex:\", sex,\"\\n\")\n",
    "\n",
    "## We print the result for a specific year, age group, and sex.\n",
    "#result = df[(df['Year'] == year) & (df['Age Group'] == age_group) & (df['Sex'] == sex)]['Value'].values[0]\n",
    "#print(f\"In '{year}', the result for the age group '{age_group}', and the sex '{sex}' is: {result}\")"
   ]
  },
  {
   "cell_type": "code",
   "execution_count": null,
   "id": "fbae8fd8",
   "metadata": {},
   "outputs": [],
   "source": [
    "# year = 1965\n",
    "# age_range = \"1 - 4 years\"\n",
    "# sex = \"Both sexes\"\n",
    "\n",
    "# # We print the result for a specific year, age range, and gender.\n",
    "# result = df[(df['Year'] == year) & (df['Age Group'] == age_range) & (df['Sex'] == sex)]['Value'].values[0]\n",
    "# print(f\"In {year}, the result for the age group {age_range}, and the gender {sex} is: {result}\")"
   ]
  },
  {
   "cell_type": "code",
   "execution_count": null,
   "id": "975d1958",
   "metadata": {},
   "outputs": [],
   "source": [
    "# toplam_yas = df[(df['Year'] == 1965) & (df['Sex'] == \"Both sexes\") & (df['Age Group'].isin(['Under 1 year', '1 - 4 years']))]['Value'].sum()\n",
    "# toplam_yas"
   ]
  },
  {
   "cell_type": "code",
   "execution_count": null,
   "id": "29fb35b6",
   "metadata": {},
   "outputs": [],
   "source": [
    "#all_0_4=df[(df[\"Age Group\"]==\"0 - 4 years\")]\n",
    "#all_0_4.head(5)"
   ]
  },
  {
   "cell_type": "code",
   "execution_count": null,
   "id": "9f19b336",
   "metadata": {},
   "outputs": [],
   "source": [
    "#all_0_4.shape"
   ]
  },
  {
   "cell_type": "code",
   "execution_count": null,
   "id": "eb2b8e05",
   "metadata": {
    "scrolled": true
   },
   "outputs": [],
   "source": [
    "#all_0_4.isnull().sum()"
   ]
  },
  {
   "cell_type": "code",
   "execution_count": null,
   "id": "8a701c1f",
   "metadata": {},
   "outputs": [],
   "source": [
    "df[\"Value\"] = df[\"Value\"].astype(int)"
   ]
  },
  {
   "cell_type": "code",
   "execution_count": null,
   "id": "494170f6",
   "metadata": {},
   "outputs": [],
   "source": [
    "df[\"Value\"]=(df[\"Value\"]/1000) # we changed the value because we drop UNIT column where it is writing exact value label"
   ]
  },
  {
   "cell_type": "code",
   "execution_count": null,
   "id": "a256aec4",
   "metadata": {},
   "outputs": [],
   "source": [
    "plt.figure(figsize=(12,6))\n",
    "sns.boxplot(x=\"Year\", y=\"Value\", data=a)\n",
    "sns.swarmplot(x=\"Year\", y=\"Value\", data=a)\n",
    "\n",
    "# Label the axes\n",
    "plt.xlabel(\"Years\")\n",
    "plt.ylabel(\"Value (Million)\")\n",
    "\n",
    "# Yıl aralıklarını oluşturun\n",
    "years = [str(year) for year in range(min(a[\"Year\"]), max(a[\"Year\"]), 5)]\n",
    "years.append(\"2023\")\n",
    "\n",
    "#min_value = round(min(a[\"Value\"]),2)\n",
    "#max_value = round(max(a[\"Value\"]),2)\n",
    "\n",
    "step = 0.5  # Belirlediğiniz adım büyüklüğü\n",
    "\n",
    "#values = np.arange(min_value, max_value, step, dtype=float)\n",
    "#values = list(np.arange(min_value, max_value + step, step))\n",
    "asd=math.ceil(round(min(a[\"Value\"]),2)*2)/2\n",
    "values = list(np.arange(asd, round(max(a[\"Value\"]),2), step))\n",
    "values.insert(0, round(min(a[\"Value\"]),2))\n",
    "values.insert(len(values), round(max(a[\"Value\"]),2))\n",
    "#values = [value for value in range(min_value, max_value, step)]\n",
    "#np.concatenate(max_value)\n",
    "#values.append(max_value)\n",
    "plt.xticks(ticks=years, rotation=90)\n",
    "plt.yticks(ticks=values)\n",
    "plt.show()\n"
   ]
  },
  {
   "cell_type": "code",
   "execution_count": null,
   "id": "8d578fd9",
   "metadata": {},
   "outputs": [],
   "source": [
    "def ecdf(data):\n",
    "    n = len(data)\n",
    "    x = np.sort(data)\n",
    "    y = np.arange(1, n+1) / n\n",
    "    return x,y"
   ]
  },
  {
   "cell_type": "code",
   "execution_count": null,
   "id": "934872ff",
   "metadata": {},
   "outputs": [],
   "source": [
    "plt.figure(figsize=(12,6))\n",
    "percentiles=np.array([10,25,50,75,90])\n",
    "percentiles_value=np.percentile(a[\"Value\"],percentiles)\n",
    "x_value,y_value=ecdf(a[\"Value\"])\n",
    "plt.plot(percentiles_value, percentiles/100, marker='D', color='red',linestyle=\"none\")\n",
    "plt.plot(x_value,y_value,marker=\".\",linestyle=\"none\")\n",
    "plt.xlabel(\"Value (Million)\")\n",
    "plt.ylabel(\"ECDF\")\n",
    "plt.show()"
   ]
  },
  {
   "cell_type": "code",
   "execution_count": null,
   "id": "ed7e3271",
   "metadata": {},
   "outputs": [],
   "source": [
    "plt.figure(figsize=(12,6))\n",
    "#x_both, y_both = ecdf(df[(df[\"Sex\"]==\"Both sexes\") & (df[\"Age Group\"]==\"All ages\")][\"Value\"])\n",
    "x_male, y_male = ecdf(df[(df[\"Sex\"]==\"Male\") & (df[\"Age Group\"]==\"All ages\")][\"Value\"])\n",
    "x_female, y_female = ecdf(df[(df[\"Sex\"]==\"Female\") & (df[\"Age Group\"]==\"All ages\")][\"Value\"])\n",
    "#plt.plot(x_both, y_both, marker=\".\", linestyle=\"none\")\n",
    "plt.plot(x_male, y_male, marker=\".\", linestyle=\"none\")\n",
    "plt.plot(x_female, y_female, marker=\".\", linestyle=\"none\")\n",
    "#plt.legend((\"Both sexes\",\"Male\",\"Female\"),loc=\"lower right\")\n",
    "plt.legend((\"Male\",\"Female\"),loc=\"lower right\")\n",
    "plt.xlabel(\"Value (Million)\")\n",
    "plt.ylabel(\"ECDF\")\n",
    "#plt.xticks(ticks=values)\n",
    "plt.show()"
   ]
  },
  {
   "cell_type": "code",
   "execution_count": null,
   "id": "7ccf0934",
   "metadata": {
    "scrolled": false
   },
   "outputs": [],
   "source": [
    "plt.figure(figsize=(12,6))\n",
    "n_data=len(a[\"Value\"])\n",
    "n_bins=np.sqrt(n_data)\n",
    "n_bins=int(n_bins)\n",
    "plt.hist(a[\"Value\"],n_bins)\n",
    "plt.xlabel(\"Value\")\n",
    "plt.ylabel(\"Count\")\n",
    "plt.show()"
   ]
  },
  {
   "cell_type": "code",
   "execution_count": null,
   "id": "d97545f1",
   "metadata": {
    "scrolled": false
   },
   "outputs": [],
   "source": [
    "plt.figure(figsize=(12,6))\n",
    "\n",
    "desired_age_groups = ['0 - 14 years', '15 - 24 years', '25 - 44 years', '45 - 64 years', '65 years and over']\n",
    "sex_filter = df['Sex'] == 'Both sexes'\n",
    "age_group_filter = df['Age Group'].isin(desired_age_groups)\n",
    "\n",
    "filtered_df = df[sex_filter & age_group_filter]\n",
    "\n",
    "sns.boxplot(x=\"Age Group\", y=\"Value\",data=filtered_df)\n",
    "sns.swarmplot(x=\"Age Group\", y=\"Value\",data=filtered_df,hue=\"Year\",palette=\"Spectral\")\n",
    "\n",
    "plt.xlabel(\"Age Group\")\n",
    "plt.ylabel(\"Population\")\n",
    "plt.xticks(rotation=90)\n",
    "plt.show()"
   ]
  },
  {
   "cell_type": "code",
   "execution_count": null,
   "id": "a27fb7a4",
   "metadata": {
    "scrolled": true
   },
   "outputs": [],
   "source": []
  },
  {
   "cell_type": "code",
   "execution_count": null,
   "id": "98c5d286",
   "metadata": {},
   "outputs": [],
   "source": []
  },
  {
   "cell_type": "code",
   "execution_count": null,
   "id": "1fdf8e6b",
   "metadata": {},
   "outputs": [],
   "source": [
    "plt.figure(figsize=(10,5))\n",
    "\n",
    "plt.plot(df_male[\"Value\"], df_female[\"Value\"], marker=\".\", linestyle=\"none\")\n",
    "\n",
    "plt.xlabel(\"Male\")\n",
    "plt.ylabel(\"Female\")\n",
    "\n",
    "plt.show()"
   ]
  },
  {
   "cell_type": "code",
   "execution_count": null,
   "id": "088b927c",
   "metadata": {},
   "outputs": [],
   "source": [
    "from scipy.stats import binom\n"
   ]
  },
  {
   "cell_type": "code",
   "execution_count": null,
   "id": "a77a9bf1",
   "metadata": {},
   "outputs": [],
   "source": [
    "# İlgili parametreler\n",
    "n = 10  # Toplam deneme sayısı (kaç kez)\n",
    "p = 0.2  # Her bir denemede başarılı olma olasılığı\n",
    "\n",
    "# Belirli bir sayıda başarılı denemelerin olasılığını hesaplayın\n",
    "x = 3  # Kaç kez başarılı olacağınızı belirtin\n",
    "probability = binom.pmf(x, n, p)\n",
    "\n",
    "# Sonucu yazdırın\n",
    "print(f\"2023 yılında '25 - 44 years' yaş grubunda, 'Male' cinsiyette belirli bir olayın {n} kez gerçekleşme olasılığı: {probability:.4f}\")\n"
   ]
  },
  {
   "cell_type": "code",
   "execution_count": null,
   "id": "752a554a",
   "metadata": {},
   "outputs": [],
   "source": []
  },
  {
   "cell_type": "code",
   "execution_count": null,
   "id": "4f6137f2",
   "metadata": {},
   "outputs": [],
   "source": []
  },
  {
   "cell_type": "code",
   "execution_count": null,
   "id": "be36731b",
   "metadata": {},
   "outputs": [],
   "source": []
  },
  {
   "cell_type": "code",
   "execution_count": null,
   "id": "1b65f6fc",
   "metadata": {},
   "outputs": [],
   "source": []
  },
  {
   "cell_type": "code",
   "execution_count": null,
   "id": "29bccf6b",
   "metadata": {},
   "outputs": [],
   "source": [
    "Q1=b[\"Value\"].quantile(0.25)\n",
    "Q3=b[\"Value\"].quantile(0.75)\n",
    "IQR=Q3-Q1\n",
    "lower_bound = Q1 - 1.5 * IQR\n",
    "upper_bound = Q3 + 1.5 * IQR\n",
    "print(\"IQR: (Million)\",IQR)\n",
    "\n"
   ]
  },
  {
   "cell_type": "code",
   "execution_count": null,
   "id": "4e812a69",
   "metadata": {},
   "outputs": [],
   "source": []
  },
  {
   "cell_type": "code",
   "execution_count": null,
   "id": "61eda450",
   "metadata": {
    "scrolled": true
   },
   "outputs": [],
   "source": [
    "Q1=b[\"Value\"].quantile(0.25)\n",
    "Q3=b[\"Value\"].quantile(0.75)\n",
    "IQR=Q3-Q1\n",
    "lower_bound = Q1 - 1.5 * IQR\n",
    "upper_bound = Q3 + 1.5 * IQR\n",
    "print(IQR)\n",
    "\n",
    "lower_bound = Q1 - 1.5 * IQR\n",
    "upper_bound = Q3 + 1.5 * IQR\n",
    "\n",
    "outliers = (b[\"Value\"] < lower_bound) | (b[\"Value\"] > upper_bound)\n",
    "outliers_b = b[outliers]\n",
    "outliers_list = b[\"Value\"][outliers].tolist()\n",
    "\n",
    "#outliers_b = b[outliers.any(axis=1)]\n",
    "\n",
    "outliers_list\n"
   ]
  },
  {
   "cell_type": "code",
   "execution_count": null,
   "id": "f8775acd",
   "metadata": {},
   "outputs": [],
   "source": [
    "sns.boxplot(x=\"Age Group\", y=\"Value\",data=b)\n",
    "plt.show()"
   ]
  },
  {
   "cell_type": "code",
   "execution_count": null,
   "id": "5334dde4",
   "metadata": {},
   "outputs": [],
   "source": [
    "import pandas as pd\n",
    "from scipy.stats import binom\n",
    "\n",
    "# Veri setini yükleyin (örneğin, \"veri.csv\" dosyasını kullanarak)\n",
    "#data = pd.read_csv(\"veri.csv\")\n",
    "\n",
    "# Aykırı değer sınırlarını tanımlayın\n",
    "esik_deger = upper_bound  # Örneğin, aykırı değerler 10'un üzerinde kabul edilebilir\n",
    "\n",
    "# Belirli bir yıl, yaş grubu ve cinsiyet için aykırı değer olma olasılığını hesaplayın\n",
    "n = b[\"Value\"].count()  # Toplam gözlem sayısı\n",
    "p = len(b[b[\"Value\"] > esik_deger]) / n  # Aykırı değer olma olasılığı\n",
    "\n",
    "# Kaç aykırı değer olması gerektiğini belirtin\n",
    "x = 7\n",
    "\n",
    "# Binom dağılımı kullanarak olasılığı hesaplayın\n",
    "probability = binom.pmf(x, n, p)\n",
    "\n",
    "# Sonucu yazdır\n",
    "print(f\"Belirli bir yıl, yaş grubu ve cinsiyette {x} aykırı değer olma olasılığı: {probability:.4f}\")\n"
   ]
  },
  {
   "cell_type": "code",
   "execution_count": null,
   "id": "2b2000b8",
   "metadata": {},
   "outputs": [],
   "source": [
    "# Belirli bir yıl, yaş grubu ve cinsiyet için ortalama olay hızını hesaplayın\n",
    "ortalama_olay_hizi = b[\"Value\"].mean()\n",
    "\n",
    "# Kaç nadir olayın olması gerektiğini belirtin\n",
    "x = 1\n",
    "\n",
    "# Poisson dağılımı kullanarak olasılığı hesaplayın\n",
    "probability = poisson.pmf(x, ortalama_olay_hizi)\n",
    "\n",
    "# Sonucu yazdır\n",
    "print(f\"Belirli bir yıl, yaş grubu ve cinsiyette {x} nadir olayın olasılığı: {probability:.4f}\")\n"
   ]
  },
  {
   "cell_type": "code",
   "execution_count": null,
   "id": "8508876a",
   "metadata": {},
   "outputs": [],
   "source": [
    "ortalama_olay_hizi = b[\"Value\"].mean()\n",
    "\n",
    "# En az 1 aykırı değer olma olasılığını hesaplayın\n",
    "x = 0  # En az 1 aykırı değer olmaması gerektiği için x = 0\n",
    "olasilik = 1 - poisson.cdf(x, ortalama_olay_hizi)\n",
    "print(f\"Belirli bir yıl 1 veya daha fazla aykırı değer olma olasılığı: {olasilik:.4f}\")"
   ]
  },
  {
   "cell_type": "code",
   "execution_count": null,
   "id": "ba359394",
   "metadata": {},
   "outputs": [],
   "source": []
  },
  {
   "cell_type": "code",
   "execution_count": null,
   "id": "de4283e3",
   "metadata": {},
   "outputs": [],
   "source": [
    "n"
   ]
  },
  {
   "cell_type": "code",
   "execution_count": null,
   "id": "f5e51643",
   "metadata": {},
   "outputs": [],
   "source": [
    "p"
   ]
  },
  {
   "cell_type": "code",
   "execution_count": null,
   "id": "da056c70",
   "metadata": {},
   "outputs": [],
   "source": [
    "upper_bound"
   ]
  },
  {
   "cell_type": "code",
   "execution_count": null,
   "id": "ecf247f5",
   "metadata": {},
   "outputs": [],
   "source": [
    "np.max(b[\"Value\"])"
   ]
  },
  {
   "cell_type": "code",
   "execution_count": null,
   "id": "b4eab49e",
   "metadata": {},
   "outputs": [],
   "source": []
  },
  {
   "cell_type": "code",
   "execution_count": null,
   "id": "43a9ab34",
   "metadata": {},
   "outputs": [],
   "source": []
  },
  {
   "cell_type": "code",
   "execution_count": null,
   "id": "d81b5705",
   "metadata": {},
   "outputs": [],
   "source": []
  },
  {
   "cell_type": "code",
   "execution_count": null,
   "id": "6d54295f",
   "metadata": {},
   "outputs": [],
   "source": []
  },
  {
   "cell_type": "code",
   "execution_count": null,
   "id": "90c07231",
   "metadata": {},
   "outputs": [],
   "source": [
    "# Compute the covariance matrix: covariance_matrix\n",
    "covariance_matrix=np.cov(df_male[\"Value\"],df_female[\"Value\"])\n",
    "\n",
    "# Print covariance matrix\n",
    "print(covariance_matrix)\n",
    "\n",
    "# Extract covariance of length and width of petals: petal_cov\n",
    "Value_cov=covariance_matrix[0,1]\n",
    "\n",
    "# Print the length/width covariance\n",
    "print(Value_cov)\n"
   ]
  },
  {
   "cell_type": "code",
   "execution_count": null,
   "id": "8f4d3eec",
   "metadata": {},
   "outputs": [],
   "source": [
    "def pearson_r(x,y):\n",
    "    corr_mat=np.corrcoef(x,y)\n",
    "    return corr_mat[0,1]\n",
    "\n",
    "r=pearson_r(df_male[\"Value\"],df_female[\"Value\"])\n",
    "\n",
    "# Print the result\n",
    "print(r)"
   ]
  },
  {
   "cell_type": "code",
   "execution_count": null,
   "id": "852e29e3",
   "metadata": {},
   "outputs": [],
   "source": [
    "def perform_bernoulli_trials(n, p):\n",
    "    # Initialize number of successes: n_success\n",
    "    n_success = 0\n",
    "\n",
    "    # Perform trials\n",
    "    for i in range(n):\n",
    "        # Choose random number between zero and one: random_number\n",
    "        random_numbers=rng.random()\n",
    "\n",
    "        # If less than p, it's a success so add one to n_success\n",
    "        if random_numbers<p:\n",
    "            n_success+=1\n",
    "\n",
    "    return n_success"
   ]
  },
  {
   "cell_type": "code",
   "execution_count": null,
   "id": "1ad000ce",
   "metadata": {},
   "outputs": [],
   "source": [
    "# Instantiate and seed random number generator\n",
    "rng=np.random.default_rng(seed=42)\n",
    "\n",
    "# Initialize the number of defaults: n_defaults\n",
    "n_defaults=np.empty(1000)\n",
    "\n",
    "# Compute the number of defaults\n",
    "for i in range(1000):\n",
    "    n_defaults[i] = perform_bernoulli_trials(100,0.05)\n",
    "\n",
    "\n",
    "# Plot the histogram with default number of bins; label your axes\n",
    "_ = plt.hist(n_defaults, density=True)\n",
    "_ = plt.xlabel('number of defaults out of 100 loans')\n",
    "_ = plt.ylabel('probability')\n",
    "\n",
    "# Show the plot\n",
    "plt.show()"
   ]
  },
  {
   "cell_type": "code",
   "execution_count": null,
   "id": "8407189b",
   "metadata": {},
   "outputs": [],
   "source": [
    "# Compute ECDF: x, y\n",
    "x,y=ecdf(n_defaults)\n",
    "# Plot the ECDF with labeled axes\n",
    "plt.plot(x,y, marker=\".\",linestyle=\"none\")\n",
    "plt.xlabel(\"x\")\n",
    "plt.ylabel(\"y\")\n",
    "\n",
    "\n",
    "# Show the plot\n",
    "plt.show()\n",
    "\n",
    "# Compute the number of 100-loan simulations with 10 or more defaults: n_lose_money\n",
    "n_lose_money=np.sum(n_defaults>=10)\n",
    "\n",
    "# Compute and print probability of losing money\n",
    "print('Probability of losing money =', n_lose_money / len(n_defaults))\n"
   ]
  },
  {
   "cell_type": "code",
   "execution_count": null,
   "id": "16458ddc",
   "metadata": {},
   "outputs": [],
   "source": [
    "# Take 10,000 samples out of the binomial distribution: n_defaults\n",
    "n_defaults=rng.binomial(n=100,p=0.05,size=10000)\n",
    "\n",
    "# Compute CDF: x, y\n",
    "x,y=ecdf(n_defaults)\n",
    "\n",
    "# Plot the CDF with axis labels\n",
    "plt.plot(x,y,marker=\".\",linestyle=\"none\")\n",
    "plt.xlabel(\"the number of defaults out of 100 loans\")\n",
    "plt.ylabel(\"CDF\")\n",
    "\n",
    "# Show the plot\n",
    "plt.show()\n"
   ]
  },
  {
   "cell_type": "code",
   "execution_count": null,
   "id": "bbb0c66e",
   "metadata": {},
   "outputs": [],
   "source": [
    "# Compute bin edges: bins\n",
    "bins = np.arange(0, max(n_defaults) + 1.5) - 0.5\n",
    "\n",
    "# Generate histogram\n",
    "plt.hist(n_defaults, bins=bins,density=True)\n",
    "\n",
    "# Label axes\n",
    "plt.xlabel(\"x\")\n",
    "plt.ylabel(\"y\")\n",
    "\n",
    "# Show the plot\n",
    "plt.show()"
   ]
  },
  {
   "cell_type": "code",
   "execution_count": null,
   "id": "3a12815d",
   "metadata": {},
   "outputs": [],
   "source": [
    "# Draw 10,000 samples out of Poisson distribution: samples_poisson\n",
    "samples_poisson=rng.poisson(10,size=10000)\n",
    "\n",
    "# Print the mean and standard deviation\n",
    "print('Poisson:     ', np.mean(samples_poisson),\n",
    "                       np.std(samples_poisson))\n",
    "\n",
    "# Specify values of n and p to consider for Binomial: n, p\n",
    "n=[20,100,1000]\n",
    "p=[0.5,0.1,0.01]\n",
    "\n",
    "# Draw 10,000 samples for each n,p pair: samples_binomial\n",
    "for i in range(3):\n",
    "    samples_binomial = rng.binomial(n[i],p[i],size=10000)\n",
    "\n",
    "    # Print results\n",
    "    print('n =', n[i], 'Binom:', np.mean(samples_binomial),\n",
    "                                 np.std(samples_binomial))\n"
   ]
  },
  {
   "cell_type": "code",
   "execution_count": null,
   "id": "483d76fe",
   "metadata": {},
   "outputs": [],
   "source": [
    "# Draw 10,000 samples out of Poisson distribution: n_nohitters\n",
    "n_nohitters=rng.poisson(251/115,size=10000)\n",
    "\n",
    "# Compute number of samples that are seven or greater: n_large\n",
    "n_large = np.sum(n_nohitters>=7)\n",
    "\n",
    "# Compute probability of getting seven or more: p_large\n",
    "p_large=n_large/10000\n",
    "\n",
    "# Print the result\n",
    "print('Probability of seven or more no-hitters:', p_large)\n"
   ]
  },
  {
   "cell_type": "code",
   "execution_count": null,
   "id": "51592863",
   "metadata": {},
   "outputs": [],
   "source": [
    "# Draw 100000 samples from Normal distribution with stds of interest: samples_std1, samples_std3, samples_std10\n",
    "samples_std1=rng.normal(20,1,size=100000)\n",
    "samples_std3=rng.normal(20,3,size=100000)\n",
    "samples_std10=rng.normal(20,10,size=100000)\n",
    "\n",
    "# Make histograms\n",
    "plt.hist(samples_std1,density=True,histtype=\"step\",bins=100)\n",
    "plt.hist(samples_std3,density=True,histtype=\"step\",bins=100)\n",
    "plt.hist(samples_std10,density=True,histtype=\"step\",bins=100)\n",
    "\n",
    "# Make a legend, set limits and show plot\n",
    "_ = plt.legend(('std = 1', 'std = 3', 'std = 10'))\n",
    "plt.ylim(-0.01, 0.42)\n",
    "plt.show()\n"
   ]
  },
  {
   "cell_type": "code",
   "execution_count": null,
   "id": "d34a7bef",
   "metadata": {},
   "outputs": [],
   "source": [
    "# Generate CDFs\n",
    "x_std1, y_std1=ecdf(samples_std1)\n",
    "x_std3, y_std3=ecdf(samples_std3)\n",
    "x_std10, y_std10=ecdf(samples_std10)\n",
    "\n",
    "\n",
    "\n",
    "# Plot CDFs\n",
    "plt.plot(x_std1, y_std1, marker=\".\",linestyle=\"none\")\n",
    "plt.plot(x_std3, y_std3, marker=\".\",linestyle=\"none\")\n",
    "plt.plot(x_std10, y_std10, marker=\".\",linestyle=\"none\")\n",
    "# Make a legend and show the plot\n",
    "_ = plt.legend(('std = 1', 'std = 3', 'std = 10'), loc='lower right')\n",
    "plt.show()\n"
   ]
  },
  {
   "cell_type": "code",
   "execution_count": null,
   "id": "5ff956f3",
   "metadata": {},
   "outputs": [],
   "source": [
    "# Compute mean and standard deviation: mu, sigma\n",
    "mu=np.mean(a[\"Value\"])\n",
    "sigma=np.std(a[\"Value\"])\n",
    "\n",
    "# Sample out of a normal distribution with this mu and sigma: samples\n",
    "samples=rng.normal(mu,sigma,size=10000)\n",
    "\n",
    "# Get the CDF of the samples and of the data\n",
    "x_theor, y_theor=ecdf(samples)\n",
    "x,y = ecdf(a[\"Value\"])\n",
    "\n",
    "# Plot the CDFs and show the plot\n",
    "_ = plt.plot(x_theor, y_theor)\n",
    "_ = plt.plot(x, y, marker='.', linestyle='none')\n",
    "_ = plt.xlabel('Value (Million)')\n",
    "_ = plt.ylabel('CDF')\n",
    "plt.show()\n"
   ]
  },
  {
   "cell_type": "code",
   "execution_count": null,
   "id": "82dbbeb8",
   "metadata": {},
   "outputs": [],
   "source": [
    "# Take a million samples out of the Normal distribution: samples\n",
    "samples=rng.normal(mu,sigma,size=1000000)\n",
    "\n",
    "# Compute the fraction that are faster than 144 seconds: prob\n",
    "prob=np.sum(samples<=144)/len(samples)\n",
    "\n",
    "# Print the result\n",
    "print('Probability of besting Secretariat:', prob)\n"
   ]
  },
  {
   "cell_type": "code",
   "execution_count": null,
   "id": "b1c98bd9",
   "metadata": {},
   "outputs": [],
   "source": [
    "def successive_poisson(tau1, tau2, size=1):\n",
    "    \"\"\"Compute time for arrival of 2 successive Poisson processes.\"\"\"\n",
    "    # Draw samples out of first exponential distribution: t1\n",
    "    t1 = rng.exponential(tau1,size)\n",
    "\n",
    "    # Draw samples out of second exponential distribution: t2\n",
    "    t2 = rng.exponential(tau2,size)\n",
    "\n",
    "    return t1 + t2"
   ]
  },
  {
   "cell_type": "code",
   "execution_count": null,
   "id": "d3253ff2",
   "metadata": {},
   "outputs": [],
   "source": [
    "# Draw samples of waiting times: waiting_times\n",
    "waiting_times= successive_poisson(764,715,size=100000)\n",
    "\n",
    "# Make the histogram\n",
    "plt.hist(waiting_times,density=True,histtype=\"step\",bins=100)\n",
    "\n",
    "\n",
    "# Label axes\n",
    "plt.xlabel(\"time\")\n",
    "plt.ylabel(\"y\")\n",
    "\n",
    "# Show the plot\n",
    "plt.show()\n"
   ]
  },
  {
   "cell_type": "code",
   "execution_count": null,
   "id": "3d8da32f",
   "metadata": {
    "scrolled": false
   },
   "outputs": [],
   "source": [
    "\n",
    "sns.boxplot(x=a[\"Year\"], y=a[\"Value\"])\n",
    "\n",
    "plt.show()\n"
   ]
  },
  {
   "cell_type": "code",
   "execution_count": null,
   "id": "f0ccfdf0",
   "metadata": {
    "scrolled": false
   },
   "outputs": [],
   "source": [
    "sns.boxplot(x=a[\"Year\"],y=a[\"Value\"]);"
   ]
  },
  {
   "cell_type": "code",
   "execution_count": null,
   "id": "3a8bfd78",
   "metadata": {},
   "outputs": [],
   "source": []
  },
  {
   "cell_type": "code",
   "execution_count": null,
   "id": "a8af45a2",
   "metadata": {},
   "outputs": [],
   "source": []
  },
  {
   "cell_type": "code",
   "execution_count": null,
   "id": "18beead1",
   "metadata": {},
   "outputs": [],
   "source": []
  },
  {
   "cell_type": "code",
   "execution_count": null,
   "id": "42bbe137",
   "metadata": {},
   "outputs": [],
   "source": []
  },
  {
   "cell_type": "code",
   "execution_count": null,
   "id": "6f672ee2",
   "metadata": {},
   "outputs": [],
   "source": [
    "\n"
   ]
  },
  {
   "cell_type": "code",
   "execution_count": null,
   "id": "e6ff50ee",
   "metadata": {},
   "outputs": [],
   "source": []
  },
  {
   "cell_type": "code",
   "execution_count": null,
   "id": "21b3f8e3",
   "metadata": {},
   "outputs": [],
   "source": []
  },
  {
   "cell_type": "code",
   "execution_count": null,
   "id": "420bc72f",
   "metadata": {
    "scrolled": false
   },
   "outputs": [],
   "source": [
    "sns.boxplot(x=df[\"Value\"])"
   ]
  },
  {
   "cell_type": "code",
   "execution_count": null,
   "id": "03f908b6",
   "metadata": {},
   "outputs": [],
   "source": []
  },
  {
   "cell_type": "code",
   "execution_count": null,
   "id": "09169632",
   "metadata": {},
   "outputs": [],
   "source": [
    "Q1=b[\"Value\"].quantile(0.25)\n",
    "Q3=b[\"Value\"].quantile(0.75)\n",
    "IQR=Q3-Q1\n",
    "lower_bound = Q1 - 1.5 * IQR\n",
    "upper_bound = Q3 + 1.5 * IQR\n",
    "print(IQR)\n",
    "\n",
    "lower_bound = Q1 - 1.5 * IQR\n",
    "upper_bound = Q3 + 1.5 * IQR\n",
    "\n",
    "outliers = (b[\"Value\"] < lower_bound) | (b[\"Value\"] > upper_bound)\n",
    "outliers_b = b[outliers]\n",
    "\n",
    "outliers_b = b[outliers.any(axis=1)]\n",
    "\n",
    "outliers_b"
   ]
  },
  {
   "cell_type": "code",
   "execution_count": null,
   "id": "9456855c",
   "metadata": {},
   "outputs": [],
   "source": [
    "lower_bound = Q1 - 1.5 * IQR\n",
    "upper_bound = Q3 + 1.5 * IQR"
   ]
  },
  {
   "cell_type": "code",
   "execution_count": null,
   "id": "b59d4860",
   "metadata": {},
   "outputs": [],
   "source": [
    "outliers = (b[\"Value\"] < lower_bound) | (b[\"Value\"] > upper_bound)"
   ]
  },
  {
   "cell_type": "code",
   "execution_count": null,
   "id": "b5edeb5e",
   "metadata": {},
   "outputs": [],
   "source": [
    "outliers_b = b[outliers]"
   ]
  },
  {
   "cell_type": "code",
   "execution_count": null,
   "id": "10751955",
   "metadata": {},
   "outputs": [],
   "source": [
    "outliers = (df['Value'] < lower_bound) | (df['Value'] > upper_bound)\n",
    "outliers_df = df[outliers]\n"
   ]
  },
  {
   "cell_type": "code",
   "execution_count": null,
   "id": "239992e6",
   "metadata": {},
   "outputs": [],
   "source": [
    "outliers_df"
   ]
  },
  {
   "cell_type": "code",
   "execution_count": null,
   "id": "bfdd12cc",
   "metadata": {
    "scrolled": true
   },
   "outputs": [],
   "source": [
    "outliers_b = b[outliers.any(axis=1)]"
   ]
  },
  {
   "cell_type": "code",
   "execution_count": null,
   "id": "602220bf",
   "metadata": {
    "scrolled": false
   },
   "outputs": [],
   "source": [
    "outliers_b"
   ]
  },
  {
   "cell_type": "code",
   "execution_count": null,
   "id": "8b976858",
   "metadata": {},
   "outputs": [],
   "source": [
    "df"
   ]
  },
  {
   "cell_type": "code",
   "execution_count": null,
   "id": "c55a9b11",
   "metadata": {},
   "outputs": [],
   "source": [
    "df.hist(column=\"Value\",bins=20)"
   ]
  },
  {
   "cell_type": "code",
   "execution_count": null,
   "id": "62babd5f",
   "metadata": {},
   "outputs": [],
   "source": [
    "df[\"Age Group\"].unique()"
   ]
  },
  {
   "cell_type": "code",
   "execution_count": null,
   "id": "0c2f0540",
   "metadata": {},
   "outputs": [],
   "source": [
    "Age_Group_Value_Counts=pd.crosstab(index=df[\"Age Group\"],columns=\"Value\")"
   ]
  },
  {
   "cell_type": "code",
   "execution_count": null,
   "id": "a24a1bee",
   "metadata": {},
   "outputs": [],
   "source": [
    "Age_Group_Value_Counts"
   ]
  },
  {
   "cell_type": "code",
   "execution_count": null,
   "id": "244955ff",
   "metadata": {},
   "outputs": [],
   "source": [
    "from numpy import median, mean"
   ]
  },
  {
   "cell_type": "code",
   "execution_count": null,
   "id": "7c802cdc",
   "metadata": {},
   "outputs": [],
   "source": [
    "sns.set(style=\"whitegrid\")"
   ]
  },
  {
   "cell_type": "code",
   "execution_count": null,
   "id": "ff52690e",
   "metadata": {
    "scrolled": false
   },
   "outputs": [],
   "source": [
    "plt.figure(figsize=(12,6))\n",
    "ax = sns.barplot(x=\"Age Group\", y=\"Value\", hue=\"Age Group\", data=df)\n",
    "\n",
    "plt.xticks(rotation=90)\n",
    "plt.legend(loc=\"upper right\",bbox_to_anchor=(1.2,1))"
   ]
  },
  {
   "cell_type": "code",
   "execution_count": null,
   "id": "0bb21858",
   "metadata": {},
   "outputs": [],
   "source": [
    "plt.figure(figsize=(12,6))\n",
    "sns.scatterplot(data=df,x=\"Age Group\",y=\"Value\",hue=\"Sex\");\n",
    "plt.xticks(rotation=90);\n",
    "plt.legend(loc=\"upper right\",bbox_to_anchor=(1.2,1))"
   ]
  },
  {
   "cell_type": "code",
   "execution_count": null,
   "id": "a5f42f94",
   "metadata": {},
   "outputs": [],
   "source": [
    "plt.figure(figsize=(12,6))\n",
    "sns.scatterplot(data=df,x=\"Year\",y=\"Value\",hue=\"Age Group\",palette=\"Spectral\");\n",
    "plt.ylabel(\"Value (Thousand)\")\n",
    "plt.xticks(rotation=90);\n",
    "plt.legend(loc=\"upper right\",bbox_to_anchor=(1.2,1));"
   ]
  },
  {
   "cell_type": "code",
   "execution_count": null,
   "id": "b41e6215",
   "metadata": {
    "scrolled": false
   },
   "outputs": [],
   "source": [
    "import math\n",
    "subset_0_14_years=df[(df[\"Age Group\"]==\"0 - 14 years\")]\n",
    "print(subset_0_14_years,\"\\n\\n\")\n",
    "print(\"Minimum value:\\n\",subset_0_14_years.min(),\"\\n\")\n",
    "print(\"Maximum value:\\n\",subset_0_14_years.max(),\"\\n\")"
   ]
  },
  {
   "cell_type": "code",
   "execution_count": null,
   "id": "49d2e093",
   "metadata": {},
   "outputs": [],
   "source": [
    "#min_value=(subset_0_14_years[\"Value\"].apply(math.ceil).min())-1\n",
    "#max_value=subset_0_14_years[\"Value\"].max()\n",
    "min_value=subset_0_14_years[\"Value\"].apply(lambda x: (math.ceil(x/100)*100)-100).min()\n",
    "max_value=subset_0_14_years[\"Value\"].apply(lambda x: math.ceil(x/100)*100).max()\n",
    "plt.figure(figsize=(12,6))\n",
    "sns.scatterplot(data=subset_0_14_years,x=\"Year\",y=\"Value\",hue=\"Sex\");\n",
    "plt.xticks(rotation=90);\n",
    "plt.ylabel(\"Value (Thousand)\")\n",
    "plt.yticks(np.arange(min_value, max_value, step=30))\n",
    "plt.legend(loc=\"upper right\",bbox_to_anchor=(1.16,1.02));"
   ]
  },
  {
   "cell_type": "code",
   "execution_count": null,
   "id": "9a5bd08c",
   "metadata": {},
   "outputs": [],
   "source": [
    "#min_value=(subset_0_14_years[\"Value\"].apply(math.ceil).min())-1\n",
    "max_value=subset_0_14_years[\"Value\"].max()\n",
    "min_value=subset_0_14_years[\"Value\"].apply(lambda x: (math.ceil(x/100)*100)-100).min()\n",
    "plt.figure(figsize=(12,6))\n",
    "sns.scatterplot(data=subset_0_14_years,x=\"Year\",y=\"Value\",hue=\"Sex\");\n",
    "plt.xticks(rotation=90);\n",
    "plt.ylabel(\"Value (Thousand)\")\n",
    "\n",
    "plt.yticks(np.arange(min_value, max_value, step=30))\n",
    "plt.legend(loc=\"upper right\",bbox_to_anchor=(1.16,1.02));"
   ]
  },
  {
   "cell_type": "code",
   "execution_count": null,
   "id": "5fa70076",
   "metadata": {
    "scrolled": false
   },
   "outputs": [],
   "source": [
    "plt.figure(figsize=(12,6))\n",
    "sns.scatterplot(data=subset_0_14_years,x=\"Year\",y=\"Value\",hue=\"Sex\");\n",
    "plt.xticks(rotation=90);\n",
    "plt.ylabel(\"Value (Thousand)\")\n",
    "plt.legend(loc=\"upper right\",bbox_to_anchor=(1.16,1.02));"
   ]
  },
  {
   "cell_type": "code",
   "execution_count": null,
   "id": "b074ae07",
   "metadata": {
    "scrolled": false
   },
   "outputs": [],
   "source": [
    "fig, ax = plt.subplots(figsize=(12,6))\n",
    "ax.scatter(subset_0_14_years[\"Year\"], subset_0_14_years[\"Value\"])\n",
    "ax.set_title(\"Value By Years\")\n",
    "ax.set_xlabel(\"Year\")\n",
    "ax.set_ylabel(\"Value\")\n",
    "plt.show()"
   ]
  },
  {
   "cell_type": "code",
   "execution_count": null,
   "id": "fc24ca7b",
   "metadata": {},
   "outputs": [],
   "source": [
    "subset_0_4_years=df[(df[\"Age Group\"]==\"0 - 4 years\") & (df[\"Sex\"]==\"Male\")]\n",
    "print(subset_0_4_years.head(),\"\\n\\n\")\n",
    "print(\"Minimum value:\\n\",subset_0_4_years.min(),\"\\n\")\n",
    "print(\"Maximum value:\\n\",subset_0_4_years.max(),\"\\n\")"
   ]
  },
  {
   "cell_type": "code",
   "execution_count": null,
   "id": "cac1ff4f",
   "metadata": {},
   "outputs": [],
   "source": [
    "fig, ax = plt.subplots(figsize=(10,6))\n",
    "ax.scatter(df[\"Age Group\"], df[\"Value\"])\n",
    "ax.set_xlabel(\"Age Group\")\n",
    "plt.xticks(rotation=90)\n",
    "ax.set_ylabel(\"Value\")\n",
    "plt.title(\"Value By Age Group\")\n",
    "plt.show()"
   ]
  },
  {
   "cell_type": "code",
   "execution_count": null,
   "id": "36d5e780",
   "metadata": {},
   "outputs": [],
   "source": [
    "fig, ax = plt.subplots(figsize=(10,6))\n",
    "ax.scatter(df[\"Age Group\"]==\"0 - 14 years\", df[\"Value\"])\n",
    "ax.set_xlabel(\"Age Group\")\n",
    "ax.set_ylabel(\"Value\")\n",
    "plt.show()"
   ]
  },
  {
   "cell_type": "code",
   "execution_count": null,
   "id": "a06b2e9a",
   "metadata": {},
   "outputs": [],
   "source": [
    "\n",
    "# # Kategorik verileri sayısal olarak kodlayalım\n",
    "# df['Age Group Code'] = pd.Categorical(df['Age Group']).codes\n",
    "\n",
    "# # Sütunları x, y ve renk olarak kullanarak scatter plot oluşturun\n",
    "# fig, ax = plt.subplots(figsize=(12, 10))\n",
    "# scatter = ax.scatter(df[\"Year\"], df[\"Value\"], c=df[\"Age Group Code\"], cmap='viridis', marker='o')\n",
    "\n",
    "# # Renk skalasını oluşturun ve eksen etiketlerini ayarlayın\n",
    "# cbar = plt.colorbar(scatter)\n",
    "# cbar.set_label(\"Age Group\")\n",
    "# ax.set_xlabel(\"Year\")\n",
    "# ax.set_ylabel(\"Value\")\n",
    "# plt.show()\n",
    "\n",
    "\n"
   ]
  },
  {
   "cell_type": "code",
   "execution_count": null,
   "id": "7ed41bb6",
   "metadata": {},
   "outputs": [],
   "source": [
    "# df[\"Age Group\"].unique()"
   ]
  },
  {
   "cell_type": "code",
   "execution_count": null,
   "id": "4745c703",
   "metadata": {},
   "outputs": [],
   "source": [
    "# # Belirlediğiniz renk listesi\n",
    "# colors = ['red', 'green', 'blue', 'orange', 'purple']\n",
    "\n",
    "# # Her bir \"Age Group\" kategorisi için \"VALUE\" sütununun ortalamasını hesaplayalım\n",
    "# grouped_data = df.groupby('Age Group')['Value'].mean()\n",
    "\n",
    "# # Çubuk grafik oluşturalım ve belirlediğiniz renkleri kullanalım\n",
    "# fig, ax = plt.subplots(figsize=(10, 6))\n",
    "# grouped_data.plot(kind='bar', ax=ax, color=colors)\n",
    "# ax.set_xlabel(\"Age Group\")\n",
    "# ax.set_ylabel(\"Average Value\")\n",
    "# plt.show()"
   ]
  },
  {
   "cell_type": "code",
   "execution_count": null,
   "id": "a2a5a0c8",
   "metadata": {},
   "outputs": [],
   "source": [
    "# # Kategorik verileri sayısal olarak kodlayalım\n",
    "# age_group_order = [\n",
    "#     'Under 1 year', '0 - 4 years', '0 - 14 years', '1 - 4 years', '5 - 9 years', '10 - 14 years',\n",
    "#     '15 - 19 years', '15 - 24 years', '15 years and over', '20 - 24 years',\n",
    "#     '25 - 29 years', '25 - 44 years', '30 - 34 years', '35 - 39 years', '40 - 44 years',\n",
    "#     '45 - 49 years', '45 - 64 years', '50 - 54 years', '55 - 59 years',\n",
    "#     '60 - 64 years', '65 - 69 years', '65 years and over', '70 - 74 years',\n",
    "#     '75 - 79 years', '80 - 84 years', '85 years and over', 'All ages'\n",
    "# ]\n",
    "\n",
    "# df['Age Group'] = pd.Categorical(df['Age Group'], categories=age_group_order, ordered=True)\n",
    "# df['Age Group Code'] = df['Age Group'].cat.codes\n",
    "\n",
    "# # Sütunları x, y ve renk olarak kullanarak scatter plot oluşturun\n",
    "# fig, ax = plt.subplots(figsize=(12, 10))\n",
    "# scatter = ax.scatter(df[\"Year\"], df[\"Value\"], c=df[\"Age Group Code\"], cmap='viridis', marker='o')\n",
    "\n",
    "# # Renk skalasını oluşturun ve eksen etiketlerini ayarlayın\n",
    "# cbar = plt.colorbar(scatter)\n",
    "# cbar.set_label(\"Age Group\")\n",
    "# ax.set_xlabel(\"Year\")\n",
    "# ax.set_ylabel(\"Value\")\n",
    "# plt.show()"
   ]
  },
  {
   "cell_type": "code",
   "execution_count": null,
   "id": "9a63185b",
   "metadata": {},
   "outputs": [],
   "source": []
  },
  {
   "cell_type": "code",
   "execution_count": null,
   "id": "56d35149",
   "metadata": {},
   "outputs": [],
   "source": []
  },
  {
   "cell_type": "code",
   "execution_count": null,
   "id": "73125c27",
   "metadata": {},
   "outputs": [],
   "source": []
  },
  {
   "cell_type": "code",
   "execution_count": null,
   "id": "6d825b57",
   "metadata": {},
   "outputs": [],
   "source": []
  },
  {
   "cell_type": "code",
   "execution_count": null,
   "id": "53cfcce6",
   "metadata": {},
   "outputs": [],
   "source": []
  },
  {
   "cell_type": "code",
   "execution_count": null,
   "id": "1c806394",
   "metadata": {},
   "outputs": [],
   "source": []
  },
  {
   "cell_type": "code",
   "execution_count": null,
   "id": "07662b99",
   "metadata": {},
   "outputs": [],
   "source": []
  }
 ],
 "metadata": {
  "kernelspec": {
   "display_name": "Python 3 (ipykernel)",
   "language": "python",
   "name": "python3"
  },
  "language_info": {
   "codemirror_mode": {
    "name": "ipython",
    "version": 3
   },
   "file_extension": ".py",
   "mimetype": "text/x-python",
   "name": "python",
   "nbconvert_exporter": "python",
   "pygments_lexer": "ipython3",
   "version": "3.11.4"
  }
 },
 "nbformat": 4,
 "nbformat_minor": 5
}
