{
 "cells": [
  {
   "cell_type": "markdown",
   "id": "47ad3e95",
   "metadata": {},
   "source": [
    "# Population in Ireland"
   ]
  },
  {
   "cell_type": "markdown",
   "id": "b4aadd64",
   "metadata": {},
   "source": [
    "## 1 Data Reading and Cleaning"
   ]
  },
  {
   "cell_type": "markdown",
   "id": "8a42f254",
   "metadata": {},
   "source": [
    "### 1.1 Reading Data"
   ]
  },
  {
   "cell_type": "markdown",
   "id": "2890bf6d",
   "metadata": {},
   "source": [
    "We use some useful libraries for our project.\n",
    "These are:\n",
    "- Pandas: A versatile data manipulation and analysis library. It provides easy-to-use data structures and functions for working with structured data, making it an essential tool for data processing and analysis.\n",
    "- Numpy: A fundamental library for numerical operations in Python. It offers support for arrays, matrices, and various mathematical functions, making it an essential tool for scientific computing and data analysis.\n",
    "- Seaborn: A data visualization library based on Matplotlib. Seaborn provides an interface for creating informative and attractive statistical graphics, which is particularly useful for exploring and understanding complex datasets.\n",
    "- Matplotlib.pyplot: A widely used plotting library for creating static, animated, or interactive visualizations in Python. It is a fundamental tool for data visualization and report generation in a wide range of domains.\n",
    "- %matplotlib inline: This magic command in Jupyter Notebook allows the generated plots or visualizations to be displayed directly within the notebook. It's particularly useful when using libraries like Matplotlib for data visualization."
   ]
  },
  {
   "cell_type": "code",
   "execution_count": 1,
   "id": "0e035e2c",
   "metadata": {},
   "outputs": [],
   "source": [
    "import pandas as pd               # Used for data analysis and processing.\n",
    "import numpy as np                # Used for multi-dimensional arrays and mathematical operations.\n",
    "import seaborn as sns             # Provides a high-level interface for data visualization.\n",
    "import matplotlib.pyplot as plt   # Used for creating plots and graphs.\n",
    "%matplotlib inline\n",
    "sns.set(color_codes=True)"
   ]
  },
  {
   "cell_type": "code",
   "execution_count": 2,
   "id": "c0cfc809",
   "metadata": {},
   "outputs": [],
   "source": [
    "df=pd.read_csv(\"PEA01.20231007T221014.csv\") # we read dataset"
   ]
  },
  {
   "cell_type": "code",
   "execution_count": 3,
   "id": "98effea1",
   "metadata": {
    "scrolled": false
   },
   "outputs": [
    {
     "data": {
      "text/html": [
       "<div>\n",
       "<style scoped>\n",
       "    .dataframe tbody tr th:only-of-type {\n",
       "        vertical-align: middle;\n",
       "    }\n",
       "\n",
       "    .dataframe tbody tr th {\n",
       "        vertical-align: top;\n",
       "    }\n",
       "\n",
       "    .dataframe thead th {\n",
       "        text-align: right;\n",
       "    }\n",
       "</style>\n",
       "<table border=\"1\" class=\"dataframe\">\n",
       "  <thead>\n",
       "    <tr style=\"text-align: right;\">\n",
       "      <th></th>\n",
       "      <th>STATISTIC Label</th>\n",
       "      <th>Year</th>\n",
       "      <th>Age Group</th>\n",
       "      <th>Sex</th>\n",
       "      <th>UNIT</th>\n",
       "      <th>VALUE</th>\n",
       "    </tr>\n",
       "  </thead>\n",
       "  <tbody>\n",
       "    <tr>\n",
       "      <th>0</th>\n",
       "      <td>Population Estimates (Persons in April)</td>\n",
       "      <td>1950</td>\n",
       "      <td>Under 1 year</td>\n",
       "      <td>Both sexes</td>\n",
       "      <td>Thousand</td>\n",
       "      <td>61.1</td>\n",
       "    </tr>\n",
       "    <tr>\n",
       "      <th>1</th>\n",
       "      <td>Population Estimates (Persons in April)</td>\n",
       "      <td>1950</td>\n",
       "      <td>Under 1 year</td>\n",
       "      <td>Male</td>\n",
       "      <td>Thousand</td>\n",
       "      <td>31.4</td>\n",
       "    </tr>\n",
       "    <tr>\n",
       "      <th>2</th>\n",
       "      <td>Population Estimates (Persons in April)</td>\n",
       "      <td>1950</td>\n",
       "      <td>Under 1 year</td>\n",
       "      <td>Female</td>\n",
       "      <td>Thousand</td>\n",
       "      <td>29.7</td>\n",
       "    </tr>\n",
       "    <tr>\n",
       "      <th>3</th>\n",
       "      <td>Population Estimates (Persons in April)</td>\n",
       "      <td>1950</td>\n",
       "      <td>0 - 4 years</td>\n",
       "      <td>Both sexes</td>\n",
       "      <td>Thousand</td>\n",
       "      <td>NaN</td>\n",
       "    </tr>\n",
       "    <tr>\n",
       "      <th>4</th>\n",
       "      <td>Population Estimates (Persons in April)</td>\n",
       "      <td>1950</td>\n",
       "      <td>0 - 4 years</td>\n",
       "      <td>Male</td>\n",
       "      <td>Thousand</td>\n",
       "      <td>NaN</td>\n",
       "    </tr>\n",
       "  </tbody>\n",
       "</table>\n",
       "</div>"
      ],
      "text/plain": [
       "                           STATISTIC Label  Year     Age Group         Sex  \\\n",
       "0  Population Estimates (Persons in April)  1950  Under 1 year  Both sexes   \n",
       "1  Population Estimates (Persons in April)  1950  Under 1 year        Male   \n",
       "2  Population Estimates (Persons in April)  1950  Under 1 year      Female   \n",
       "3  Population Estimates (Persons in April)  1950   0 - 4 years  Both sexes   \n",
       "4  Population Estimates (Persons in April)  1950   0 - 4 years        Male   \n",
       "\n",
       "       UNIT  VALUE  \n",
       "0  Thousand   61.1  \n",
       "1  Thousand   31.4  \n",
       "2  Thousand   29.7  \n",
       "3  Thousand    NaN  \n",
       "4  Thousand    NaN  "
      ]
     },
     "execution_count": 3,
     "metadata": {},
     "output_type": "execute_result"
    }
   ],
   "source": [
    "df.head(5) # We dispplay first 5 rows"
   ]
  },
  {
   "cell_type": "code",
   "execution_count": 4,
   "id": "fc2fdd39",
   "metadata": {},
   "outputs": [
    {
     "data": {
      "text/html": [
       "<div>\n",
       "<style scoped>\n",
       "    .dataframe tbody tr th:only-of-type {\n",
       "        vertical-align: middle;\n",
       "    }\n",
       "\n",
       "    .dataframe tbody tr th {\n",
       "        vertical-align: top;\n",
       "    }\n",
       "\n",
       "    .dataframe thead th {\n",
       "        text-align: right;\n",
       "    }\n",
       "</style>\n",
       "<table border=\"1\" class=\"dataframe\">\n",
       "  <thead>\n",
       "    <tr style=\"text-align: right;\">\n",
       "      <th></th>\n",
       "      <th>STATISTIC Label</th>\n",
       "      <th>Year</th>\n",
       "      <th>Age Group</th>\n",
       "      <th>Sex</th>\n",
       "      <th>UNIT</th>\n",
       "      <th>VALUE</th>\n",
       "    </tr>\n",
       "  </thead>\n",
       "  <tbody>\n",
       "    <tr>\n",
       "      <th>5989</th>\n",
       "      <td>Population Estimates (Persons in April)</td>\n",
       "      <td>2023</td>\n",
       "      <td>85 years and over</td>\n",
       "      <td>Male</td>\n",
       "      <td>Thousand</td>\n",
       "      <td>33.1</td>\n",
       "    </tr>\n",
       "    <tr>\n",
       "      <th>5990</th>\n",
       "      <td>Population Estimates (Persons in April)</td>\n",
       "      <td>2023</td>\n",
       "      <td>85 years and over</td>\n",
       "      <td>Female</td>\n",
       "      <td>Thousand</td>\n",
       "      <td>53.9</td>\n",
       "    </tr>\n",
       "    <tr>\n",
       "      <th>5991</th>\n",
       "      <td>Population Estimates (Persons in April)</td>\n",
       "      <td>2023</td>\n",
       "      <td>All ages</td>\n",
       "      <td>Both sexes</td>\n",
       "      <td>Thousand</td>\n",
       "      <td>5281.6</td>\n",
       "    </tr>\n",
       "    <tr>\n",
       "      <th>5992</th>\n",
       "      <td>Population Estimates (Persons in April)</td>\n",
       "      <td>2023</td>\n",
       "      <td>All ages</td>\n",
       "      <td>Male</td>\n",
       "      <td>Thousand</td>\n",
       "      <td>2606.2</td>\n",
       "    </tr>\n",
       "    <tr>\n",
       "      <th>5993</th>\n",
       "      <td>Population Estimates (Persons in April)</td>\n",
       "      <td>2023</td>\n",
       "      <td>All ages</td>\n",
       "      <td>Female</td>\n",
       "      <td>Thousand</td>\n",
       "      <td>2675.4</td>\n",
       "    </tr>\n",
       "  </tbody>\n",
       "</table>\n",
       "</div>"
      ],
      "text/plain": [
       "                              STATISTIC Label  Year          Age Group  \\\n",
       "5989  Population Estimates (Persons in April)  2023  85 years and over   \n",
       "5990  Population Estimates (Persons in April)  2023  85 years and over   \n",
       "5991  Population Estimates (Persons in April)  2023           All ages   \n",
       "5992  Population Estimates (Persons in April)  2023           All ages   \n",
       "5993  Population Estimates (Persons in April)  2023           All ages   \n",
       "\n",
       "             Sex      UNIT   VALUE  \n",
       "5989        Male  Thousand    33.1  \n",
       "5990      Female  Thousand    53.9  \n",
       "5991  Both sexes  Thousand  5281.6  \n",
       "5992        Male  Thousand  2606.2  \n",
       "5993      Female  Thousand  2675.4  "
      ]
     },
     "execution_count": 4,
     "metadata": {},
     "output_type": "execute_result"
    }
   ],
   "source": [
    "df.tail(5) # We display last 5 rows"
   ]
  },
  {
   "cell_type": "code",
   "execution_count": 5,
   "id": "217d2ec3",
   "metadata": {},
   "outputs": [
    {
     "name": "stdout",
     "output_type": "stream",
     "text": [
      "Total Rows= 5994\n",
      "Total Columns= 6\n"
     ]
    }
   ],
   "source": [
    "total_rows=df.shape[0]\n",
    "total_columns=df.shape[1]\n",
    "print(f\"Total Rows= {total_rows}\")\n",
    "print(f\"Total Columns= {total_columns}\")"
   ]
  },
  {
   "cell_type": "code",
   "execution_count": 6,
   "id": "885996ae",
   "metadata": {
    "scrolled": true
   },
   "outputs": [
    {
     "data": {
      "text/html": [
       "<div>\n",
       "<style scoped>\n",
       "    .dataframe tbody tr th:only-of-type {\n",
       "        vertical-align: middle;\n",
       "    }\n",
       "\n",
       "    .dataframe tbody tr th {\n",
       "        vertical-align: top;\n",
       "    }\n",
       "\n",
       "    .dataframe thead th {\n",
       "        text-align: right;\n",
       "    }\n",
       "</style>\n",
       "<table border=\"1\" class=\"dataframe\">\n",
       "  <thead>\n",
       "    <tr style=\"text-align: right;\">\n",
       "      <th></th>\n",
       "      <th>Year</th>\n",
       "      <th>VALUE</th>\n",
       "    </tr>\n",
       "  </thead>\n",
       "  <tbody>\n",
       "    <tr>\n",
       "      <th>count</th>\n",
       "      <td>5994.000000</td>\n",
       "      <td>5880.000000</td>\n",
       "    </tr>\n",
       "    <tr>\n",
       "      <th>mean</th>\n",
       "      <td>1986.500000</td>\n",
       "      <td>347.001088</td>\n",
       "    </tr>\n",
       "    <tr>\n",
       "      <th>std</th>\n",
       "      <td>21.361791</td>\n",
       "      <td>601.822682</td>\n",
       "    </tr>\n",
       "    <tr>\n",
       "      <th>min</th>\n",
       "      <td>1950.000000</td>\n",
       "      <td>5.500000</td>\n",
       "    </tr>\n",
       "    <tr>\n",
       "      <th>25%</th>\n",
       "      <td>1968.000000</td>\n",
       "      <td>79.475000</td>\n",
       "    </tr>\n",
       "    <tr>\n",
       "      <th>50%</th>\n",
       "      <td>1986.500000</td>\n",
       "      <td>151.700000</td>\n",
       "    </tr>\n",
       "    <tr>\n",
       "      <th>75%</th>\n",
       "      <td>2005.000000</td>\n",
       "      <td>307.725000</td>\n",
       "    </tr>\n",
       "    <tr>\n",
       "      <th>max</th>\n",
       "      <td>2023.000000</td>\n",
       "      <td>5281.600000</td>\n",
       "    </tr>\n",
       "  </tbody>\n",
       "</table>\n",
       "</div>"
      ],
      "text/plain": [
       "              Year        VALUE\n",
       "count  5994.000000  5880.000000\n",
       "mean   1986.500000   347.001088\n",
       "std      21.361791   601.822682\n",
       "min    1950.000000     5.500000\n",
       "25%    1968.000000    79.475000\n",
       "50%    1986.500000   151.700000\n",
       "75%    2005.000000   307.725000\n",
       "max    2023.000000  5281.600000"
      ]
     },
     "execution_count": 6,
     "metadata": {},
     "output_type": "execute_result"
    }
   ],
   "source": [
    "df.describe()"
   ]
  },
  {
   "cell_type": "code",
   "execution_count": 7,
   "id": "6e9ec1e3",
   "metadata": {},
   "outputs": [
    {
     "data": {
      "text/html": [
       "<div>\n",
       "<style scoped>\n",
       "    .dataframe tbody tr th:only-of-type {\n",
       "        vertical-align: middle;\n",
       "    }\n",
       "\n",
       "    .dataframe tbody tr th {\n",
       "        vertical-align: top;\n",
       "    }\n",
       "\n",
       "    .dataframe thead th {\n",
       "        text-align: right;\n",
       "    }\n",
       "</style>\n",
       "<table border=\"1\" class=\"dataframe\">\n",
       "  <thead>\n",
       "    <tr style=\"text-align: right;\">\n",
       "      <th></th>\n",
       "      <th>STATISTIC Label</th>\n",
       "      <th>Age Group</th>\n",
       "      <th>Sex</th>\n",
       "      <th>UNIT</th>\n",
       "    </tr>\n",
       "  </thead>\n",
       "  <tbody>\n",
       "    <tr>\n",
       "      <th>count</th>\n",
       "      <td>5994</td>\n",
       "      <td>5994</td>\n",
       "      <td>5994</td>\n",
       "      <td>5994</td>\n",
       "    </tr>\n",
       "    <tr>\n",
       "      <th>unique</th>\n",
       "      <td>1</td>\n",
       "      <td>27</td>\n",
       "      <td>3</td>\n",
       "      <td>1</td>\n",
       "    </tr>\n",
       "    <tr>\n",
       "      <th>top</th>\n",
       "      <td>Population Estimates (Persons in April)</td>\n",
       "      <td>Under 1 year</td>\n",
       "      <td>Both sexes</td>\n",
       "      <td>Thousand</td>\n",
       "    </tr>\n",
       "    <tr>\n",
       "      <th>freq</th>\n",
       "      <td>5994</td>\n",
       "      <td>222</td>\n",
       "      <td>1998</td>\n",
       "      <td>5994</td>\n",
       "    </tr>\n",
       "  </tbody>\n",
       "</table>\n",
       "</div>"
      ],
      "text/plain": [
       "                                STATISTIC Label     Age Group         Sex  \\\n",
       "count                                      5994          5994        5994   \n",
       "unique                                        1            27           3   \n",
       "top     Population Estimates (Persons in April)  Under 1 year  Both sexes   \n",
       "freq                                       5994           222        1998   \n",
       "\n",
       "            UNIT  \n",
       "count       5994  \n",
       "unique         1  \n",
       "top     Thousand  \n",
       "freq        5994  "
      ]
     },
     "execution_count": 7,
     "metadata": {},
     "output_type": "execute_result"
    }
   ],
   "source": [
    "df.describe(include=\"object\")"
   ]
  },
  {
   "cell_type": "code",
   "execution_count": 8,
   "id": "14872f68",
   "metadata": {},
   "outputs": [
    {
     "data": {
      "text/plain": [
       "STATISTIC Label     object\n",
       "Year                 int64\n",
       "Age Group           object\n",
       "Sex                 object\n",
       "UNIT                object\n",
       "VALUE              float64\n",
       "dtype: object"
      ]
     },
     "execution_count": 8,
     "metadata": {},
     "output_type": "execute_result"
    }
   ],
   "source": [
    "df.dtypes"
   ]
  },
  {
   "cell_type": "code",
   "execution_count": 9,
   "id": "73a2fd2e",
   "metadata": {
    "scrolled": true
   },
   "outputs": [],
   "source": [
    "#df.info()"
   ]
  },
  {
   "cell_type": "code",
   "execution_count": 10,
   "id": "47582c95",
   "metadata": {},
   "outputs": [
    {
     "data": {
      "text/plain": [
       "STATISTIC Label       1\n",
       "Year                 74\n",
       "Age Group            27\n",
       "Sex                   3\n",
       "UNIT                  1\n",
       "VALUE              3387\n",
       "dtype: int64"
      ]
     },
     "execution_count": 10,
     "metadata": {},
     "output_type": "execute_result"
    }
   ],
   "source": [
    "df.nunique()"
   ]
  },
  {
   "cell_type": "code",
   "execution_count": 11,
   "id": "75009e0a",
   "metadata": {
    "scrolled": true
   },
   "outputs": [
    {
     "data": {
      "text/plain": [
       "STATISTIC Label    5994\n",
       "Year               5994\n",
       "Age Group          5994\n",
       "Sex                5994\n",
       "UNIT               5994\n",
       "VALUE              5880\n",
       "dtype: int64"
      ]
     },
     "execution_count": 11,
     "metadata": {},
     "output_type": "execute_result"
    }
   ],
   "source": [
    "df.count()"
   ]
  },
  {
   "cell_type": "code",
   "execution_count": 12,
   "id": "b0023396",
   "metadata": {},
   "outputs": [
    {
     "data": {
      "text/plain": [
       "STATISTIC Label      0\n",
       "Year                 0\n",
       "Age Group            0\n",
       "Sex                  0\n",
       "UNIT                 0\n",
       "VALUE              114\n",
       "dtype: int64"
      ]
     },
     "execution_count": 12,
     "metadata": {},
     "output_type": "execute_result"
    }
   ],
   "source": [
    "df.isnull().sum()"
   ]
  },
  {
   "cell_type": "code",
   "execution_count": 13,
   "id": "90f4c9dd",
   "metadata": {},
   "outputs": [
    {
     "data": {
      "text/plain": [
       "0"
      ]
     },
     "execution_count": 13,
     "metadata": {},
     "output_type": "execute_result"
    }
   ],
   "source": [
    "df.duplicated().sum()"
   ]
  },
  {
   "cell_type": "code",
   "execution_count": 14,
   "id": "389ece95",
   "metadata": {},
   "outputs": [],
   "source": [
    "to_drop=[\"STATISTIC Label\",\"UNIT\"] \n",
    "df.drop(columns=to_drop,inplace=True)"
   ]
  },
  {
   "cell_type": "code",
   "execution_count": 15,
   "id": "d1f372f0",
   "metadata": {},
   "outputs": [],
   "source": [
    "df=df.rename(columns={\"VALUE\":\"Value\"})"
   ]
  },
  {
   "cell_type": "code",
   "execution_count": 16,
   "id": "2b71cccc",
   "metadata": {},
   "outputs": [
    {
     "data": {
      "text/html": [
       "<div>\n",
       "<style scoped>\n",
       "    .dataframe tbody tr th:only-of-type {\n",
       "        vertical-align: middle;\n",
       "    }\n",
       "\n",
       "    .dataframe tbody tr th {\n",
       "        vertical-align: top;\n",
       "    }\n",
       "\n",
       "    .dataframe thead th {\n",
       "        text-align: right;\n",
       "    }\n",
       "</style>\n",
       "<table border=\"1\" class=\"dataframe\">\n",
       "  <thead>\n",
       "    <tr style=\"text-align: right;\">\n",
       "      <th></th>\n",
       "      <th>Year</th>\n",
       "      <th>Age Group</th>\n",
       "      <th>Sex</th>\n",
       "      <th>Value</th>\n",
       "    </tr>\n",
       "  </thead>\n",
       "  <tbody>\n",
       "    <tr>\n",
       "      <th>3</th>\n",
       "      <td>1950</td>\n",
       "      <td>0 - 4 years</td>\n",
       "      <td>Both sexes</td>\n",
       "      <td>NaN</td>\n",
       "    </tr>\n",
       "    <tr>\n",
       "      <th>4</th>\n",
       "      <td>1950</td>\n",
       "      <td>0 - 4 years</td>\n",
       "      <td>Male</td>\n",
       "      <td>NaN</td>\n",
       "    </tr>\n",
       "    <tr>\n",
       "      <th>5</th>\n",
       "      <td>1950</td>\n",
       "      <td>0 - 4 years</td>\n",
       "      <td>Female</td>\n",
       "      <td>NaN</td>\n",
       "    </tr>\n",
       "    <tr>\n",
       "      <th>165</th>\n",
       "      <td>1952</td>\n",
       "      <td>0 - 4 years</td>\n",
       "      <td>Both sexes</td>\n",
       "      <td>NaN</td>\n",
       "    </tr>\n",
       "    <tr>\n",
       "      <th>166</th>\n",
       "      <td>1952</td>\n",
       "      <td>0 - 4 years</td>\n",
       "      <td>Male</td>\n",
       "      <td>NaN</td>\n",
       "    </tr>\n",
       "    <tr>\n",
       "      <th>...</th>\n",
       "      <td>...</td>\n",
       "      <td>...</td>\n",
       "      <td>...</td>\n",
       "      <td>...</td>\n",
       "    </tr>\n",
       "    <tr>\n",
       "      <th>3568</th>\n",
       "      <td>1994</td>\n",
       "      <td>0 - 4 years</td>\n",
       "      <td>Male</td>\n",
       "      <td>NaN</td>\n",
       "    </tr>\n",
       "    <tr>\n",
       "      <th>3569</th>\n",
       "      <td>1994</td>\n",
       "      <td>0 - 4 years</td>\n",
       "      <td>Female</td>\n",
       "      <td>NaN</td>\n",
       "    </tr>\n",
       "    <tr>\n",
       "      <th>3648</th>\n",
       "      <td>1995</td>\n",
       "      <td>0 - 4 years</td>\n",
       "      <td>Both sexes</td>\n",
       "      <td>NaN</td>\n",
       "    </tr>\n",
       "    <tr>\n",
       "      <th>3649</th>\n",
       "      <td>1995</td>\n",
       "      <td>0 - 4 years</td>\n",
       "      <td>Male</td>\n",
       "      <td>NaN</td>\n",
       "    </tr>\n",
       "    <tr>\n",
       "      <th>3650</th>\n",
       "      <td>1995</td>\n",
       "      <td>0 - 4 years</td>\n",
       "      <td>Female</td>\n",
       "      <td>NaN</td>\n",
       "    </tr>\n",
       "  </tbody>\n",
       "</table>\n",
       "<p>114 rows × 4 columns</p>\n",
       "</div>"
      ],
      "text/plain": [
       "      Year    Age Group         Sex  Value\n",
       "3     1950  0 - 4 years  Both sexes    NaN\n",
       "4     1950  0 - 4 years        Male    NaN\n",
       "5     1950  0 - 4 years      Female    NaN\n",
       "165   1952  0 - 4 years  Both sexes    NaN\n",
       "166   1952  0 - 4 years        Male    NaN\n",
       "...    ...          ...         ...    ...\n",
       "3568  1994  0 - 4 years        Male    NaN\n",
       "3569  1994  0 - 4 years      Female    NaN\n",
       "3648  1995  0 - 4 years  Both sexes    NaN\n",
       "3649  1995  0 - 4 years        Male    NaN\n",
       "3650  1995  0 - 4 years      Female    NaN\n",
       "\n",
       "[114 rows x 4 columns]"
      ]
     },
     "execution_count": 16,
     "metadata": {},
     "output_type": "execute_result"
    }
   ],
   "source": [
    "missing_df=df[df.isna().any(axis=1)] #missing data rows\n",
    "missing_df"
   ]
  },
  {
   "cell_type": "code",
   "execution_count": 17,
   "id": "789146ba",
   "metadata": {
    "scrolled": false
   },
   "outputs": [
    {
     "data": {
      "text/html": [
       "<div>\n",
       "<style scoped>\n",
       "    .dataframe tbody tr th:only-of-type {\n",
       "        vertical-align: middle;\n",
       "    }\n",
       "\n",
       "    .dataframe tbody tr th {\n",
       "        vertical-align: top;\n",
       "    }\n",
       "\n",
       "    .dataframe thead th {\n",
       "        text-align: right;\n",
       "    }\n",
       "</style>\n",
       "<table border=\"1\" class=\"dataframe\">\n",
       "  <thead>\n",
       "    <tr style=\"text-align: right;\">\n",
       "      <th></th>\n",
       "      <th>Year</th>\n",
       "      <th>Age Group</th>\n",
       "      <th>Sex</th>\n",
       "      <th>Value</th>\n",
       "    </tr>\n",
       "  </thead>\n",
       "  <tbody>\n",
       "    <tr>\n",
       "      <th>3</th>\n",
       "      <td>1950</td>\n",
       "      <td>0 - 4 years</td>\n",
       "      <td>Both sexes</td>\n",
       "      <td>NaN</td>\n",
       "    </tr>\n",
       "    <tr>\n",
       "      <th>4</th>\n",
       "      <td>1950</td>\n",
       "      <td>0 - 4 years</td>\n",
       "      <td>Male</td>\n",
       "      <td>NaN</td>\n",
       "    </tr>\n",
       "    <tr>\n",
       "      <th>5</th>\n",
       "      <td>1950</td>\n",
       "      <td>0 - 4 years</td>\n",
       "      <td>Female</td>\n",
       "      <td>NaN</td>\n",
       "    </tr>\n",
       "    <tr>\n",
       "      <th>84</th>\n",
       "      <td>1951</td>\n",
       "      <td>0 - 4 years</td>\n",
       "      <td>Both sexes</td>\n",
       "      <td>312.9</td>\n",
       "    </tr>\n",
       "    <tr>\n",
       "      <th>85</th>\n",
       "      <td>1951</td>\n",
       "      <td>0 - 4 years</td>\n",
       "      <td>Male</td>\n",
       "      <td>160.0</td>\n",
       "    </tr>\n",
       "    <tr>\n",
       "      <th>...</th>\n",
       "      <td>...</td>\n",
       "      <td>...</td>\n",
       "      <td>...</td>\n",
       "      <td>...</td>\n",
       "    </tr>\n",
       "    <tr>\n",
       "      <th>5836</th>\n",
       "      <td>2022</td>\n",
       "      <td>0 - 4 years</td>\n",
       "      <td>Male</td>\n",
       "      <td>151.6</td>\n",
       "    </tr>\n",
       "    <tr>\n",
       "      <th>5837</th>\n",
       "      <td>2022</td>\n",
       "      <td>0 - 4 years</td>\n",
       "      <td>Female</td>\n",
       "      <td>144.2</td>\n",
       "    </tr>\n",
       "    <tr>\n",
       "      <th>5916</th>\n",
       "      <td>2023</td>\n",
       "      <td>0 - 4 years</td>\n",
       "      <td>Both sexes</td>\n",
       "      <td>293.8</td>\n",
       "    </tr>\n",
       "    <tr>\n",
       "      <th>5917</th>\n",
       "      <td>2023</td>\n",
       "      <td>0 - 4 years</td>\n",
       "      <td>Male</td>\n",
       "      <td>149.2</td>\n",
       "    </tr>\n",
       "    <tr>\n",
       "      <th>5918</th>\n",
       "      <td>2023</td>\n",
       "      <td>0 - 4 years</td>\n",
       "      <td>Female</td>\n",
       "      <td>144.6</td>\n",
       "    </tr>\n",
       "  </tbody>\n",
       "</table>\n",
       "<p>222 rows × 4 columns</p>\n",
       "</div>"
      ],
      "text/plain": [
       "      Year    Age Group         Sex  Value\n",
       "3     1950  0 - 4 years  Both sexes    NaN\n",
       "4     1950  0 - 4 years        Male    NaN\n",
       "5     1950  0 - 4 years      Female    NaN\n",
       "84    1951  0 - 4 years  Both sexes  312.9\n",
       "85    1951  0 - 4 years        Male  160.0\n",
       "...    ...          ...         ...    ...\n",
       "5836  2022  0 - 4 years        Male  151.6\n",
       "5837  2022  0 - 4 years      Female  144.2\n",
       "5916  2023  0 - 4 years  Both sexes  293.8\n",
       "5917  2023  0 - 4 years        Male  149.2\n",
       "5918  2023  0 - 4 years      Female  144.6\n",
       "\n",
       "[222 rows x 4 columns]"
      ]
     },
     "execution_count": 17,
     "metadata": {},
     "output_type": "execute_result"
    }
   ],
   "source": [
    "all_0_4=df[(df[\"Age Group\"]==\"0 - 4 years\")]\n",
    "all_0_4"
   ]
  },
  {
   "cell_type": "code",
   "execution_count": 18,
   "id": "07d47cc4",
   "metadata": {},
   "outputs": [
    {
     "name": "stdout",
     "output_type": "stream",
     "text": [
      "   Year     Age Group         Sex  Value\n",
      "0  1950  Under 1 year  Both sexes   61.1\n",
      "1  1950  Under 1 year        Male   31.4\n",
      "2  1950  Under 1 year      Female   29.7\n",
      "3  1950   0 - 4 years  Both sexes  310.2\n",
      "4  1950   0 - 4 years        Male  158.9\n",
      "      Year          Age Group         Sex   Value\n",
      "5989  2023  85 years and over        Male    33.1\n",
      "5990  2023  85 years and over      Female    53.9\n",
      "5991  2023           All ages  Both sexes  5281.6\n",
      "5992  2023           All ages        Male  2606.2\n",
      "5993  2023           All ages      Female  2675.4\n"
     ]
    }
   ],
   "source": [
    "# We fill the missing data in the \"0 - 4 years\" age group with the sum of \"Under 1 year\" and \"1 - 4 years\" age groups.\n",
    "\n",
    "for year in df['Year'].unique():\n",
    "    for sex in df['Sex'].unique():\n",
    "        total_value = df[(df['Year'] == year) & (df['Sex'] == sex) & \n",
    "                         (df['Age Group'].isin(['Under 1 year', '1 - 4 years']))]['Value'].sum()\n",
    "        missing_value = (df['Year'] == year) & (df['Sex'] == sex) & (df['Age Group'] == '0 - 4 years')\n",
    "        df.loc[missing_value, 'Value'] = total_value\n",
    "\n",
    "# After filling in the missing data, we view the first and last 5 values of the data frame.\n",
    "print(df.head(5))\n",
    "print(df.tail(5))"
   ]
  },
  {
   "cell_type": "code",
   "execution_count": 19,
   "id": "7bffe71a",
   "metadata": {},
   "outputs": [
    {
     "data": {
      "text/html": [
       "<div>\n",
       "<style scoped>\n",
       "    .dataframe tbody tr th:only-of-type {\n",
       "        vertical-align: middle;\n",
       "    }\n",
       "\n",
       "    .dataframe tbody tr th {\n",
       "        vertical-align: top;\n",
       "    }\n",
       "\n",
       "    .dataframe thead th {\n",
       "        text-align: right;\n",
       "    }\n",
       "</style>\n",
       "<table border=\"1\" class=\"dataframe\">\n",
       "  <thead>\n",
       "    <tr style=\"text-align: right;\">\n",
       "      <th></th>\n",
       "      <th>Year</th>\n",
       "      <th>Age Group</th>\n",
       "      <th>Sex</th>\n",
       "      <th>Value</th>\n",
       "    </tr>\n",
       "  </thead>\n",
       "  <tbody>\n",
       "    <tr>\n",
       "      <th>3</th>\n",
       "      <td>1950</td>\n",
       "      <td>0 - 4 years</td>\n",
       "      <td>Both sexes</td>\n",
       "      <td>310.2</td>\n",
       "    </tr>\n",
       "    <tr>\n",
       "      <th>4</th>\n",
       "      <td>1950</td>\n",
       "      <td>0 - 4 years</td>\n",
       "      <td>Male</td>\n",
       "      <td>158.9</td>\n",
       "    </tr>\n",
       "    <tr>\n",
       "      <th>5</th>\n",
       "      <td>1950</td>\n",
       "      <td>0 - 4 years</td>\n",
       "      <td>Female</td>\n",
       "      <td>151.3</td>\n",
       "    </tr>\n",
       "    <tr>\n",
       "      <th>84</th>\n",
       "      <td>1951</td>\n",
       "      <td>0 - 4 years</td>\n",
       "      <td>Both sexes</td>\n",
       "      <td>312.9</td>\n",
       "    </tr>\n",
       "    <tr>\n",
       "      <th>85</th>\n",
       "      <td>1951</td>\n",
       "      <td>0 - 4 years</td>\n",
       "      <td>Male</td>\n",
       "      <td>160.2</td>\n",
       "    </tr>\n",
       "    <tr>\n",
       "      <th>...</th>\n",
       "      <td>...</td>\n",
       "      <td>...</td>\n",
       "      <td>...</td>\n",
       "      <td>...</td>\n",
       "    </tr>\n",
       "    <tr>\n",
       "      <th>5836</th>\n",
       "      <td>2022</td>\n",
       "      <td>0 - 4 years</td>\n",
       "      <td>Male</td>\n",
       "      <td>151.5</td>\n",
       "    </tr>\n",
       "    <tr>\n",
       "      <th>5837</th>\n",
       "      <td>2022</td>\n",
       "      <td>0 - 4 years</td>\n",
       "      <td>Female</td>\n",
       "      <td>144.2</td>\n",
       "    </tr>\n",
       "    <tr>\n",
       "      <th>5916</th>\n",
       "      <td>2023</td>\n",
       "      <td>0 - 4 years</td>\n",
       "      <td>Both sexes</td>\n",
       "      <td>293.8</td>\n",
       "    </tr>\n",
       "    <tr>\n",
       "      <th>5917</th>\n",
       "      <td>2023</td>\n",
       "      <td>0 - 4 years</td>\n",
       "      <td>Male</td>\n",
       "      <td>149.2</td>\n",
       "    </tr>\n",
       "    <tr>\n",
       "      <th>5918</th>\n",
       "      <td>2023</td>\n",
       "      <td>0 - 4 years</td>\n",
       "      <td>Female</td>\n",
       "      <td>144.6</td>\n",
       "    </tr>\n",
       "  </tbody>\n",
       "</table>\n",
       "<p>222 rows × 4 columns</p>\n",
       "</div>"
      ],
      "text/plain": [
       "      Year    Age Group         Sex  Value\n",
       "3     1950  0 - 4 years  Both sexes  310.2\n",
       "4     1950  0 - 4 years        Male  158.9\n",
       "5     1950  0 - 4 years      Female  151.3\n",
       "84    1951  0 - 4 years  Both sexes  312.9\n",
       "85    1951  0 - 4 years        Male  160.2\n",
       "...    ...          ...         ...    ...\n",
       "5836  2022  0 - 4 years        Male  151.5\n",
       "5837  2022  0 - 4 years      Female  144.2\n",
       "5916  2023  0 - 4 years  Both sexes  293.8\n",
       "5917  2023  0 - 4 years        Male  149.2\n",
       "5918  2023  0 - 4 years      Female  144.6\n",
       "\n",
       "[222 rows x 4 columns]"
      ]
     },
     "execution_count": 19,
     "metadata": {},
     "output_type": "execute_result"
    }
   ],
   "source": [
    "all_0_4=df[(df[\"Age Group\"]==\"0 - 4 years\")]\n",
    "all_0_4[:]"
   ]
  },
  {
   "cell_type": "code",
   "execution_count": 21,
   "id": "0896eff3",
   "metadata": {},
   "outputs": [
    {
     "name": "stdout",
     "output_type": "stream",
     "text": [
      "In 1965, the result for the age group 0 - 4 years, and the gender Both sexes is: 313.4\n"
     ]
    }
   ],
   "source": [
    "year = 1965\n",
    "age_range = \"0 - 4 years\"\n",
    "sex = \"Both sexes\"\n",
    "\n",
    "# We print the result for a specific year, age range, and gender.\n",
    "result = df[(df['Year'] == year) & (df['Age Group'] == age_range) & (df['Sex'] == sex)]['Value'].values[0]\n",
    "print(f\"In {year}, the result for the age group {age_range}, and the gender {sex} is: {result}\")"
   ]
  },
  {
   "cell_type": "code",
   "execution_count": 23,
   "id": "02f9058a",
   "metadata": {},
   "outputs": [
    {
     "name": "stdout",
     "output_type": "stream",
     "text": [
      "In 1965, the result for the age group 1 - 4 years, and the gender Both sexes is: 251.0\n"
     ]
    }
   ],
   "source": [
    "year = 1965\n",
    "age_range = \"1 - 4 years\"\n",
    "sex = \"Both sexes\"\n",
    "\n",
    "# We print the result for a specific year, age range, and gender.\n",
    "result = df[(df['Year'] == year) & (df['Age Group'] == age_range) & (df['Sex'] == sex)]['Value'].values[0]\n",
    "print(f\"In {year}, the result for the age group {age_range}, and the gender {sex} is: {result}\")"
   ]
  },
  {
   "cell_type": "code",
   "execution_count": 25,
   "id": "c059bb97",
   "metadata": {},
   "outputs": [
    {
     "name": "stdout",
     "output_type": "stream",
     "text": [
      "In 1965, the result for the age group Under 1 year, and the gender Both sexes is: 62.4\n"
     ]
    }
   ],
   "source": [
    "year = 1965\n",
    "age_range = \"Under 1 year\"\n",
    "sex = \"Both sexes\"\n",
    "\n",
    "# We print the result for a specific year, age range, and gender.\n",
    "result = df[(df['Year'] == year) & (df['Age Group'] == age_range) & (df['Sex'] == sex)]['Value'].values[0]\n",
    "print(f\"In {year}, the result for the age group {age_range}, and the gender {sex} is: {result}\")"
   ]
  },
  {
   "cell_type": "code",
   "execution_count": 26,
   "id": "331103d3",
   "metadata": {},
   "outputs": [
    {
     "data": {
      "text/plain": [
       "62.4"
      ]
     },
     "execution_count": 26,
     "metadata": {},
     "output_type": "execute_result"
    }
   ],
   "source": [
    "toplam_yas = df[(df['Year'] == 1965) & (df['Sex'] == \"Both sexes\") & (df['Age Group'].isin(['Under 1 year', '1 - 4']))]['Value'].sum()\n",
    "toplam_yas"
   ]
  },
  {
   "cell_type": "code",
   "execution_count": 27,
   "id": "dfab9a68",
   "metadata": {},
   "outputs": [
    {
     "data": {
      "text/html": [
       "<div>\n",
       "<style scoped>\n",
       "    .dataframe tbody tr th:only-of-type {\n",
       "        vertical-align: middle;\n",
       "    }\n",
       "\n",
       "    .dataframe tbody tr th {\n",
       "        vertical-align: top;\n",
       "    }\n",
       "\n",
       "    .dataframe thead th {\n",
       "        text-align: right;\n",
       "    }\n",
       "</style>\n",
       "<table border=\"1\" class=\"dataframe\">\n",
       "  <thead>\n",
       "    <tr style=\"text-align: right;\">\n",
       "      <th></th>\n",
       "      <th>Year</th>\n",
       "      <th>Age Group</th>\n",
       "      <th>Sex</th>\n",
       "      <th>Value</th>\n",
       "    </tr>\n",
       "  </thead>\n",
       "  <tbody>\n",
       "    <tr>\n",
       "      <th>9</th>\n",
       "      <td>1950</td>\n",
       "      <td>1 - 4 years</td>\n",
       "      <td>Both sexes</td>\n",
       "      <td>249.1</td>\n",
       "    </tr>\n",
       "    <tr>\n",
       "      <th>10</th>\n",
       "      <td>1950</td>\n",
       "      <td>1 - 4 years</td>\n",
       "      <td>Male</td>\n",
       "      <td>127.5</td>\n",
       "    </tr>\n",
       "    <tr>\n",
       "      <th>11</th>\n",
       "      <td>1950</td>\n",
       "      <td>1 - 4 years</td>\n",
       "      <td>Female</td>\n",
       "      <td>121.6</td>\n",
       "    </tr>\n",
       "  </tbody>\n",
       "</table>\n",
       "</div>"
      ],
      "text/plain": [
       "    Year    Age Group         Sex  Value\n",
       "9   1950  1 - 4 years  Both sexes  249.1\n",
       "10  1950  1 - 4 years        Male  127.5\n",
       "11  1950  1 - 4 years      Female  121.6"
      ]
     },
     "execution_count": 27,
     "metadata": {},
     "output_type": "execute_result"
    }
   ],
   "source": [
    "df[(df['Year'] == 1950) & (df['Age Group'] == '1 - 4 years')]"
   ]
  },
  {
   "cell_type": "code",
   "execution_count": 28,
   "id": "01a1ee03",
   "metadata": {},
   "outputs": [
    {
     "data": {
      "text/html": [
       "<div>\n",
       "<style scoped>\n",
       "    .dataframe tbody tr th:only-of-type {\n",
       "        vertical-align: middle;\n",
       "    }\n",
       "\n",
       "    .dataframe tbody tr th {\n",
       "        vertical-align: top;\n",
       "    }\n",
       "\n",
       "    .dataframe thead th {\n",
       "        text-align: right;\n",
       "    }\n",
       "</style>\n",
       "<table border=\"1\" class=\"dataframe\">\n",
       "  <thead>\n",
       "    <tr style=\"text-align: right;\">\n",
       "      <th></th>\n",
       "      <th>Year</th>\n",
       "      <th>Age Group</th>\n",
       "      <th>Sex</th>\n",
       "      <th>Value</th>\n",
       "    </tr>\n",
       "  </thead>\n",
       "  <tbody>\n",
       "    <tr>\n",
       "      <th>1215</th>\n",
       "      <td>1965</td>\n",
       "      <td>Under 1 year</td>\n",
       "      <td>Both sexes</td>\n",
       "      <td>62.4</td>\n",
       "    </tr>\n",
       "    <tr>\n",
       "      <th>1216</th>\n",
       "      <td>1965</td>\n",
       "      <td>Under 1 year</td>\n",
       "      <td>Male</td>\n",
       "      <td>31.8</td>\n",
       "    </tr>\n",
       "    <tr>\n",
       "      <th>1217</th>\n",
       "      <td>1965</td>\n",
       "      <td>Under 1 year</td>\n",
       "      <td>Female</td>\n",
       "      <td>30.6</td>\n",
       "    </tr>\n",
       "  </tbody>\n",
       "</table>\n",
       "</div>"
      ],
      "text/plain": [
       "      Year     Age Group         Sex  Value\n",
       "1215  1965  Under 1 year  Both sexes   62.4\n",
       "1216  1965  Under 1 year        Male   31.8\n",
       "1217  1965  Under 1 year      Female   30.6"
      ]
     },
     "execution_count": 28,
     "metadata": {},
     "output_type": "execute_result"
    }
   ],
   "source": [
    "df[(df['Year'] == 1965) & (df['Age Group'] == 'Under 1 year')]"
   ]
  },
  {
   "cell_type": "code",
   "execution_count": 29,
   "id": "586b322e",
   "metadata": {
    "scrolled": true
   },
   "outputs": [
    {
     "data": {
      "text/plain": [
       "array([1950, 1951, 1952, 1953, 1954, 1955, 1956, 1957, 1958, 1959, 1960,\n",
       "       1961, 1962, 1963, 1964, 1965, 1966, 1967, 1968, 1969, 1970, 1971,\n",
       "       1972, 1973, 1974, 1975, 1976, 1977, 1978, 1979, 1980, 1981, 1982,\n",
       "       1983, 1984, 1985, 1986, 1987, 1988, 1989, 1990, 1991, 1992, 1993,\n",
       "       1994, 1995, 1996, 1997, 1998, 1999, 2000, 2001, 2002, 2003, 2004,\n",
       "       2005, 2006, 2007, 2008, 2009, 2010, 2011, 2012, 2013, 2014, 2015,\n",
       "       2016, 2017, 2018, 2019, 2020, 2021, 2022, 2023], dtype=int64)"
      ]
     },
     "execution_count": 29,
     "metadata": {},
     "output_type": "execute_result"
    }
   ],
   "source": [
    "df['Year'].unique()"
   ]
  },
  {
   "cell_type": "code",
   "execution_count": 30,
   "id": "89072e8c",
   "metadata": {},
   "outputs": [
    {
     "data": {
      "text/plain": [
       "array(['Both sexes', 'Male', 'Female'], dtype=object)"
      ]
     },
     "execution_count": 30,
     "metadata": {},
     "output_type": "execute_result"
    }
   ],
   "source": [
    "df['Sex'].unique()"
   ]
  },
  {
   "cell_type": "code",
   "execution_count": 31,
   "id": "df89606c",
   "metadata": {},
   "outputs": [
    {
     "data": {
      "text/plain": [
       "array(['Under 1 year', '0 - 4 years', '0 - 14 years', '1 - 4 years',\n",
       "       '5 - 9 years', '10 - 14 years', '15 - 19 years', '15 - 24 years',\n",
       "       '15 years and over', '20 - 24 years', '25 - 29 years',\n",
       "       '25 - 44 years', '30 - 34 years', '35 - 39 years', '40 - 44 years',\n",
       "       '45 - 49 years', '45 - 64 years', '50 - 54 years', '55 - 59 years',\n",
       "       '60 - 64 years', '65 - 69 years', '65 years and over',\n",
       "       '70 - 74 years', '75 - 79 years', '80 - 84 years',\n",
       "       '85 years and over', 'All ages'], dtype=object)"
      ]
     },
     "execution_count": 31,
     "metadata": {},
     "output_type": "execute_result"
    }
   ],
   "source": [
    "df['Age Group'].unique()"
   ]
  },
  {
   "cell_type": "code",
   "execution_count": 32,
   "id": "5cb3e100",
   "metadata": {
    "scrolled": false
   },
   "outputs": [
    {
     "data": {
      "text/html": [
       "<div>\n",
       "<style scoped>\n",
       "    .dataframe tbody tr th:only-of-type {\n",
       "        vertical-align: middle;\n",
       "    }\n",
       "\n",
       "    .dataframe tbody tr th {\n",
       "        vertical-align: top;\n",
       "    }\n",
       "\n",
       "    .dataframe thead th {\n",
       "        text-align: right;\n",
       "    }\n",
       "</style>\n",
       "<table border=\"1\" class=\"dataframe\">\n",
       "  <thead>\n",
       "    <tr style=\"text-align: right;\">\n",
       "      <th></th>\n",
       "      <th>Year</th>\n",
       "      <th>Age Group</th>\n",
       "      <th>Sex</th>\n",
       "      <th>Value</th>\n",
       "    </tr>\n",
       "  </thead>\n",
       "  <tbody>\n",
       "    <tr>\n",
       "      <th>0</th>\n",
       "      <td>1950</td>\n",
       "      <td>Under 1 year</td>\n",
       "      <td>Both sexes</td>\n",
       "      <td>61.1</td>\n",
       "    </tr>\n",
       "    <tr>\n",
       "      <th>1</th>\n",
       "      <td>1950</td>\n",
       "      <td>Under 1 year</td>\n",
       "      <td>Male</td>\n",
       "      <td>31.4</td>\n",
       "    </tr>\n",
       "    <tr>\n",
       "      <th>2</th>\n",
       "      <td>1950</td>\n",
       "      <td>Under 1 year</td>\n",
       "      <td>Female</td>\n",
       "      <td>29.7</td>\n",
       "    </tr>\n",
       "    <tr>\n",
       "      <th>3</th>\n",
       "      <td>1950</td>\n",
       "      <td>0 - 4 years</td>\n",
       "      <td>Both sexes</td>\n",
       "      <td>310.2</td>\n",
       "    </tr>\n",
       "    <tr>\n",
       "      <th>4</th>\n",
       "      <td>1950</td>\n",
       "      <td>0 - 4 years</td>\n",
       "      <td>Male</td>\n",
       "      <td>158.9</td>\n",
       "    </tr>\n",
       "    <tr>\n",
       "      <th>5</th>\n",
       "      <td>1950</td>\n",
       "      <td>0 - 4 years</td>\n",
       "      <td>Female</td>\n",
       "      <td>151.3</td>\n",
       "    </tr>\n",
       "    <tr>\n",
       "      <th>6</th>\n",
       "      <td>1950</td>\n",
       "      <td>0 - 14 years</td>\n",
       "      <td>Both sexes</td>\n",
       "      <td>851.2</td>\n",
       "    </tr>\n",
       "    <tr>\n",
       "      <th>7</th>\n",
       "      <td>1950</td>\n",
       "      <td>0 - 14 years</td>\n",
       "      <td>Male</td>\n",
       "      <td>434.6</td>\n",
       "    </tr>\n",
       "    <tr>\n",
       "      <th>8</th>\n",
       "      <td>1950</td>\n",
       "      <td>0 - 14 years</td>\n",
       "      <td>Female</td>\n",
       "      <td>416.6</td>\n",
       "    </tr>\n",
       "    <tr>\n",
       "      <th>9</th>\n",
       "      <td>1950</td>\n",
       "      <td>1 - 4 years</td>\n",
       "      <td>Both sexes</td>\n",
       "      <td>249.1</td>\n",
       "    </tr>\n",
       "  </tbody>\n",
       "</table>\n",
       "</div>"
      ],
      "text/plain": [
       "   Year     Age Group         Sex  Value\n",
       "0  1950  Under 1 year  Both sexes   61.1\n",
       "1  1950  Under 1 year        Male   31.4\n",
       "2  1950  Under 1 year      Female   29.7\n",
       "3  1950   0 - 4 years  Both sexes  310.2\n",
       "4  1950   0 - 4 years        Male  158.9\n",
       "5  1950   0 - 4 years      Female  151.3\n",
       "6  1950  0 - 14 years  Both sexes  851.2\n",
       "7  1950  0 - 14 years        Male  434.6\n",
       "8  1950  0 - 14 years      Female  416.6\n",
       "9  1950   1 - 4 years  Both sexes  249.1"
      ]
     },
     "execution_count": 32,
     "metadata": {},
     "output_type": "execute_result"
    }
   ],
   "source": [
    "df.head(10)"
   ]
  },
  {
   "cell_type": "code",
   "execution_count": 35,
   "id": "6abf375b",
   "metadata": {},
   "outputs": [
    {
     "data": {
      "text/html": [
       "<div>\n",
       "<style scoped>\n",
       "    .dataframe tbody tr th:only-of-type {\n",
       "        vertical-align: middle;\n",
       "    }\n",
       "\n",
       "    .dataframe tbody tr th {\n",
       "        vertical-align: top;\n",
       "    }\n",
       "\n",
       "    .dataframe thead th {\n",
       "        text-align: right;\n",
       "    }\n",
       "</style>\n",
       "<table border=\"1\" class=\"dataframe\">\n",
       "  <thead>\n",
       "    <tr style=\"text-align: right;\">\n",
       "      <th></th>\n",
       "      <th>Year</th>\n",
       "      <th>Age Group</th>\n",
       "      <th>Sex</th>\n",
       "      <th>Value</th>\n",
       "    </tr>\n",
       "  </thead>\n",
       "  <tbody>\n",
       "    <tr>\n",
       "      <th>0</th>\n",
       "      <td>1950</td>\n",
       "      <td>Under 1 year</td>\n",
       "      <td>Both sexes</td>\n",
       "      <td>61.1</td>\n",
       "    </tr>\n",
       "    <tr>\n",
       "      <th>81</th>\n",
       "      <td>1951</td>\n",
       "      <td>Under 1 year</td>\n",
       "      <td>Both sexes</td>\n",
       "      <td>63.6</td>\n",
       "    </tr>\n",
       "    <tr>\n",
       "      <th>162</th>\n",
       "      <td>1952</td>\n",
       "      <td>Under 1 year</td>\n",
       "      <td>Both sexes</td>\n",
       "      <td>61.9</td>\n",
       "    </tr>\n",
       "    <tr>\n",
       "      <th>243</th>\n",
       "      <td>1953</td>\n",
       "      <td>Under 1 year</td>\n",
       "      <td>Both sexes</td>\n",
       "      <td>60.1</td>\n",
       "    </tr>\n",
       "    <tr>\n",
       "      <th>324</th>\n",
       "      <td>1954</td>\n",
       "      <td>Under 1 year</td>\n",
       "      <td>Both sexes</td>\n",
       "      <td>60.1</td>\n",
       "    </tr>\n",
       "  </tbody>\n",
       "</table>\n",
       "</div>"
      ],
      "text/plain": [
       "     Year     Age Group         Sex  Value\n",
       "0    1950  Under 1 year  Both sexes   61.1\n",
       "81   1951  Under 1 year  Both sexes   63.6\n",
       "162  1952  Under 1 year  Both sexes   61.9\n",
       "243  1953  Under 1 year  Both sexes   60.1\n",
       "324  1954  Under 1 year  Both sexes   60.1"
      ]
     },
     "execution_count": 35,
     "metadata": {},
     "output_type": "execute_result"
    }
   ],
   "source": [
    "Under_1_year=df[(df[\"Age Group\"]==\"Under 1 year\")  & (df[\"Sex\"]==\"Both sexes\" )]\n",
    "Under_1_year.head(5)"
   ]
  },
  {
   "cell_type": "code",
   "execution_count": 37,
   "id": "088d90c3",
   "metadata": {},
   "outputs": [
    {
     "data": {
      "text/plain": [
       "(74, 4)"
      ]
     },
     "execution_count": 37,
     "metadata": {},
     "output_type": "execute_result"
    }
   ],
   "source": [
    "Under_1_year.shape"
   ]
  },
  {
   "cell_type": "code",
   "execution_count": 36,
   "id": "ff92b790",
   "metadata": {},
   "outputs": [
    {
     "data": {
      "text/html": [
       "<div>\n",
       "<style scoped>\n",
       "    .dataframe tbody tr th:only-of-type {\n",
       "        vertical-align: middle;\n",
       "    }\n",
       "\n",
       "    .dataframe tbody tr th {\n",
       "        vertical-align: top;\n",
       "    }\n",
       "\n",
       "    .dataframe thead th {\n",
       "        text-align: right;\n",
       "    }\n",
       "</style>\n",
       "<table border=\"1\" class=\"dataframe\">\n",
       "  <thead>\n",
       "    <tr style=\"text-align: right;\">\n",
       "      <th></th>\n",
       "      <th>Year</th>\n",
       "      <th>Age Group</th>\n",
       "      <th>Sex</th>\n",
       "      <th>Value</th>\n",
       "    </tr>\n",
       "  </thead>\n",
       "  <tbody>\n",
       "    <tr>\n",
       "      <th>9</th>\n",
       "      <td>1950</td>\n",
       "      <td>1 - 4 years</td>\n",
       "      <td>Both sexes</td>\n",
       "      <td>249.1</td>\n",
       "    </tr>\n",
       "    <tr>\n",
       "      <th>90</th>\n",
       "      <td>1951</td>\n",
       "      <td>1 - 4 years</td>\n",
       "      <td>Both sexes</td>\n",
       "      <td>249.3</td>\n",
       "    </tr>\n",
       "    <tr>\n",
       "      <th>171</th>\n",
       "      <td>1952</td>\n",
       "      <td>1 - 4 years</td>\n",
       "      <td>Both sexes</td>\n",
       "      <td>248.4</td>\n",
       "    </tr>\n",
       "    <tr>\n",
       "      <th>252</th>\n",
       "      <td>1953</td>\n",
       "      <td>1 - 4 years</td>\n",
       "      <td>Both sexes</td>\n",
       "      <td>248.1</td>\n",
       "    </tr>\n",
       "    <tr>\n",
       "      <th>333</th>\n",
       "      <td>1954</td>\n",
       "      <td>1 - 4 years</td>\n",
       "      <td>Both sexes</td>\n",
       "      <td>245.8</td>\n",
       "    </tr>\n",
       "  </tbody>\n",
       "</table>\n",
       "</div>"
      ],
      "text/plain": [
       "     Year    Age Group         Sex  Value\n",
       "9    1950  1 - 4 years  Both sexes  249.1\n",
       "90   1951  1 - 4 years  Both sexes  249.3\n",
       "171  1952  1 - 4 years  Both sexes  248.4\n",
       "252  1953  1 - 4 years  Both sexes  248.1\n",
       "333  1954  1 - 4 years  Both sexes  245.8"
      ]
     },
     "execution_count": 36,
     "metadata": {},
     "output_type": "execute_result"
    }
   ],
   "source": [
    "both_1_4=df[(df[\"Age Group\"]==\"1 - 4 years\")  & (df[\"Sex\"]==\"Both sexes\" )]\n",
    "both_1_4.head(5)"
   ]
  },
  {
   "cell_type": "code",
   "execution_count": 38,
   "id": "49dd24fb",
   "metadata": {},
   "outputs": [
    {
     "data": {
      "text/plain": [
       "(74, 4)"
      ]
     },
     "execution_count": 38,
     "metadata": {},
     "output_type": "execute_result"
    }
   ],
   "source": [
    "both_1_4.shape"
   ]
  },
  {
   "cell_type": "code",
   "execution_count": 39,
   "id": "08ec2862",
   "metadata": {},
   "outputs": [
    {
     "data": {
      "text/html": [
       "<div>\n",
       "<style scoped>\n",
       "    .dataframe tbody tr th:only-of-type {\n",
       "        vertical-align: middle;\n",
       "    }\n",
       "\n",
       "    .dataframe tbody tr th {\n",
       "        vertical-align: top;\n",
       "    }\n",
       "\n",
       "    .dataframe thead th {\n",
       "        text-align: right;\n",
       "    }\n",
       "</style>\n",
       "<table border=\"1\" class=\"dataframe\">\n",
       "  <thead>\n",
       "    <tr style=\"text-align: right;\">\n",
       "      <th></th>\n",
       "      <th>Year</th>\n",
       "      <th>Age Group</th>\n",
       "      <th>Sex</th>\n",
       "      <th>Value</th>\n",
       "    </tr>\n",
       "  </thead>\n",
       "  <tbody>\n",
       "    <tr>\n",
       "      <th>3</th>\n",
       "      <td>1950</td>\n",
       "      <td>0 - 4 years</td>\n",
       "      <td>Both sexes</td>\n",
       "      <td>310.2</td>\n",
       "    </tr>\n",
       "    <tr>\n",
       "      <th>4</th>\n",
       "      <td>1950</td>\n",
       "      <td>0 - 4 years</td>\n",
       "      <td>Male</td>\n",
       "      <td>158.9</td>\n",
       "    </tr>\n",
       "    <tr>\n",
       "      <th>5</th>\n",
       "      <td>1950</td>\n",
       "      <td>0 - 4 years</td>\n",
       "      <td>Female</td>\n",
       "      <td>151.3</td>\n",
       "    </tr>\n",
       "    <tr>\n",
       "      <th>84</th>\n",
       "      <td>1951</td>\n",
       "      <td>0 - 4 years</td>\n",
       "      <td>Both sexes</td>\n",
       "      <td>312.9</td>\n",
       "    </tr>\n",
       "    <tr>\n",
       "      <th>85</th>\n",
       "      <td>1951</td>\n",
       "      <td>0 - 4 years</td>\n",
       "      <td>Male</td>\n",
       "      <td>160.2</td>\n",
       "    </tr>\n",
       "  </tbody>\n",
       "</table>\n",
       "</div>"
      ],
      "text/plain": [
       "    Year    Age Group         Sex  Value\n",
       "3   1950  0 - 4 years  Both sexes  310.2\n",
       "4   1950  0 - 4 years        Male  158.9\n",
       "5   1950  0 - 4 years      Female  151.3\n",
       "84  1951  0 - 4 years  Both sexes  312.9\n",
       "85  1951  0 - 4 years        Male  160.2"
      ]
     },
     "execution_count": 39,
     "metadata": {},
     "output_type": "execute_result"
    }
   ],
   "source": [
    "all_0_4=df[(df[\"Age Group\"]==\"0 - 4 years\")]\n",
    "all_0_4.head(5)"
   ]
  },
  {
   "cell_type": "code",
   "execution_count": 40,
   "id": "af7c7b39",
   "metadata": {},
   "outputs": [
    {
     "data": {
      "text/plain": [
       "(222, 4)"
      ]
     },
     "execution_count": 40,
     "metadata": {},
     "output_type": "execute_result"
    }
   ],
   "source": [
    "all_0_4.shape"
   ]
  },
  {
   "cell_type": "code",
   "execution_count": 41,
   "id": "cf63d60f",
   "metadata": {
    "scrolled": true
   },
   "outputs": [
    {
     "data": {
      "text/plain": [
       "Year         0\n",
       "Age Group    0\n",
       "Sex          0\n",
       "Value        0\n",
       "dtype: int64"
      ]
     },
     "execution_count": 41,
     "metadata": {},
     "output_type": "execute_result"
    }
   ],
   "source": [
    "all_0_4.isnull().sum()"
   ]
  },
  {
   "cell_type": "code",
   "execution_count": 42,
   "id": "65535b6c",
   "metadata": {},
   "outputs": [],
   "source": [
    "male_0_4=df[(df[\"Age Group\"]==\"0 - 4 years\") & (df[\"Sex\"]==\"Male\")]"
   ]
  },
  {
   "cell_type": "code",
   "execution_count": 43,
   "id": "07d4f1d0",
   "metadata": {},
   "outputs": [
    {
     "data": {
      "text/html": [
       "<div>\n",
       "<style scoped>\n",
       "    .dataframe tbody tr th:only-of-type {\n",
       "        vertical-align: middle;\n",
       "    }\n",
       "\n",
       "    .dataframe tbody tr th {\n",
       "        vertical-align: top;\n",
       "    }\n",
       "\n",
       "    .dataframe thead th {\n",
       "        text-align: right;\n",
       "    }\n",
       "</style>\n",
       "<table border=\"1\" class=\"dataframe\">\n",
       "  <thead>\n",
       "    <tr style=\"text-align: right;\">\n",
       "      <th></th>\n",
       "      <th>Year</th>\n",
       "      <th>Age Group</th>\n",
       "      <th>Sex</th>\n",
       "      <th>Value</th>\n",
       "    </tr>\n",
       "  </thead>\n",
       "  <tbody>\n",
       "    <tr>\n",
       "      <th>4</th>\n",
       "      <td>1950</td>\n",
       "      <td>0 - 4 years</td>\n",
       "      <td>Male</td>\n",
       "      <td>158.9</td>\n",
       "    </tr>\n",
       "    <tr>\n",
       "      <th>85</th>\n",
       "      <td>1951</td>\n",
       "      <td>0 - 4 years</td>\n",
       "      <td>Male</td>\n",
       "      <td>160.2</td>\n",
       "    </tr>\n",
       "    <tr>\n",
       "      <th>166</th>\n",
       "      <td>1952</td>\n",
       "      <td>0 - 4 years</td>\n",
       "      <td>Male</td>\n",
       "      <td>158.7</td>\n",
       "    </tr>\n",
       "    <tr>\n",
       "      <th>247</th>\n",
       "      <td>1953</td>\n",
       "      <td>0 - 4 years</td>\n",
       "      <td>Male</td>\n",
       "      <td>157.5</td>\n",
       "    </tr>\n",
       "    <tr>\n",
       "      <th>328</th>\n",
       "      <td>1954</td>\n",
       "      <td>0 - 4 years</td>\n",
       "      <td>Male</td>\n",
       "      <td>156.2</td>\n",
       "    </tr>\n",
       "  </tbody>\n",
       "</table>\n",
       "</div>"
      ],
      "text/plain": [
       "     Year    Age Group   Sex  Value\n",
       "4    1950  0 - 4 years  Male  158.9\n",
       "85   1951  0 - 4 years  Male  160.2\n",
       "166  1952  0 - 4 years  Male  158.7\n",
       "247  1953  0 - 4 years  Male  157.5\n",
       "328  1954  0 - 4 years  Male  156.2"
      ]
     },
     "execution_count": 43,
     "metadata": {},
     "output_type": "execute_result"
    }
   ],
   "source": [
    "male_0_4.head(5)"
   ]
  },
  {
   "cell_type": "code",
   "execution_count": 44,
   "id": "f3163208",
   "metadata": {},
   "outputs": [
    {
     "data": {
      "text/plain": [
       "(74, 4)"
      ]
     },
     "execution_count": 44,
     "metadata": {},
     "output_type": "execute_result"
    }
   ],
   "source": [
    "male_0_4.shape"
   ]
  },
  {
   "cell_type": "code",
   "execution_count": 45,
   "id": "3d04082f",
   "metadata": {},
   "outputs": [
    {
     "data": {
      "text/plain": [
       "Year         0\n",
       "Age Group    0\n",
       "Sex          0\n",
       "Value        0\n",
       "dtype: int64"
      ]
     },
     "execution_count": 45,
     "metadata": {},
     "output_type": "execute_result"
    }
   ],
   "source": [
    "male_0_4.isnull().sum()"
   ]
  },
  {
   "cell_type": "code",
   "execution_count": 46,
   "id": "65c29d64",
   "metadata": {},
   "outputs": [],
   "source": [
    "year_1950=df[(df[\"Year\"]==2022) & (df[\"Sex\"]==\"Both sexes\")]"
   ]
  },
  {
   "cell_type": "code",
   "execution_count": 47,
   "id": "730aa907",
   "metadata": {
    "scrolled": false
   },
   "outputs": [
    {
     "name": "stdout",
     "output_type": "stream",
     "text": [
      "Shape=  (27, 4) \n",
      "\n",
      "      Year     Age Group         Sex   Value\n",
      "5832  2022  Under 1 year  Both sexes    57.7\n",
      "5835  2022   0 - 4 years  Both sexes   295.9\n",
      "5838  2022  0 - 14 years  Both sexes  1014.3\n",
      "5841  2022   1 - 4 years  Both sexes   238.2\n",
      "5844  2022   5 - 9 years  Both sexes   343.6\n"
     ]
    }
   ],
   "source": [
    "print(\"Shape= \",year_1950.shape,\"\\n\")\n",
    "print(year_1950.head(5))"
   ]
  },
  {
   "cell_type": "code",
   "execution_count": 48,
   "id": "5d95c581",
   "metadata": {
    "scrolled": false
   },
   "outputs": [
    {
     "data": {
      "text/html": [
       "<div>\n",
       "<style scoped>\n",
       "    .dataframe tbody tr th:only-of-type {\n",
       "        vertical-align: middle;\n",
       "    }\n",
       "\n",
       "    .dataframe tbody tr th {\n",
       "        vertical-align: top;\n",
       "    }\n",
       "\n",
       "    .dataframe thead th {\n",
       "        text-align: right;\n",
       "    }\n",
       "</style>\n",
       "<table border=\"1\" class=\"dataframe\">\n",
       "  <thead>\n",
       "    <tr style=\"text-align: right;\">\n",
       "      <th></th>\n",
       "      <th>Year</th>\n",
       "      <th>Age Group</th>\n",
       "      <th>Sex</th>\n",
       "      <th>Value</th>\n",
       "    </tr>\n",
       "  </thead>\n",
       "  <tbody>\n",
       "    <tr>\n",
       "      <th>5832</th>\n",
       "      <td>2022</td>\n",
       "      <td>Under 1 year</td>\n",
       "      <td>Both sexes</td>\n",
       "      <td>57.7</td>\n",
       "    </tr>\n",
       "    <tr>\n",
       "      <th>5835</th>\n",
       "      <td>2022</td>\n",
       "      <td>0 - 4 years</td>\n",
       "      <td>Both sexes</td>\n",
       "      <td>295.9</td>\n",
       "    </tr>\n",
       "    <tr>\n",
       "      <th>5838</th>\n",
       "      <td>2022</td>\n",
       "      <td>0 - 14 years</td>\n",
       "      <td>Both sexes</td>\n",
       "      <td>1014.3</td>\n",
       "    </tr>\n",
       "    <tr>\n",
       "      <th>5841</th>\n",
       "      <td>2022</td>\n",
       "      <td>1 - 4 years</td>\n",
       "      <td>Both sexes</td>\n",
       "      <td>238.2</td>\n",
       "    </tr>\n",
       "    <tr>\n",
       "      <th>5844</th>\n",
       "      <td>2022</td>\n",
       "      <td>5 - 9 years</td>\n",
       "      <td>Both sexes</td>\n",
       "      <td>343.6</td>\n",
       "    </tr>\n",
       "    <tr>\n",
       "      <th>5847</th>\n",
       "      <td>2022</td>\n",
       "      <td>10 - 14 years</td>\n",
       "      <td>Both sexes</td>\n",
       "      <td>374.9</td>\n",
       "    </tr>\n",
       "    <tr>\n",
       "      <th>5850</th>\n",
       "      <td>2022</td>\n",
       "      <td>15 - 19 years</td>\n",
       "      <td>Both sexes</td>\n",
       "      <td>337.8</td>\n",
       "    </tr>\n",
       "    <tr>\n",
       "      <th>5853</th>\n",
       "      <td>2022</td>\n",
       "      <td>15 - 24 years</td>\n",
       "      <td>Both sexes</td>\n",
       "      <td>649.7</td>\n",
       "    </tr>\n",
       "    <tr>\n",
       "      <th>5856</th>\n",
       "      <td>2022</td>\n",
       "      <td>15 years and over</td>\n",
       "      <td>Both sexes</td>\n",
       "      <td>4169.7</td>\n",
       "    </tr>\n",
       "    <tr>\n",
       "      <th>5859</th>\n",
       "      <td>2022</td>\n",
       "      <td>20 - 24 years</td>\n",
       "      <td>Both sexes</td>\n",
       "      <td>311.9</td>\n",
       "    </tr>\n",
       "    <tr>\n",
       "      <th>5862</th>\n",
       "      <td>2022</td>\n",
       "      <td>25 - 29 years</td>\n",
       "      <td>Both sexes</td>\n",
       "      <td>299.1</td>\n",
       "    </tr>\n",
       "    <tr>\n",
       "      <th>5865</th>\n",
       "      <td>2022</td>\n",
       "      <td>25 - 44 years</td>\n",
       "      <td>Both sexes</td>\n",
       "      <td>1434.2</td>\n",
       "    </tr>\n",
       "    <tr>\n",
       "      <th>5868</th>\n",
       "      <td>2022</td>\n",
       "      <td>30 - 34 years</td>\n",
       "      <td>Both sexes</td>\n",
       "      <td>334.5</td>\n",
       "    </tr>\n",
       "    <tr>\n",
       "      <th>5871</th>\n",
       "      <td>2022</td>\n",
       "      <td>35 - 39 years</td>\n",
       "      <td>Both sexes</td>\n",
       "      <td>385.8</td>\n",
       "    </tr>\n",
       "    <tr>\n",
       "      <th>5874</th>\n",
       "      <td>2022</td>\n",
       "      <td>40 - 44 years</td>\n",
       "      <td>Both sexes</td>\n",
       "      <td>414.7</td>\n",
       "    </tr>\n",
       "    <tr>\n",
       "      <th>5877</th>\n",
       "      <td>2022</td>\n",
       "      <td>45 - 49 years</td>\n",
       "      <td>Both sexes</td>\n",
       "      <td>376.0</td>\n",
       "    </tr>\n",
       "    <tr>\n",
       "      <th>5880</th>\n",
       "      <td>2022</td>\n",
       "      <td>45 - 64 years</td>\n",
       "      <td>Both sexes</td>\n",
       "      <td>1304.5</td>\n",
       "    </tr>\n",
       "    <tr>\n",
       "      <th>5883</th>\n",
       "      <td>2022</td>\n",
       "      <td>50 - 54 years</td>\n",
       "      <td>Both sexes</td>\n",
       "      <td>342.9</td>\n",
       "    </tr>\n",
       "    <tr>\n",
       "      <th>5886</th>\n",
       "      <td>2022</td>\n",
       "      <td>55 - 59 years</td>\n",
       "      <td>Both sexes</td>\n",
       "      <td>309.7</td>\n",
       "    </tr>\n",
       "    <tr>\n",
       "      <th>5889</th>\n",
       "      <td>2022</td>\n",
       "      <td>60 - 64 years</td>\n",
       "      <td>Both sexes</td>\n",
       "      <td>275.8</td>\n",
       "    </tr>\n",
       "    <tr>\n",
       "      <th>5892</th>\n",
       "      <td>2022</td>\n",
       "      <td>65 - 69 years</td>\n",
       "      <td>Both sexes</td>\n",
       "      <td>240.5</td>\n",
       "    </tr>\n",
       "    <tr>\n",
       "      <th>5895</th>\n",
       "      <td>2022</td>\n",
       "      <td>65 years and over</td>\n",
       "      <td>Both sexes</td>\n",
       "      <td>781.3</td>\n",
       "    </tr>\n",
       "    <tr>\n",
       "      <th>5898</th>\n",
       "      <td>2022</td>\n",
       "      <td>70 - 74 years</td>\n",
       "      <td>Both sexes</td>\n",
       "      <td>204.7</td>\n",
       "    </tr>\n",
       "    <tr>\n",
       "      <th>5901</th>\n",
       "      <td>2022</td>\n",
       "      <td>75 - 79 years</td>\n",
       "      <td>Both sexes</td>\n",
       "      <td>155.0</td>\n",
       "    </tr>\n",
       "    <tr>\n",
       "      <th>5904</th>\n",
       "      <td>2022</td>\n",
       "      <td>80 - 84 years</td>\n",
       "      <td>Both sexes</td>\n",
       "      <td>96.8</td>\n",
       "    </tr>\n",
       "    <tr>\n",
       "      <th>5907</th>\n",
       "      <td>2022</td>\n",
       "      <td>85 years and over</td>\n",
       "      <td>Both sexes</td>\n",
       "      <td>84.4</td>\n",
       "    </tr>\n",
       "    <tr>\n",
       "      <th>5910</th>\n",
       "      <td>2022</td>\n",
       "      <td>All ages</td>\n",
       "      <td>Both sexes</td>\n",
       "      <td>5184.0</td>\n",
       "    </tr>\n",
       "  </tbody>\n",
       "</table>\n",
       "</div>"
      ],
      "text/plain": [
       "      Year          Age Group         Sex   Value\n",
       "5832  2022       Under 1 year  Both sexes    57.7\n",
       "5835  2022        0 - 4 years  Both sexes   295.9\n",
       "5838  2022       0 - 14 years  Both sexes  1014.3\n",
       "5841  2022        1 - 4 years  Both sexes   238.2\n",
       "5844  2022        5 - 9 years  Both sexes   343.6\n",
       "5847  2022      10 - 14 years  Both sexes   374.9\n",
       "5850  2022      15 - 19 years  Both sexes   337.8\n",
       "5853  2022      15 - 24 years  Both sexes   649.7\n",
       "5856  2022  15 years and over  Both sexes  4169.7\n",
       "5859  2022      20 - 24 years  Both sexes   311.9\n",
       "5862  2022      25 - 29 years  Both sexes   299.1\n",
       "5865  2022      25 - 44 years  Both sexes  1434.2\n",
       "5868  2022      30 - 34 years  Both sexes   334.5\n",
       "5871  2022      35 - 39 years  Both sexes   385.8\n",
       "5874  2022      40 - 44 years  Both sexes   414.7\n",
       "5877  2022      45 - 49 years  Both sexes   376.0\n",
       "5880  2022      45 - 64 years  Both sexes  1304.5\n",
       "5883  2022      50 - 54 years  Both sexes   342.9\n",
       "5886  2022      55 - 59 years  Both sexes   309.7\n",
       "5889  2022      60 - 64 years  Both sexes   275.8\n",
       "5892  2022      65 - 69 years  Both sexes   240.5\n",
       "5895  2022  65 years and over  Both sexes   781.3\n",
       "5898  2022      70 - 74 years  Both sexes   204.7\n",
       "5901  2022      75 - 79 years  Both sexes   155.0\n",
       "5904  2022      80 - 84 years  Both sexes    96.8\n",
       "5907  2022  85 years and over  Both sexes    84.4\n",
       "5910  2022           All ages  Both sexes  5184.0"
      ]
     },
     "execution_count": 48,
     "metadata": {},
     "output_type": "execute_result"
    }
   ],
   "source": [
    "year_1950.head(27)"
   ]
  },
  {
   "cell_type": "code",
   "execution_count": 50,
   "id": "bfc21690",
   "metadata": {},
   "outputs": [
    {
     "name": "stdout",
     "output_type": "stream",
     "text": [
      "Toplam Değer: 20017.6\n"
     ]
    }
   ],
   "source": [
    "total_value = year_1950['Value'].sum()\n",
    "print(\"Toplam Değer:\", total_value)"
   ]
  },
  {
   "cell_type": "code",
   "execution_count": 54,
   "id": "d128722c",
   "metadata": {},
   "outputs": [],
   "source": [
    "#df[\"Value\"]=df[\"Value\"]*1000\n",
    "#df[\"Value\"]=df[\"Value\"]/100"
   ]
  },
  {
   "cell_type": "code",
   "execution_count": 55,
   "id": "32c4a835",
   "metadata": {
    "scrolled": false
   },
   "outputs": [
    {
     "data": {
      "text/html": [
       "<div>\n",
       "<style scoped>\n",
       "    .dataframe tbody tr th:only-of-type {\n",
       "        vertical-align: middle;\n",
       "    }\n",
       "\n",
       "    .dataframe tbody tr th {\n",
       "        vertical-align: top;\n",
       "    }\n",
       "\n",
       "    .dataframe thead th {\n",
       "        text-align: right;\n",
       "    }\n",
       "</style>\n",
       "<table border=\"1\" class=\"dataframe\">\n",
       "  <thead>\n",
       "    <tr style=\"text-align: right;\">\n",
       "      <th></th>\n",
       "      <th>Year</th>\n",
       "      <th>Age Group</th>\n",
       "      <th>Sex</th>\n",
       "      <th>Value</th>\n",
       "    </tr>\n",
       "  </thead>\n",
       "  <tbody>\n",
       "    <tr>\n",
       "      <th>0</th>\n",
       "      <td>1950</td>\n",
       "      <td>Under 1 year</td>\n",
       "      <td>Both sexes</td>\n",
       "      <td>61.1</td>\n",
       "    </tr>\n",
       "    <tr>\n",
       "      <th>1</th>\n",
       "      <td>1950</td>\n",
       "      <td>Under 1 year</td>\n",
       "      <td>Male</td>\n",
       "      <td>31.4</td>\n",
       "    </tr>\n",
       "    <tr>\n",
       "      <th>2</th>\n",
       "      <td>1950</td>\n",
       "      <td>Under 1 year</td>\n",
       "      <td>Female</td>\n",
       "      <td>29.7</td>\n",
       "    </tr>\n",
       "    <tr>\n",
       "      <th>3</th>\n",
       "      <td>1950</td>\n",
       "      <td>0 - 4 years</td>\n",
       "      <td>Both sexes</td>\n",
       "      <td>310.2</td>\n",
       "    </tr>\n",
       "    <tr>\n",
       "      <th>4</th>\n",
       "      <td>1950</td>\n",
       "      <td>0 - 4 years</td>\n",
       "      <td>Male</td>\n",
       "      <td>158.9</td>\n",
       "    </tr>\n",
       "    <tr>\n",
       "      <th>...</th>\n",
       "      <td>...</td>\n",
       "      <td>...</td>\n",
       "      <td>...</td>\n",
       "      <td>...</td>\n",
       "    </tr>\n",
       "    <tr>\n",
       "      <th>5989</th>\n",
       "      <td>2023</td>\n",
       "      <td>85 years and over</td>\n",
       "      <td>Male</td>\n",
       "      <td>33.1</td>\n",
       "    </tr>\n",
       "    <tr>\n",
       "      <th>5990</th>\n",
       "      <td>2023</td>\n",
       "      <td>85 years and over</td>\n",
       "      <td>Female</td>\n",
       "      <td>53.9</td>\n",
       "    </tr>\n",
       "    <tr>\n",
       "      <th>5991</th>\n",
       "      <td>2023</td>\n",
       "      <td>All ages</td>\n",
       "      <td>Both sexes</td>\n",
       "      <td>5281.6</td>\n",
       "    </tr>\n",
       "    <tr>\n",
       "      <th>5992</th>\n",
       "      <td>2023</td>\n",
       "      <td>All ages</td>\n",
       "      <td>Male</td>\n",
       "      <td>2606.2</td>\n",
       "    </tr>\n",
       "    <tr>\n",
       "      <th>5993</th>\n",
       "      <td>2023</td>\n",
       "      <td>All ages</td>\n",
       "      <td>Female</td>\n",
       "      <td>2675.4</td>\n",
       "    </tr>\n",
       "  </tbody>\n",
       "</table>\n",
       "<p>5994 rows × 4 columns</p>\n",
       "</div>"
      ],
      "text/plain": [
       "      Year          Age Group         Sex   Value\n",
       "0     1950       Under 1 year  Both sexes    61.1\n",
       "1     1950       Under 1 year        Male    31.4\n",
       "2     1950       Under 1 year      Female    29.7\n",
       "3     1950        0 - 4 years  Both sexes   310.2\n",
       "4     1950        0 - 4 years        Male   158.9\n",
       "...    ...                ...         ...     ...\n",
       "5989  2023  85 years and over        Male    33.1\n",
       "5990  2023  85 years and over      Female    53.9\n",
       "5991  2023           All ages  Both sexes  5281.6\n",
       "5992  2023           All ages        Male  2606.2\n",
       "5993  2023           All ages      Female  2675.4\n",
       "\n",
       "[5994 rows x 4 columns]"
      ]
     },
     "execution_count": 55,
     "metadata": {},
     "output_type": "execute_result"
    }
   ],
   "source": [
    "df"
   ]
  },
  {
   "cell_type": "code",
   "execution_count": 56,
   "id": "e839934c",
   "metadata": {
    "scrolled": true
   },
   "outputs": [
    {
     "data": {
      "text/plain": [
       "Year         5994\n",
       "Age Group    5994\n",
       "Sex          5994\n",
       "Value        5994\n",
       "dtype: int64"
      ]
     },
     "execution_count": 56,
     "metadata": {},
     "output_type": "execute_result"
    }
   ],
   "source": [
    "df.count()"
   ]
  },
  {
   "cell_type": "code",
   "execution_count": 57,
   "id": "420bc72f",
   "metadata": {},
   "outputs": [
    {
     "data": {
      "text/plain": [
       "<Axes: xlabel='Value'>"
      ]
     },
     "execution_count": 57,
     "metadata": {},
     "output_type": "execute_result"
    },
    {
     "data": {
      "image/png": "[encoded data removed]",
      "text/plain": [
       "<Figure size 640x480 with 1 Axes>"
      ]
     },
     "metadata": {},
     "output_type": "display_data"
    }
   ],
   "source": [
    "sns.boxplot(x=df[\"Value\"])"
   ]
  },
  {
   "cell_type": "code",
   "execution_count": 58,
   "id": "09169632",
   "metadata": {},
   "outputs": [
    {
     "name": "stdout",
     "output_type": "stream",
     "text": [
      "Year      37.00\n",
      "Value    227.15\n",
      "dtype: float64\n"
     ]
    },
    {
     "name": "stderr",
     "output_type": "stream",
     "text": [
      "C:\\Users\\TUNA\\AppData\\Local\\Temp\\ipykernel_13676\\2377082437.py:1: FutureWarning: The default value of numeric_only in DataFrame.quantile is deprecated. In a future version, it will default to False. Select only valid columns or specify the value of numeric_only to silence this warning.\n",
      "  Q1=df.quantile(0.25)\n",
      "C:\\Users\\TUNA\\AppData\\Local\\Temp\\ipykernel_13676\\2377082437.py:2: FutureWarning: The default value of numeric_only in DataFrame.quantile is deprecated. In a future version, it will default to False. Select only valid columns or specify the value of numeric_only to silence this warning.\n",
      "  Q3=df.quantile(0.75)\n"
     ]
    }
   ],
   "source": [
    "Q1=df.quantile(0.25)\n",
    "Q3=df.quantile(0.75)\n",
    "IQR=Q3-Q1\n",
    "print(IQR)"
   ]
  },
  {
   "cell_type": "code",
   "execution_count": 59,
   "id": "9456855c",
   "metadata": {},
   "outputs": [],
   "source": [
    "lower_bound = Q1 - 1.5 * IQR\n",
    "upper_bound = Q3 + 1.5 * IQR"
   ]
  },
  {
   "cell_type": "code",
   "execution_count": 60,
   "id": "b59d4860",
   "metadata": {},
   "outputs": [
    {
     "name": "stderr",
     "output_type": "stream",
     "text": [
      "C:\\Users\\TUNA\\AppData\\Local\\Temp\\ipykernel_13676\\2729132471.py:1: FutureWarning: Automatic reindexing on DataFrame vs Series comparisons is deprecated and will raise ValueError in a future version. Do `left, right = left.align(right, axis=1, copy=False)` before e.g. `left == right`\n",
      "  outliers = (df < lower_bound) | (df > upper_bound)\n"
     ]
    }
   ],
   "source": [
    "outliers = (df < lower_bound) | (df > upper_bound)"
   ]
  },
  {
   "cell_type": "code",
   "execution_count": 61,
   "id": "bfdd12cc",
   "metadata": {},
   "outputs": [],
   "source": [
    "outliers_df = df[outliers.any(axis=1)]"
   ]
  },
  {
   "cell_type": "code",
   "execution_count": null,
   "id": "602220bf",
   "metadata": {
    "scrolled": false
   },
   "outputs": [],
   "source": [
    "outliers_df"
   ]
  },
  {
   "cell_type": "code",
   "execution_count": null,
   "id": "8b976858",
   "metadata": {},
   "outputs": [],
   "source": [
    "df"
   ]
  },
  {
   "cell_type": "code",
   "execution_count": null,
   "id": "c55a9b11",
   "metadata": {},
   "outputs": [],
   "source": [
    "df.hist(column=\"Value\",bins=20)"
   ]
  },
  {
   "cell_type": "code",
   "execution_count": null,
   "id": "62babd5f",
   "metadata": {},
   "outputs": [],
   "source": [
    "df[\"Age Group\"].unique()"
   ]
  },
  {
   "cell_type": "code",
   "execution_count": null,
   "id": "0c2f0540",
   "metadata": {},
   "outputs": [],
   "source": [
    "Age_Group_Value_Counts=pd.crosstab(index=df[\"Age Group\"],columns=\"Value\")"
   ]
  },
  {
   "cell_type": "code",
   "execution_count": null,
   "id": "a24a1bee",
   "metadata": {},
   "outputs": [],
   "source": [
    "Age_Group_Value_Counts"
   ]
  },
  {
   "cell_type": "code",
   "execution_count": null,
   "id": "244955ff",
   "metadata": {},
   "outputs": [],
   "source": [
    "from numpy import median, mean"
   ]
  },
  {
   "cell_type": "code",
   "execution_count": null,
   "id": "7c802cdc",
   "metadata": {},
   "outputs": [],
   "source": [
    "sns.set(style=\"whitegrid\")"
   ]
  },
  {
   "cell_type": "code",
   "execution_count": null,
   "id": "ff52690e",
   "metadata": {},
   "outputs": [],
   "source": [
    "plt.figure(figsize=(12,6))\n",
    "ax = sns.barplot(x=\"Age Group\", y=\"Value\", hue=\"Age Group\", data=df)\n",
    "plt.xticks(rotation=90)\n",
    "plt.legend(loc=\"upper right\",bbox_to_anchor=(1.2,1))"
   ]
  },
  {
   "cell_type": "code",
   "execution_count": null,
   "id": "0bb21858",
   "metadata": {},
   "outputs": [],
   "source": [
    "plt.figure(figsize=(12,6))\n",
    "sns.scatterplot(data=df,x=\"Age Group\",y=\"Value\",hue=\"Sex\");\n",
    "plt.xticks(rotation=90);\n",
    "plt.legend(loc=\"upper right\",bbox_to_anchor=(1.2,1))"
   ]
  },
  {
   "cell_type": "code",
   "execution_count": null,
   "id": "a5f42f94",
   "metadata": {},
   "outputs": [],
   "source": [
    "plt.figure(figsize=(12,6))\n",
    "sns.scatterplot(data=df,x=\"Year\",y=\"Value\",hue=\"Age Group\");\n",
    "plt.ylabel(\"Value (Thousand)\")\n",
    "plt.xticks(rotation=90);\n",
    "plt.legend(loc=\"upper right\",bbox_to_anchor=(1.2,1));"
   ]
  },
  {
   "cell_type": "code",
   "execution_count": null,
   "id": "b41e6215",
   "metadata": {
    "scrolled": false
   },
   "outputs": [],
   "source": [
    "import math\n",
    "subset_0_14_years=df[(df[\"Age Group\"]==\"0 - 14 years\")]\n",
    "print(subset_0_14_years,\"\\n\\n\")\n",
    "print(\"Minimum value:\\n\",subset_0_14_years.min(),\"\\n\")\n",
    "print(\"Maximum value:\\n\",subset_0_14_years.max(),\"\\n\")"
   ]
  },
  {
   "cell_type": "code",
   "execution_count": null,
   "id": "49d2e093",
   "metadata": {},
   "outputs": [],
   "source": [
    "#min_value=(subset_0_14_years[\"Value\"].apply(math.ceil).min())-1\n",
    "#max_value=subset_0_14_years[\"Value\"].max()\n",
    "min_value=subset_0_14_years[\"Value\"].apply(lambda x: (math.ceil(x/100)*100)-100).min()\n",
    "max_value=subset_0_14_years[\"Value\"].apply(lambda x: math.ceil(x/100)*100).max()\n",
    "plt.figure(figsize=(12,6))\n",
    "sns.scatterplot(data=subset_0_14_years,x=\"Year\",y=\"Value\",hue=\"Sex\");\n",
    "plt.xticks(rotation=90);\n",
    "plt.ylabel(\"Value (Thousand)\")\n",
    "plt.yticks(np.arange(min_value, max_value, step=30))\n",
    "plt.legend(loc=\"upper right\",bbox_to_anchor=(1.16,1.02));"
   ]
  },
  {
   "cell_type": "code",
   "execution_count": null,
   "id": "9a5bd08c",
   "metadata": {},
   "outputs": [],
   "source": [
    "#min_value=(subset_0_14_years[\"Value\"].apply(math.ceil).min())-1\n",
    "max_value=subset_0_14_years[\"Value\"].max()\n",
    "min_value=subset_0_14_years[\"Value\"].apply(lambda x: (math.ceil(x/100)*100)-100).min()\n",
    "plt.figure(figsize=(12,6))\n",
    "sns.scatterplot(data=subset_0_14_years,x=\"Year\",y=\"Value\",hue=\"Sex\");\n",
    "plt.xticks(rotation=90);\n",
    "plt.ylabel(\"Value (Thousand)\")\n",
    "\n",
    "plt.yticks(np.arange(min_value, max_value, step=30))\n",
    "plt.legend(loc=\"upper right\",bbox_to_anchor=(1.16,1.02));"
   ]
  },
  {
   "cell_type": "code",
   "execution_count": null,
   "id": "5fa70076",
   "metadata": {
    "scrolled": false
   },
   "outputs": [],
   "source": [
    "plt.figure(figsize=(12,6))\n",
    "sns.scatterplot(data=subset_0_14_years,x=\"Year\",y=\"Value\",hue=\"Sex\");\n",
    "plt.xticks(rotation=90);\n",
    "plt.ylabel(\"Value (Thousand)\")\n",
    "plt.legend(loc=\"upper right\",bbox_to_anchor=(1.16,1.02));"
   ]
  },
  {
   "cell_type": "code",
   "execution_count": null,
   "id": "b074ae07",
   "metadata": {
    "scrolled": false
   },
   "outputs": [],
   "source": [
    "fig, ax = plt.subplots(figsize=(12,6))\n",
    "ax.scatter(subset_0_14_years[\"Year\"], subset_0_14_years[\"Value\"])\n",
    "ax.set_title(\"Value By Years\")\n",
    "ax.set_xlabel(\"Year\")\n",
    "ax.set_ylabel(\"Value\")\n",
    "plt.show()"
   ]
  },
  {
   "cell_type": "code",
   "execution_count": null,
   "id": "fc24ca7b",
   "metadata": {},
   "outputs": [],
   "source": [
    "subset_0_4_years=df[(df[\"Age Group\"]==\"0 - 4 years\") & (df[\"Sex\"]==\"Male\")]\n",
    "print(subset_0_4_years.head(),\"\\n\\n\")\n",
    "print(\"Minimum value:\\n\",subset_0_4_years.min(),\"\\n\")\n",
    "print(\"Maximum value:\\n\",subset_0_4_years.max(),\"\\n\")"
   ]
  },
  {
   "cell_type": "code",
   "execution_count": null,
   "id": "cac1ff4f",
   "metadata": {},
   "outputs": [],
   "source": [
    "fig, ax = plt.subplots(figsize=(10,6))\n",
    "ax.scatter(df[\"Age Group\"], df[\"Value\"])\n",
    "ax.set_xlabel(\"Age Group\")\n",
    "plt.xticks(rotation=90)\n",
    "ax.set_ylabel(\"Value\")\n",
    "plt.title(\"Value By Age Group\")\n",
    "plt.show()"
   ]
  },
  {
   "cell_type": "code",
   "execution_count": null,
   "id": "36d5e780",
   "metadata": {},
   "outputs": [],
   "source": [
    "fig, ax = plt.subplots(figsize=(10,6))\n",
    "ax.scatter(df[\"Age Group\"]==\"0 - 14 years\", df[\"Value\"])\n",
    "ax.set_xlabel(\"Age Group\")\n",
    "ax.set_ylabel(\"Value\")\n",
    "plt.show()"
   ]
  },
  {
   "cell_type": "code",
   "execution_count": null,
   "id": "a06b2e9a",
   "metadata": {},
   "outputs": [],
   "source": [
    "\n",
    "# # Kategorik verileri sayısal olarak kodlayalım\n",
    "# df['Age Group Code'] = pd.Categorical(df['Age Group']).codes\n",
    "\n",
    "# # Sütunları x, y ve renk olarak kullanarak scatter plot oluşturun\n",
    "# fig, ax = plt.subplots(figsize=(12, 10))\n",
    "# scatter = ax.scatter(df[\"Year\"], df[\"Value\"], c=df[\"Age Group Code\"], cmap='viridis', marker='o')\n",
    "\n",
    "# # Renk skalasını oluşturun ve eksen etiketlerini ayarlayın\n",
    "# cbar = plt.colorbar(scatter)\n",
    "# cbar.set_label(\"Age Group\")\n",
    "# ax.set_xlabel(\"Year\")\n",
    "# ax.set_ylabel(\"Value\")\n",
    "# plt.show()\n",
    "\n",
    "\n"
   ]
  },
  {
   "cell_type": "code",
   "execution_count": null,
   "id": "7ed41bb6",
   "metadata": {},
   "outputs": [],
   "source": [
    "# df[\"Age Group\"].unique()"
   ]
  },
  {
   "cell_type": "code",
   "execution_count": null,
   "id": "4745c703",
   "metadata": {},
   "outputs": [],
   "source": [
    "# # Belirlediğiniz renk listesi\n",
    "# colors = ['red', 'green', 'blue', 'orange', 'purple']\n",
    "\n",
    "# # Her bir \"Age Group\" kategorisi için \"VALUE\" sütununun ortalamasını hesaplayalım\n",
    "# grouped_data = df.groupby('Age Group')['Value'].mean()\n",
    "\n",
    "# # Çubuk grafik oluşturalım ve belirlediğiniz renkleri kullanalım\n",
    "# fig, ax = plt.subplots(figsize=(10, 6))\n",
    "# grouped_data.plot(kind='bar', ax=ax, color=colors)\n",
    "# ax.set_xlabel(\"Age Group\")\n",
    "# ax.set_ylabel(\"Average Value\")\n",
    "# plt.show()"
   ]
  },
  {
   "cell_type": "code",
   "execution_count": null,
   "id": "a2a5a0c8",
   "metadata": {},
   "outputs": [],
   "source": [
    "# # Kategorik verileri sayısal olarak kodlayalım\n",
    "# age_group_order = [\n",
    "#     'Under 1 year', '0 - 4 years', '0 - 14 years', '1 - 4 years', '5 - 9 years', '10 - 14 years',\n",
    "#     '15 - 19 years', '15 - 24 years', '15 years and over', '20 - 24 years',\n",
    "#     '25 - 29 years', '25 - 44 years', '30 - 34 years', '35 - 39 years', '40 - 44 years',\n",
    "#     '45 - 49 years', '45 - 64 years', '50 - 54 years', '55 - 59 years',\n",
    "#     '60 - 64 years', '65 - 69 years', '65 years and over', '70 - 74 years',\n",
    "#     '75 - 79 years', '80 - 84 years', '85 years and over', 'All ages'\n",
    "# ]\n",
    "\n",
    "# df['Age Group'] = pd.Categorical(df['Age Group'], categories=age_group_order, ordered=True)\n",
    "# df['Age Group Code'] = df['Age Group'].cat.codes\n",
    "\n",
    "# # Sütunları x, y ve renk olarak kullanarak scatter plot oluşturun\n",
    "# fig, ax = plt.subplots(figsize=(12, 10))\n",
    "# scatter = ax.scatter(df[\"Year\"], df[\"Value\"], c=df[\"Age Group Code\"], cmap='viridis', marker='o')\n",
    "\n",
    "# # Renk skalasını oluşturun ve eksen etiketlerini ayarlayın\n",
    "# cbar = plt.colorbar(scatter)\n",
    "# cbar.set_label(\"Age Group\")\n",
    "# ax.set_xlabel(\"Year\")\n",
    "# ax.set_ylabel(\"Value\")\n",
    "# plt.show()"
   ]
  },
  {
   "cell_type": "code",
   "execution_count": null,
   "id": "9a63185b",
   "metadata": {},
   "outputs": [],
   "source": []
  },
  {
   "cell_type": "code",
   "execution_count": null,
   "id": "56d35149",
   "metadata": {},
   "outputs": [],
   "source": []
  },
  {
   "cell_type": "code",
   "execution_count": null,
   "id": "73125c27",
   "metadata": {},
   "outputs": [],
   "source": []
  },
  {
   "cell_type": "code",
   "execution_count": null,
   "id": "6d825b57",
   "metadata": {},
   "outputs": [],
   "source": []
  },
  {
   "cell_type": "code",
   "execution_count": null,
   "id": "53cfcce6",
   "metadata": {},
   "outputs": [],
   "source": []
  },
  {
   "cell_type": "code",
   "execution_count": null,
   "id": "1c806394",
   "metadata": {},
   "outputs": [],
   "source": []
  },
  {
   "cell_type": "code",
   "execution_count": null,
   "id": "07662b99",
   "metadata": {},
   "outputs": [],
   "source": []
  }
 ],
 "metadata": {
  "kernelspec": {
   "display_name": "Python 3 (ipykernel)",
   "language": "python",
   "name": "python3"
  },
  "language_info": {
   "codemirror_mode": {
    "name": "ipython",
    "version": 3
   },
   "file_extension": ".py",
   "mimetype": "text/x-python",
   "name": "python",
   "nbconvert_exporter": "python",
   "pygments_lexer": "ipython3",
   "version": "3.11.4"
  }
 },
 "nbformat": 4,
 "nbformat_minor": 5
}
